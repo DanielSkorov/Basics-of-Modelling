{
 "cells": [
  {
   "cell_type": "code",
   "execution_count": 1,
   "id": "dc583e7c",
   "metadata": {
    "tags": [
     "hide-input"
    ]
   },
   "outputs": [],
   "source": [
    "import numpy as np"
   ]
  },
  {
   "cell_type": "markdown",
   "id": "b999808c",
   "metadata": {},
   "source": [
    "<a id='math-lab-eigen'></a>\n",
    "# Собственные векторы и значения матриц"
   ]
  },
  {
   "cell_type": "markdown",
   "id": "cba4809d",
   "metadata": {},
   "source": [
    "Пусть дана матрица:"
   ]
  },
  {
   "cell_type": "markdown",
   "id": "904ec439",
   "metadata": {},
   "source": [
    "$$ A=\\begin{bmatrix} -1 & -6 \\\\ 2 & 6 \\end{bmatrix}. $$"
   ]
  },
  {
   "cell_type": "markdown",
   "id": "832f40ed",
   "metadata": {},
   "source": [
    "Умножим матрицу $A$ на вектор $\\vec{u} = \\begin{bmatrix} 2 \\\\ -1 \\end{bmatrix}$:"
   ]
  },
  {
   "cell_type": "markdown",
   "id": "2b36a32c",
   "metadata": {},
   "source": [
    "$$ A \\cdot \\vec{u} = \\begin{bmatrix} -1 & -6 \\\\ 2 & 6 \\end{bmatrix} \\cdot \\begin{bmatrix} 2 \\\\ -1 \\end{bmatrix}=\\begin{bmatrix} -1 \\cdot 2 + (-6) \\cdot (-1) \\\\ 2 \\cdot 2 + 6 \\cdot (-1) \\end{bmatrix} = \\begin{bmatrix} 4 \\\\ -2 \\end{bmatrix} = 2 \\cdot \\begin{bmatrix} 2 \\\\ -1 \\end{bmatrix} = \\lambda \\cdot \\vec{u}. $$"
   ]
  },
  {
   "cell_type": "markdown",
   "id": "03159313",
   "metadata": {},
   "source": [
    "В результате умножения матрицы $A$ на вектор $\\vec{u}$ получился тот же самый вектор $\\vec{u}$ с числовым коэффициентом $\\lambda=2$:"
   ]
  },
  {
   "cell_type": "markdown",
   "id": "f6211f55",
   "metadata": {},
   "source": [
    "$$ A \\cdot \\vec{u} = \\lambda \\cdot \\vec{u}. $$"
   ]
  },
  {
   "cell_type": "markdown",
   "id": "2ea618d3",
   "metadata": {},
   "source": [
    "Такой вектор $\\vec{u}$ называется ***собственным вектором*** (*eigenvector*) матрицы $A$, а $\\lambda$ – ***собственным значением*** матрицы $A$ (*eigenvalue*)."
   ]
  },
  {
   "cell_type": "markdown",
   "id": "2dd5e694",
   "metadata": {},
   "source": [
    "```{prf:определение}\n",
    ":nonumber:\n",
    "Ненулевой вектор $\\vec{u}$, который при умножении на некоторую квадратную матрицу $A$ преобразуется в самого же себя с числовым коэффициентом $\\lambda$, называется ***собственным вектором*** матрицы $A$, а число $\\lambda$ – ***собственным значением*** матрицы $A$.\n",
    "```"
   ]
  },
  {
   "cell_type": "markdown",
   "id": "afb3aa3d",
   "metadata": {},
   "source": [
    "Нахождение собственного вектора и собственного значения некоторой матрицы реализуется с использованием следующего алгоритма. Выражение, полученное из определения собственного вектора, можно преобразовать:"
   ]
  },
  {
   "cell_type": "markdown",
   "id": "090288a9",
   "metadata": {},
   "source": [
    "$$ A \\cdot \\vec{u} - \\lambda \\cdot \\vec{u} = 0. $$"
   ]
  },
  {
   "cell_type": "markdown",
   "id": "8b87c48c",
   "metadata": {},
   "source": [
    "$$ \\begin{bmatrix} A - \\lambda \\cdot E \\end{bmatrix} \\cdot \\vec{u} = 0. $$"
   ]
  },
  {
   "cell_type": "markdown",
   "id": "fb4fccd3",
   "metadata": {},
   "source": [
    "Поскольку тривиальное решение данного уравнения не удовлетворяет условию, указанному в определении собственного вектора $(\\vec{u} \\neq 0)$, то необходимо, чтобы:"
   ]
  },
  {
   "cell_type": "markdown",
   "id": "eb8d0573",
   "metadata": {},
   "source": [
    "$$ det(A - \\lambda \\cdot E) = 0. $$"
   ]
  },
  {
   "cell_type": "markdown",
   "id": "276dba4e",
   "metadata": {},
   "source": [
    "Данное уравнение называется характеристическим для матрицы $A$. Отсюда выражается $\\lambda$. Последующее определение $\\vec{u}$ основано на решении уравнения $\\begin{bmatrix} A - \\lambda \\cdot E \\end{bmatrix} \\cdot \\vec{u} = 0$ относительно $\\vec{u}$."
   ]
  },
  {
   "cell_type": "markdown",
   "id": "5595985a",
   "metadata": {},
   "source": [
    "Предположим, что $det(A - \\lambda \\cdot E) \\neq 0$. Следовательно, существует такая обратная матрица, что:"
   ]
  },
  {
   "cell_type": "markdown",
   "id": "0d53902a",
   "metadata": {},
   "source": [
    "$$ {\\begin{bmatrix} A - \\lambda \\cdot E \\end{bmatrix}}^{-1} \\cdot \\begin{bmatrix} A - \\lambda \\cdot E \\end{bmatrix} \\cdot \\vec{u} = {\\begin{bmatrix} A - \\lambda \\cdot E \\end{bmatrix}}^{-1} \\cdot 0, $$"
   ]
  },
  {
   "cell_type": "markdown",
   "id": "de8c7399",
   "metadata": {},
   "source": [
    "откуда следует:"
   ]
  },
  {
   "cell_type": "markdown",
   "id": "cdabbe4f",
   "metadata": {},
   "source": [
    "$$ \\vec{u} = 0, $$"
   ]
  },
  {
   "cell_type": "markdown",
   "id": "3e5634cf",
   "metadata": {},
   "source": [
    "что противоречит условию $(\\vec{u} \\neq 0)$."
   ]
  },
  {
   "cell_type": "markdown",
   "id": "0e186561",
   "metadata": {},
   "source": [
    "Рассмотрим пример. Пусть дана матрица $A$:"
   ]
  },
  {
   "cell_type": "markdown",
   "id": "44a06ef3",
   "metadata": {},
   "source": [
    "$$ A = \\begin{bmatrix} 4 & -5 \\\\ 2 & -3 \\end{bmatrix}. $$"
   ]
  },
  {
   "cell_type": "markdown",
   "id": "29dbdbdc",
   "metadata": {},
   "source": [
    "Необходимо найти собственные значения и собственные векторы матрицы $A$. Для начала найдем собственные значения. Запишем уравнение и решим его относительно $\\lambda$:"
   ]
  },
  {
   "cell_type": "markdown",
   "id": "4647083b",
   "metadata": {},
   "source": [
    "$$ \\begin{align}\n",
    "\\begin{vmatrix} \\begin{bmatrix} 4 & -5 \\\\ 2 & -3 \\end{bmatrix} - \\lambda \\cdot \\begin{bmatrix} 1 & 0 \\\\ 0 & 1 \\end{bmatrix}\\end{vmatrix} &= 0 \\\\ \\begin{vmatrix} 4 - \\lambda & -5 \\\\ 2 & -3 - \\lambda \\end{vmatrix} &= 0 \\\\ (4 - \\lambda) \\cdot (-3 - \\lambda) + 10 &= 0 \\\\ {\\lambda}^2 - \\lambda - 2 &= 0 \\\\ {\\lambda}_{1,2} &= (-1, 2)\n",
    "\\end{align} $$"
   ]
  },
  {
   "cell_type": "markdown",
   "id": "9e1f8d83",
   "metadata": {},
   "source": [
    "При $\\lambda = -1$:"
   ]
  },
  {
   "cell_type": "markdown",
   "id": "7d5da70a",
   "metadata": {},
   "source": [
    "$$ \\begin{align}\n",
    "\\left( \\begin{bmatrix} 4 & -5 \\\\ 2 & -3 \\end{bmatrix} - (-1) \\cdot \\begin{bmatrix} 1 & 0 \\\\ 0 & 1 \\end{bmatrix} \\right) \\cdot \\vec{u} &= 0 \\\\ \\begin{bmatrix} 5 & -5 \\\\ 2 & -2 \\end{bmatrix} \\cdot \\begin{bmatrix} u_1 \\\\ u_2 \\end{bmatrix} &= 0.\n",
    "\\end{align} $$"
   ]
  },
  {
   "cell_type": "markdown",
   "id": "a701c83b",
   "metadata": {},
   "source": [
    "Данное выражение может быть преобразовано в систему линейных уравнений и решено с использованием [метода Гаусса](https://en.wikipedia.org/wiki/Gaussian_elimination). Его целью является получение \"треугольной матрицы нулей\" путем простейших математических преобразований – сложения и умножения. В результате, получится следующее выражение:"
   ]
  },
  {
   "cell_type": "markdown",
   "id": "798ab5e7",
   "metadata": {},
   "source": [
    "$$ \\begin{matrix}\\\\ 1 & -1 & 0\\\\ 0 & 0 & 0 \\end{matrix}. $$"
   ]
  },
  {
   "cell_type": "markdown",
   "id": "8a536400",
   "metadata": {},
   "source": [
    "Исходя из второй строчки, $u_2$ может принимать любые значения. Поэтому пусть $u_2 = 1$. Тогда $u_1 = 1$. Отнормируем $u_1$ и $u_2$ на величину $\\sqrt{{u_1}^2 + {u_2}^2}$ исключительно для сопоставления с результатом, получаемым в *[numpy](https://numpy.org/)* (далее будет показано, что данная операция, по сути, не играет существенной роли). Тогда $u_1 = u_2 = \\frac{1}{\\sqrt{2}}$."
   ]
  },
  {
   "cell_type": "markdown",
   "id": "feb09279",
   "metadata": {},
   "source": [
    "При $\\lambda = 2$:"
   ]
  },
  {
   "cell_type": "markdown",
   "id": "b37b5f88",
   "metadata": {},
   "source": [
    "$$ \\begin{align} \\left( \\begin{bmatrix} 4 & -5 \\\\ 2 & -3 \\end{bmatrix} - 2 \\cdot \\begin{bmatrix} 1 & 0 \\\\ 0 & 1 \\end{bmatrix} \\right) \\cdot u &= 0 \\\\ \\begin{bmatrix} 2 & -5 \\\\ 2 & -5 \\end{bmatrix} \\cdot \\begin{bmatrix} u_1 \\\\ u_2 \\end{bmatrix} &= 0 \\end{align} $$"
   ]
  },
  {
   "cell_type": "markdown",
   "id": "f8e95cc4",
   "metadata": {},
   "source": [
    "После применения метода Гаусса получим:"
   ]
  },
  {
   "cell_type": "markdown",
   "id": "3dfc082d",
   "metadata": {},
   "source": [
    "$$ \\begin{matrix}\\\\ 2 & -5 & 0\\\\ 0 & 0 & 0 \\end{matrix}. $$"
   ]
  },
  {
   "cell_type": "markdown",
   "id": "1fb09e10",
   "metadata": {},
   "source": [
    "Исходя из второй строчки, $u_2$ может принимать любые значения. Поэтому пусть $u_2 = 1$. Тогда $u_1 = \\frac{5}{2}$. Аналогично отнормируем $u_1$ и $u_2$ на величину $\\sqrt{{u_1}^2 + {u_2}^2}$. Тогда $u_1 = \\frac{5}{\\sqrt{29}}$ и $u_2 = \\frac{2}{\\sqrt{29}}$."
   ]
  },
  {
   "cell_type": "code",
   "execution_count": 2,
   "id": "2dab8a01",
   "metadata": {},
   "outputs": [
    {
     "data": {
      "text/plain": [
       "(array([ 2, -1]),\n",
       " array([[0.92847669, 0.70710678],\n",
       "        [0.37139068, 0.70710678]]))"
      ]
     },
     "execution_count": 2,
     "metadata": {},
     "output_type": "execute_result"
    }
   ],
   "source": [
    "Lambda = np.array([2, -1])\n",
    "u = np.array([[5 / 29**0.5, 1 / 2**0.5], [2 / 29**0.5, 1 / 2**0.5]])\n",
    "Lambda, u"
   ]
  },
  {
   "cell_type": "markdown",
   "id": "63ff58a8",
   "metadata": {},
   "source": [
    "Полученные результаты полностью совпадают с расчетом, выполненным *numpy*:"
   ]
  },
  {
   "cell_type": "code",
   "execution_count": 3,
   "id": "c8973821",
   "metadata": {},
   "outputs": [
    {
     "data": {
      "text/plain": [
       "(array([ 2., -1.]),\n",
       " array([[0.92847669, 0.70710678],\n",
       "        [0.37139068, 0.70710678]]))"
      ]
     },
     "execution_count": 3,
     "metadata": {},
     "output_type": "execute_result"
    }
   ],
   "source": [
    "A = np.array([[4, -5], [2, -3]])\n",
    "np.linalg.eig(A)"
   ]
  },
  {
   "cell_type": "markdown",
   "id": "f35b0d5f",
   "metadata": {},
   "source": [
    "Выполним проверку:"
   ]
  },
  {
   "cell_type": "code",
   "execution_count": 4,
   "id": "876e42a6",
   "metadata": {},
   "outputs": [
    {
     "data": {
      "text/plain": [
       "array([[2.22044605e-16],\n",
       "       [2.22044605e-16]])"
      ]
     },
     "execution_count": 4,
     "metadata": {},
     "output_type": "execute_result"
    }
   ],
   "source": [
    "Lambda = 2\n",
    "u = np.array([[5 / 29**0.5], [2 / 29**0.5]])\n",
    "A.dot(u) - Lambda * u"
   ]
  },
  {
   "cell_type": "code",
   "execution_count": 5,
   "id": "ed773415",
   "metadata": {},
   "outputs": [
    {
     "data": {
      "text/plain": [
       "array([[0.],\n",
       "       [0.]])"
      ]
     },
     "execution_count": 5,
     "metadata": {},
     "output_type": "execute_result"
    }
   ],
   "source": [
    "Lambda = -1\n",
    "u = np.array([[1 / 2**0.5], [1 / 2**0.5]])\n",
    "A.dot(u) - Lambda * u"
   ]
  },
  {
   "cell_type": "markdown",
   "id": "f798e07a",
   "metadata": {},
   "source": [
    "Также проверим правильность подобранных значений $\\vec{u}$ без нормирования:"
   ]
  },
  {
   "cell_type": "code",
   "execution_count": 6,
   "id": "e59d0456",
   "metadata": {},
   "outputs": [
    {
     "data": {
      "text/plain": [
       "array([[0.],\n",
       "       [0.]])"
      ]
     },
     "execution_count": 6,
     "metadata": {},
     "output_type": "execute_result"
    }
   ],
   "source": [
    "Lambda = 2\n",
    "u = np.array([[5 / 2], [1]])\n",
    "A.dot(u) - Lambda * u"
   ]
  },
  {
   "cell_type": "code",
   "execution_count": 7,
   "id": "14cb3fcd",
   "metadata": {},
   "outputs": [
    {
     "data": {
      "text/plain": [
       "array([[0],\n",
       "       [0]])"
      ]
     },
     "execution_count": 7,
     "metadata": {},
     "output_type": "execute_result"
    }
   ],
   "source": [
    "Lambda = -1\n",
    "u = np.array([[1], [1]])\n",
    "A.dot(u) - Lambda * u"
   ]
  },
  {
   "cell_type": "markdown",
   "id": "c2380ec7",
   "metadata": {},
   "source": [
    "Кроме того, правильность решения не зависит от выбора значения $u_2$. При $\\lambda = 2$ предположим, что $u_2 = 2$. Тогда $u_1 = 5$."
   ]
  },
  {
   "cell_type": "code",
   "execution_count": 8,
   "id": "3861a343",
   "metadata": {},
   "outputs": [
    {
     "data": {
      "text/plain": [
       "array([[0],\n",
       "       [0]])"
      ]
     },
     "execution_count": 8,
     "metadata": {},
     "output_type": "execute_result"
    }
   ],
   "source": [
    "Lambda = 2\n",
    "u = np.array([[5], [2]])\n",
    "A.dot(u) - Lambda * u"
   ]
  },
  {
   "cell_type": "markdown",
   "id": "06a23baf",
   "metadata": {},
   "source": [
    "Также необходимо отметить, что найденные собственные векторы матрицы не являются коллинеарными – [определитель](./LAB-5-Determinant-InverseMatrix.html#math-lab-det_inv) матрицы, составленный из их координат, отличен от нуля:"
   ]
  },
  {
   "cell_type": "code",
   "execution_count": 9,
   "id": "e8f09470",
   "metadata": {},
   "outputs": [
    {
     "data": {
      "text/plain": [
       "0.39391929857916763"
      ]
     },
     "execution_count": 9,
     "metadata": {},
     "output_type": "execute_result"
    }
   ],
   "source": [
    "Lambda, V = np.linalg.eig(A)\n",
    "np.linalg.det(V)"
   ]
  },
  {
   "cell_type": "markdown",
   "id": "a13bc6bc",
   "metadata": {},
   "source": [
    "```{prf:определение}\n",
    ":nonumber:\n",
    "Два неколлинеарных вектора образуют ***базис***. Под базисом понимается совокупность неколлинеарных векторов в векторном пространстве, взятых в определенном порядке, при этом любой вектор в этом пространстве может быть выражен через линейную комбинацию базисных векторов.\n",
    "```"
   ]
  }
 ],
 "metadata": {
  "jupytext": {
   "text_representation": {
    "extension": ".md",
    "format_name": "myst",
    "format_version": 0.13,
    "jupytext_version": "1.10.3"
   }
  },
  "kernelspec": {
   "display_name": "Python 3 (ipykernel)",
   "language": "python",
   "name": "python3"
  },
  "language_info": {
   "codemirror_mode": {
    "name": "ipython",
    "version": 3
   },
   "file_extension": ".py",
   "mimetype": "text/x-python",
   "name": "python",
   "nbconvert_exporter": "python",
   "pygments_lexer": "ipython3",
   "version": "3.7.13"
  },
  "source_map": [
   14,
   20,
   25,
   29,
   33,
   37,
   41,
   45,
   49,
   53,
   60,
   64,
   68,
   72,
   76,
   80,
   84,
   88,
   92,
   96,
   100,
   104,
   108,
   112,
   116,
   122,
   126,
   132,
   136,
   140,
   144,
   148,
   152,
   156,
   160,
   166,
   172,
   178,
   183,
   189,
   197,
   203,
   209,
   217,
   223,
   229,
   235,
   241,
   246
  ]
 },
 "nbformat": 4,
 "nbformat_minor": 5
}