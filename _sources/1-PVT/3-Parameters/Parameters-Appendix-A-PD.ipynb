{
 "cells": [
  {
   "cell_type": "markdown",
   "id": "b50799b2",
   "metadata": {},
   "source": [
    "<a id='pvt-parameters-appendix-pd'></a>\n",
    "# Частные производные термодинамических параметров\n",
    "В данном разделе приводится вывод выражений частных производных термодинамических параметров по давлению, температуре и количеству вещества компонентов на основе использования [уравнений состояния](../2-EOS/EOS-0-Introduction.html#pvt-eos)."
   ]
  },
  {
   "cell_type": "code",
   "execution_count": null,
   "id": "30d5cb39",
   "metadata": {},
   "outputs": [],
   "source": []
  },
  {
   "cell_type": "code",
   "execution_count": null,
   "id": "39803acb",
   "metadata": {},
   "outputs": [],
   "source": []
  },
  {
   "cell_type": "markdown",
   "id": "5ee7233a",
   "metadata": {},
   "source": [
    "<a id='pvt-parameters-appendix-pd-enthalpy'></a>\n",
    "## Частные производные энтальпии"
   ]
  },
  {
   "cell_type": "markdown",
   "id": "3de13c35",
   "metadata": {},
   "source": [
    "<a id='pvt-parameters-appendix-pd-enthalpy-srk_pr_sw'></a>\n",
    "### Частные производные энтальпии с использованием уравнений состояния Суаве-Редлиха-Квонга, Пенга-Робинсона и Сорейде-Уитсона\n",
    "[Ранее](Parameters-2-Enthalpy.html#pvt-parameters-enthalpy-isobaric_isothermal) было показано, что энтальпия фазы в изотермическом процессе определяется следующим выражением:"
   ]
  },
  {
   "cell_type": "markdown",
   "id": "141a8624",
   "metadata": {},
   "source": [
    "$$ H \\left( P, T, n_i \\right) = \\sum_{i=1}^{N_c} n_i h_i^{ig} - R T^2 \\sum_{i=1}^{N_c} n_i \\left( \\frac{\\partial \\ln \\phi_i}{\\partial T} \\right)_{P,n_i}.$$"
   ]
  },
  {
   "cell_type": "markdown",
   "id": "3913c203",
   "metadata": {},
   "source": [
    "Рассмотрим частные производные данного выражения по давлению, температуре и количеству вещества $i$-го компонента."
   ]
  },
  {
   "cell_type": "markdown",
   "id": "8088d428",
   "metadata": {},
   "source": [
    "Частная производная энтальпии по температуре:"
   ]
  },
  {
   "cell_type": "markdown",
   "id": "c644390b",
   "metadata": {},
   "source": [
    "$$ \\begin{align}\n",
    "\\left( \\frac{\\partial H}{\\partial T} \\right)_{P,n_i} &= \\sum_{i=1}^{N_c} n_i \\left( \\frac{\\partial h^{ig}_i}{\\partial T} \\right)_{P,n_i} - R \\left( 2 T \\sum_{i=1}^{N_c} n_i \\left( \\frac{\\partial \\ln \\phi_i}{\\partial T} \\right)_{P,n_i} + T^2 \\sum_{i=1}^{N_c} n_i \\left( \\frac{\\partial^2 \\ln \\phi_i}{\\partial T^2} \\right)_{P,n_i} \\right) \\\\\n",
    "&= \\sum_{i=1}^{N_c} n_i {c_P}_i^{ig} - R T^2 \\left( \\frac{2}{T} \\sum_{i=1}^{N_c} n_i \\left( \\frac{\\partial \\ln \\phi_i}{\\partial T} \\right)_{P,n_i} + \\sum_{i=1}^{N_c} n_i \\left( \\frac{\\partial^2 \\ln \\phi_i}{\\partial T^2} \\right)_{P,n_i} \\right).\n",
    "\\end{align}$$"
   ]
  },
  {
   "cell_type": "markdown",
   "id": "97980e2f",
   "metadata": {},
   "source": [
    "Частные производные логарифма коэффициента летучести по температуре с использованием уравнений состояния [Суаве-Редлиха-Квонга и Пенга-Робинсона](../2-EOS/EOS-Appendix-A-PD.html#pvt-eos-appendix-fugacity_pd-srk_pr), а также [Сорейде-Уитсона](../2-EOS/EOS-Appendix-A-PD.html#pvt-eos-appendix-fugacity_pd-sw) были рассмотрены ранее."
   ]
  },
  {
   "cell_type": "markdown",
   "id": "34069e24",
   "metadata": {},
   "source": [
    "Частная производная энтальпии по количеству вещества компонентов:"
   ]
  },
  {
   "cell_type": "markdown",
   "id": "f6e44644",
   "metadata": {},
   "source": [
    "$$ \\left( \\frac{\\partial H}{\\partial n_i} \\right)_{P,T} = \\sum_{i=1}^{N_c} h_i^{ig} - R T^2 \\sum_{i=1}^{N_c} \\left( \\left( \\frac{\\partial \\ln \\phi_i}{\\partial T} \\right)_{P,n_i} + n_i \\left( \\frac{\\partial^2 \\ln \\phi_i}{\\partial T \\partial n_i} \\right)_{P} \\right). $$"
   ]
  },
  {
   "cell_type": "code",
   "execution_count": null,
   "id": "2c483ec5",
   "metadata": {},
   "outputs": [],
   "source": []
  }
 ],
 "metadata": {
  "jupytext": {
   "text_representation": {
    "extension": ".md",
    "format_name": "myst",
    "format_version": 0.13,
    "jupytext_version": "1.10.3"
   }
  },
  "kernelspec": {
   "display_name": "Python 3 (ipykernel)",
   "language": "python",
   "name": "python3"
  },
  "language_info": {
   "codemirror_mode": {
    "name": "ipython",
    "version": 3
   },
   "file_extension": ".py",
   "mimetype": "text/x-python",
   "name": "python",
   "nbconvert_exporter": "python",
   "pygments_lexer": "ipython3",
   "version": "3.7.13"
  },
  "source_map": [
   12,
   18,
   22,
   24,
   29,
   35,
   39,
   43,
   47,
   54,
   58,
   62,
   66
  ]
 },
 "nbformat": 4,
 "nbformat_minor": 5
}