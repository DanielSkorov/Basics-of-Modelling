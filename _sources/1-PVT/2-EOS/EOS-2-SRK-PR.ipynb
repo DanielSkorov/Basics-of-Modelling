{
 "cells": [
  {
   "cell_type": "markdown",
   "id": "d26923c9",
   "metadata": {},
   "source": [
    "<a id='pvt-eos-srk_pr'></a>\n",
    "# Уравнения состояния Суаве-Редлиха-Квонга и Пенга-Робинсона\n",
    "В 1949 году Редлих и Квонг предложили модификацию [уравнения состояния Ван-дер-Ваальса](EOS-1-VanDerWaals.html#pvt-eos-van_der_waals):"
   ]
  },
  {
   "cell_type": "markdown",
   "id": "611cdbc2",
   "metadata": {},
   "source": [
    "$$ \\left( P + \\frac{a_m}{T^{0.5} v \\left( v + b_m \\right)} \\right) \\left(v - b_m \\right) = R T.$$"
   ]
  },
  {
   "cell_type": "markdown",
   "id": "580a48ab",
   "metadata": {},
   "source": [
    "Позднее, в 1972 году Суаве улучшил данное уравнение состояния, заменив отношение $\\frac{a_m}{T^{0.5}}$ более общим коэффициентом $\\alpha_m$, зависящим от температуры и свойств компонента, в том числе *ацентрического фактора*."
   ]
  },
  {
   "cell_type": "markdown",
   "id": "97680116",
   "metadata": {},
   "source": [
    "```{prf:определение}\n",
    ":nonumber:\n",
    "***Ацентрический фактор*** – параметр компонента (вещества), который характеризует отклонение формы молекулы компонента от сферической молекулы идеального газа.\n",
    "```"
   ]
  },
  {
   "cell_type": "markdown",
   "id": "04e56146",
   "metadata": {},
   "source": [
    "В общем виде уравнение состояния Суаве-Редлиха-Квонга можно записать в следующем виде:"
   ]
  },
  {
   "cell_type": "markdown",
   "id": "3fae9bb1",
   "metadata": {},
   "source": [
    "$$ \\left( P + \\frac{\\alpha_m}{v \\left( v + b_m \\right)} \\right) \\left(v - b_m \\right) = R T. $$"
   ]
  },
  {
   "cell_type": "markdown",
   "id": "54cdd251",
   "metadata": {},
   "source": [
    "Позднее, в 1976 году, Пенг и Робинсон внесли модификацию в данное уравнение состояния для лучшего воспроизведения плотности жидкой фазы:"
   ]
  },
  {
   "cell_type": "markdown",
   "id": "8611b580",
   "metadata": {},
   "source": [
    "$$ \\left( P + \\frac{\\alpha_m}{v \\left( v + b_m \\right) + b_m \\left( v - b_m \\right)} \\right) \\left(v - b_m \\right) = R T. $$"
   ]
  },
  {
   "cell_type": "markdown",
   "id": "10bea529",
   "metadata": {},
   "source": [
    "В общем виде, оба уравнения состояния Суаве-Редлиха-Квонга и Пенга-Робинсона можно записать в следующем виде:"
   ]
  },
  {
   "cell_type": "markdown",
   "id": "db6fc379",
   "metadata": {},
   "source": [
    "$$ \\left( P + \\frac{\\alpha_m}{v^2 + v b_m \\left(1 + c \\right) - c b_m^2} \\right) \\left(v - b_m \\right) = R T. $$"
   ]
  },
  {
   "cell_type": "markdown",
   "id": "969b1765",
   "metadata": {},
   "source": [
    "Если параметр $c = 0$, то уравнение приводится к уравнению состояния Суаве-Редлиха-Квонга, если же $c = 1$, то – к уравнению состояния Пенга-Робинсона."
   ]
  },
  {
   "cell_type": "markdown",
   "id": "2fd83966",
   "metadata": {},
   "source": [
    "<a id='pvt-eos-srk_pr-fugacity_coefficient'></a>\n",
    "Начнем с нахождения логарифма коэффициента летучести $i$-го компонента. Для этого преобразуем полученное [ранее](../1-TD/TD-15-Fugacity.md) выражение следующим образом:"
   ]
  },
  {
   "cell_type": "markdown",
   "id": "ce906d34",
   "metadata": {},
   "source": [
    "$$ \\ln \\phi_i = \\int_V^\\infty \\left( \\frac{1}{R T} \\left( \\frac{\\partial P}{\\partial n_i} \\right)_{V, T, n_{j \\neq i}} - \\frac{1}{V} \\right) dV - \\ln Z = \\frac{\\partial}{\\partial n_i} \\left( \\int_V^\\infty \\left( \\frac{P}{RT} - \\frac{n}{V} \\right) dV \\right)_{V, T, n_{j \\neq i}} - \\ln Z.$$"
   ]
  },
  {
   "cell_type": "markdown",
   "id": "6da1c0a3",
   "metadata": {},
   "source": [
    "Запишем рассматриваемые уравнения состояния относительно давления:"
   ]
  },
  {
   "cell_type": "markdown",
   "id": "b875f696",
   "metadata": {},
   "source": [
    "$$ P = \\frac{RT}{v - b_m} - \\frac{\\alpha_m}{v^2 + \\left( c + 1 \\right) b_m v - c b_m^2} = \\frac{n R T}{V - n b_m} - \\frac{\\alpha_m n^2}{V^2 + \\left( c + 1 \\right) b_m n V - c b_m^2 n^2}. $$"
   ]
  },
  {
   "cell_type": "markdown",
   "id": "b4aa96c6",
   "metadata": {},
   "source": [
    "Получим выражение для первообразной подынтегральной функции:"
   ]
  },
  {
   "cell_type": "markdown",
   "id": "2e1f2a28",
   "metadata": {},
   "source": [
    "$$ \\begin{align}\n",
    "F \\left( V \\right)\n",
    "&= \\int \\left( \\frac{P}{RT} - \\frac{n}{V} \\right) dV \\\\\n",
    "&= \\frac{1}{RT} \\int P dV - n \\int \\frac{dV}{V} \\\\\n",
    "&= n \\int \\frac{dV}{V - n b_m} - \\frac{n^2 \\alpha_m}{RT} \\int \\frac{dV}{V^2 + \\left( c + 1 \\right) b_m n V - c b_m^2 n^2} - n \\int \\frac{dV}{V}.\n",
    "\\end{align} $$"
   ]
  },
  {
   "cell_type": "markdown",
   "id": "43af8e65",
   "metadata": {},
   "source": [
    "Для преобразования данного выражения распишем подробнее интегралы:"
   ]
  },
  {
   "cell_type": "markdown",
   "id": "8b8fa739",
   "metadata": {},
   "source": [
    "$$ \\begin{align}\n",
    "\\int \\frac{dV}{V - n b_m} = \\int \\frac{dV - n b_m}{V - n b_m}\n",
    "&= \\ln \\lvert V - n b_m \\rvert = \\ln \\left( V - n b_m \\right); \\\\\n",
    "\\int \\frac{dV}{V^2 + \\left( c + 1 \\right) b_m n V - c b_m^2 n^2}\n",
    "&= \\int \\frac{dV}{ \\left( V + \\frac{c+1}{2} b_m n \\right)^2 - b_m^2 n^2 \\left( \\frac{\\left( c+1 \\right)^2}{4} + c \\right) } \\\\\n",
    "&= \\frac{1}{2 b_m n \\sqrt{\\frac{\\left( c + 1 \\right)^2}{4} + c }} \\ln \\left| \\frac{ V + \\frac{c+1}{2} b_m n - b_m n \\sqrt{ \\frac{\\left( c+1 \\right)^2}{4} + c }}{V + \\frac{c+1}{2} b_m n + b_m n \\sqrt{ \\frac{\\left( c+1 \\right)^2}{4} + c }} \\right| \\\\\n",
    "&= \\frac{1}{b_m n \\left( \\delta_2 - \\delta_1 \\right) } \\ln \\frac{V + b_m n \\delta_1}{V + b_m n \\delta_2}; \\\\\n",
    "\\int \\frac{dV}{V}\n",
    "&= \\ln \\lvert V \\rvert = \\ln V.\n",
    "\\end{align} $$"
   ]
  },
  {
   "cell_type": "markdown",
   "id": "d8e41ba5",
   "metadata": {},
   "source": [
    "Здесь $\\delta_1 = \\frac{c + 1}{2} - \\sqrt{ \\frac{\\left( c+1 \\right)^2}{4} + c }$ и $\\delta_2 = \\frac{c + 1}{2} + \\sqrt{ \\frac{\\left( c+1 \\right)^2}{4} + c }.$ С учетом этого выражение для первообразной подынтегральной функции примет следующий вид:"
   ]
  },
  {
   "cell_type": "markdown",
   "id": "7cbbbae4",
   "metadata": {},
   "source": [
    "$$ F \\left( V \\right) = n \\ln \\frac{V - n b_m}{V} - \\frac{n \\alpha_m}{R T b_m \\left( \\delta_2 - \\delta_1 \\right)} \\ln \\frac{V + n b_m \\delta_1}{V + n b_m \\delta_2}.$$"
   ]
  },
  {
   "cell_type": "markdown",
   "id": "ec6fdc57",
   "metadata": {},
   "source": [
    "Следовательно, интеграл в выражении для коэффициента летучести $i$-го компонента:"
   ]
  },
  {
   "cell_type": "markdown",
   "id": "f00a3231",
   "metadata": {},
   "source": [
    "$$ \\begin{alignat}{1}\n",
    "\\int_V^\\infty \\left( \\frac{P}{RT} - \\frac{n}{V} \\right) dV\n",
    "&= & \\; F \\left( V \\right) \\bigg\\rvert_V^\\infty \\\\\n",
    "&= & \\; \\lim_{b \\rightarrow \\infty} F \\left( V \\right) \\bigg\\rvert_V^b \\\\\n",
    "&= & \\; \\lim_{b \\rightarrow \\infty} \\left( n \\ln \\frac{b - n b_m}{b} - \\frac{n \\alpha_m}{R T b_m \\left( \\delta_2 - \\delta_1 \\right)} \\ln \\frac{b + n b_m \\delta_1}{b + n b_m \\delta_2} \\right) \\\\\n",
    "&& \\; - \\left( n \\ln \\frac{V - n b_m}{V} - \\frac{n \\alpha_m}{R T b_m \\left( \\delta_2 - \\delta_1 \\right)} \\ln \\frac{V + n b_m \\delta_1}{V + n b_m \\delta_2} \\right) \\\\\n",
    "&= & \\; n \\lim_{b \\rightarrow \\infty} \\ln \\left( 1 - \\frac{n b_m}{b} \\right) - \\frac{n \\alpha_m}{R T b_m \\left( \\delta_2 - \\delta_1 \\right)} \\lim_{b \\rightarrow \\infty} \\ln \\left( 1 - \\frac{n b_m \\left( \\delta_2 - \\delta_1 \\right)}{b + n b_m \\delta_2} \\right) \\\\\n",
    "&& \\; - \\left( n \\ln \\frac{V - n b_m}{V} - \\frac{n \\alpha_m}{R T b_m \\left( \\delta_2 - \\delta_1 \\right)} \\ln \\frac{V + n b_m \\delta_1}{V + n b_m \\delta_2} \\right) \\\\\n",
    "&= & \\; - n \\ln \\frac{V - n b_m}{V} + \\frac{n \\alpha_m}{R T b_m \\left( \\delta_2 - \\delta_1 \\right)} \\ln \\frac{V + n b_m \\delta_1}{V + n b_m \\delta_2}\n",
    "\\end{alignat} $$"
   ]
  },
  {
   "cell_type": "markdown",
   "id": "94cf9856",
   "metadata": {},
   "source": [
    "Для выражения логарифма коэффициента летучести $i$-го компонента необходимо получить производную по количеству вещества $i$-го компонента при постоянных объеме, температуре и количествах веществ других компонентов:"
   ]
  },
  {
   "cell_type": "markdown",
   "id": "2f816be0",
   "metadata": {},
   "source": [
    "$$ \\begin{align} & \\frac{\\partial}{\\partial n_i} \\left( - n \\ln \\frac{V - n b_m}{V} + \\frac{n \\alpha_m}{R T b_m \\left( \\delta_2 - \\delta_1 \\right)} \\ln \\frac{V + n b_m \\delta_1}{V + n b_m \\delta_2} \\right)_{V, T, n_{j \\neq i}} \\\\ & = - \\frac{\\partial}{\\partial n_i} \\left( n \\ln \\frac{V - n b_m}{V} \\right) + \\frac{1}{R T \\left( \\delta_2 - \\delta_1 \\right)} \\frac{\\partial}{\\partial n_i} \\left( \\frac{n \\alpha_m}{b_m} \\ln \\frac{V + n b_m \\delta_1}{V + n b_m \\delta_2} \\right). \\end{align} $$"
   ]
  },
  {
   "cell_type": "markdown",
   "id": "24108ab4",
   "metadata": {},
   "source": [
    "Распишем подробнее данные производные."
   ]
  },
  {
   "cell_type": "markdown",
   "id": "1638ca4c",
   "metadata": {},
   "source": [
    "$$ \\begin{align}\n",
    "\\frac{\\partial}{\\partial n_i} \\left( n \\ln \\frac{V - n b_m}{V} \\right)\n",
    "&= \\ln \\frac{V - n b_m}{V} + n \\frac{\\partial}{\\partial n_i} \\ln \\frac{V - n b_m}{V} \\\\\n",
    "&= \\ln \\frac{V - n b_m}{V} - \\frac{n}{V - n b_m} \\frac{\\partial n b_m}{\\partial n_i}.\n",
    "\\end{align}$$"
   ]
  },
  {
   "cell_type": "markdown",
   "id": "35cf347c",
   "metadata": {},
   "source": [
    "$$\\begin{alignat}{1}\n",
    "\\frac{\\partial}{\\partial n_i} \\left( \\frac{n \\alpha_m}{b_m} \\ln \\frac{V + n b_m \\delta_1}{V + n b_m \\delta_2} \\right)\n",
    "&= & \\; \\ln \\left( \\frac{V + n b_m \\delta_1}{V + n b_m \\delta_2} \\right) \\frac{\\partial}{\\partial n_i} \\left( \\frac{n \\alpha_m}{b_m} \\right) + \\frac{n \\alpha_m}{b_m} \\frac{\\partial}{\\partial n_i} \\left( \\ln \\frac{V + n b_m \\delta_1}{V + n b_m \\delta_2} \\right) \\\\\n",
    "&= & \\; \\ln \\left( \\frac{V + n b_m \\delta_1}{V + n b_m \\delta_2} \\right) \\left( \\frac{1}{n b_m} \\frac{\\partial n^2 \\alpha_m}{\\partial n_i} - \\frac{\\alpha_m}{b_m^2} \\frac{\\partial n b_m}{\\partial n_i} \\right) \\\\\n",
    "&& \\; + \\frac{n \\alpha_m}{b_m} \\frac{\\partial n b_m}{\\partial n_i} \\frac{V \\left( \\delta_1 - \\delta_2 \\right)}{\\left( V + n b_m \\delta_1 \\right) \\left( V + n b_m \\delta_2 \\right)}.\n",
    "\\end{alignat} $$"
   ]
  },
  {
   "cell_type": "markdown",
   "id": "ec09d72a",
   "metadata": {},
   "source": [
    "С учетом этого выражение для логарифма коэффициента летучести $i$-го компонента:"
   ]
  },
  {
   "cell_type": "markdown",
   "id": "d618ad57",
   "metadata": {},
   "source": [
    "$$ \\begin{alignat}{1}\n",
    "\\ln \\phi_i\n",
    "&= & \\; -\\ln \\frac{V - n b_m}{V} + \\frac{n}{V - n b_m} \\frac{\\partial n b_m}{\\partial n_i} \\\\\n",
    "&& \\; + \\frac{1}{R T \\left( \\delta_2 - \\delta_1 \\right)} \\left( \\ln \\left( \\frac{V + n b_m \\delta_1}{V + n b_m \\delta_2} \\right) \\left( \\frac{1}{n b_m} \\frac{\\partial n^2 \\alpha_m}{\\partial n_i} - \\frac{\\alpha_m}{b_m^2} \\frac{\\partial n b_m}{\\partial n_i} \\right) \\right. \\\\\n",
    "&& \\; \\left. - \\frac{n \\alpha_m}{b_m} \\frac{\\partial n b_m}{\\partial n_i} \\frac{V \\left( \\delta_2 - \\delta_1 \\right)}{\\left( V + n b_m \\delta_1 \\right) \\left( V + n b_m \\delta_2 \\right)} \\right) - \\ln Z \\\\\n",
    "&= & \\; -\\ln \\frac{V - n b_m}{V}  + \\frac{n}{V - n b_m} \\frac{\\partial n b_m}{\\partial n_i} - \\frac{n \\alpha_m}{R T b_m} \\frac{\\partial n b_m}{\\partial n_i} \\frac{V}{\\left( V + n b_m \\delta_1 \\right) \\left( V + n b_m \\delta_2 \\right)} \\\\\n",
    "&& \\; + \\frac{1}{R T \\left( \\delta_2 - \\delta_1 \\right)} \\left( \\frac{1}{n b_m} \\frac{\\partial n^2 \\alpha_m}{\\partial n_i} - \\frac{\\alpha_m}{b_m^2} \\frac{\\partial n b_m}{\\partial n_i} \\right) \\ln \\left( \\frac{V + n b_m \\delta_1}{V + n b_m \\delta_2} \\right) - \\ln Z \\\\\n",
    "&= & \\; -\\ln \\frac{V - n b_m}{V} + \\frac{\\partial n b_m}{\\partial n_i} \\left( \\frac{n}{V - n b_m} - \\frac{n \\alpha_m}{R T b_m} \\frac{V}{\\left( V + n b_m \\delta_1 \\right) \\left( V + n b_m \\delta_2 \\right)} \\right) \\\\\n",
    "&& \\; + \\frac{1}{R T \\left( \\delta_2 - \\delta_1 \\right)} \\left( \\frac{1}{n b_m} \\frac{\\partial n^2 \\alpha_m}{\\partial n_i} - \\frac{\\alpha_m}{b_m^2} \\frac{\\partial n b_m}{\\partial n_i} \\right) \\ln \\left( \\frac{V + n b_m \\delta_1}{V + n b_m \\delta_2} \\right) - \\ln Z\n",
    "\\end{alignat}$$"
   ]
  },
  {
   "cell_type": "markdown",
   "id": "e47cfdff",
   "metadata": {},
   "source": [
    "Полученное выражение позволяет определить логарифм коэффициента летучести $i$-го компонента."
   ]
  },
  {
   "cell_type": "markdown",
   "id": "fa19b7d7",
   "metadata": {},
   "source": [
    "<a id='pvt-eos-srk_pr-mix_rules'></a>\n",
    "Пусть расчет параметров $\\alpha_m$ и $b_m$ соответствует используемым [ранее](./EOS-1-VanDerWaals.html#pvt-eos-van_der_waals-mix_rules) правилам смешивания, то есть:"
   ]
  },
  {
   "cell_type": "markdown",
   "id": "d6daceec",
   "metadata": {},
   "source": [
    "$$ \\begin{align} \\alpha_m &= \\sum_{j=1}^{N_c} \\sum_{k=1}^{N_c} x_j x_k \\alpha_{jk}; \\\\ b_m &= \\sum_{j=1}^{N_c} x_j b_j. \\end{align}$$"
   ]
  },
  {
   "cell_type": "markdown",
   "id": "a3b7e2e8",
   "metadata": {},
   "source": [
    "Здесь параметр $\\alpha_{jk}$ рассчитывается следующим образом:"
   ]
  },
  {
   "cell_type": "markdown",
   "id": "45c85a89",
   "metadata": {},
   "source": [
    "$$\\alpha_{jk} = \\left( \\alpha_j \\alpha_k \\right)^{0.5} \\left( 1 - \\delta_{jk} \\right).$$"
   ]
  },
  {
   "cell_type": "markdown",
   "id": "d5c3bf8c",
   "metadata": {},
   "source": [
    "В свою очередь параметр $\\alpha_j$:"
   ]
  },
  {
   "cell_type": "markdown",
   "id": "d4859897",
   "metadata": {},
   "source": [
    "$$ \\alpha_j = a_j \\left( 1 + \\kappa_j \\left( 1 - \\sqrt{{T_r}_j} \\right) \\right)^2.$$"
   ]
  },
  {
   "cell_type": "markdown",
   "id": "bfae07d8",
   "metadata": {},
   "source": [
    "Параметр $\\kappa$ является функцией ацентрического фактора компонента, то есть $\\kappa = \\kappa \\left( \\omega \\right)$, а параметр $T_r$ рассчитывается как отношение температуры к критической температуре компонента. Методы расчета коэффициентов попарного взаимодействия $\\delta_{jk}$ более детально обсуждаются в [приложении B](./EOS-Appendix-B-BIP.html#pvt-eos-appendix-bip)."
   ]
  },
  {
   "cell_type": "markdown",
   "id": "3a9e4231",
   "metadata": {},
   "source": [
    "Задав правила смешивания, определим оставшиеся производные в выражении логарифма коэффициента летучести $i$-го компонента:"
   ]
  },
  {
   "cell_type": "markdown",
   "id": "ddbc05c0",
   "metadata": {},
   "source": [
    "$$ \\begin{align*} \\frac{\\partial n b_m}{\\partial n_i} &= b_i; \\\\ \\frac{\\partial n^2 \\alpha_m}{\\partial n_i} &= 2 n \\sum_{j=1}^{N_c} \\alpha_{ij} x_j. \\end{align*}$$"
   ]
  },
  {
   "cell_type": "markdown",
   "id": "8dd86a97",
   "metadata": {},
   "source": [
    "<a id='pvt-eos-srk_pr-fugacity_coeff-tv'></a>\n",
    "С учетом этого преобразуем выражение для логарифма коэффициента летучести $i$-го компонента:"
   ]
  },
  {
   "cell_type": "markdown",
   "id": "38cf571e",
   "metadata": {},
   "source": [
    "$$ \\begin{align} \\ln \\phi_i = &-\\ln \\frac{V - n b_m}{V} + b_i \\left( \\frac{n}{V - n b_m} - \\frac{n \\alpha_m}{R T b_m} \\frac{V}{\\left( V + n b_m \\delta_1 \\right) \\left( V + n b_m \\delta_2 \\right)} \\right) \\\\ &+ \\frac{1}{R T \\left( \\delta_2 - \\delta_1 \\right)} \\left( \\frac{2 \\sum_{j=1}^{N_c} \\alpha_{ij} x_j}{b_m} - \\frac{\\alpha_m b_i}{b_m^2} \\right) \\ln \\left( \\frac{V + n b_m \\delta_1}{V + n b_m \\delta_2} \\right) - \\ln Z. \\end{align} $$"
   ]
  },
  {
   "cell_type": "markdown",
   "id": "5d92911c",
   "metadata": {},
   "source": [
    "Аналогично может быть получено выражение для логарифма коэффициента летучести системы, состоящей из одного компонента:"
   ]
  },
  {
   "cell_type": "markdown",
   "id": "88f9ef91",
   "metadata": {},
   "source": [
    "$$ \\begin{align} \\ln \\phi = &-\\ln \\frac{V - n b}{V} + b \\left( \\frac{n}{V - n b} - \\frac{n \\alpha}{R T b} \\frac{V}{\\left( V + n b \\delta_1 \\right) \\left( V + n b \\delta_2 \\right)} \\right) + \\frac{1}{R T \\left( \\delta_2 - \\delta_1 \\right)} \\frac{\\alpha}{b} \\ln \\left( \\frac{V + n b \\delta_1}{V + n b \\delta_2} \\right) \\\\ &- \\ln Z. \\end{align} $$"
   ]
  },
  {
   "cell_type": "markdown",
   "id": "318a3356",
   "metadata": {},
   "source": [
    "Данные выражения могут быть использованы для определения логарифма коэффициента летучести компонента систем, состоящих из нескольких компонентов и одного компонента соответственно, при известных объеме и температуре. На практике зачастую известными параметрами системы являются давление и температура. Следовательно, необходимо преобразовать полученные выражения относительно давления и температуры."
   ]
  },
  {
   "cell_type": "markdown",
   "id": "ab0bd6c6",
   "metadata": {},
   "source": [
    "Для начала обратим внимание на то, что:"
   ]
  },
  {
   "cell_type": "markdown",
   "id": "a6afa192",
   "metadata": {},
   "source": [
    "$$ \\left( V + n b_m \\delta_1 \\right) \\left( V + n b_m \\delta_2 \\right) = V^2 + n b_m \\left( c + 1 \\right) V - c b_m^2 n^2 = \\frac{\\alpha_m n^2}{\\frac{n R T}{V - n b_m} - P}. $$"
   ]
  },
  {
   "cell_type": "markdown",
   "id": "f901ac31",
   "metadata": {},
   "source": [
    "<a id='pvt-eos-srk_pr-Z_PT'></a>\n",
    "Уравнения состояния Пенга-Робинсона и Суаве-Редлиха-Квонга относительно коэффициента сверхсжимаемости можно записать в следующем виде:"
   ]
  },
  {
   "cell_type": "markdown",
   "id": "3fd2012c",
   "metadata": {},
   "source": [
    "$$ Z^3 - \\left( 1 - c B \\right) Z^2 + \\left( A - \\left( c + 1 \\right) B - \\left( 2 c + 1\\right) B^2 \\right) Z - \\left( A B - c \\left( B^2 + B^3 \\right) \\right) = 0. $$"
   ]
  },
  {
   "cell_type": "markdown",
   "id": "17c92cd5",
   "metadata": {},
   "source": [
    "Здесь параметры $A$ и $B$:"
   ]
  },
  {
   "cell_type": "markdown",
   "id": "cf9484a7",
   "metadata": {},
   "source": [
    "$$ \\begin{align} A &= \\frac{\\alpha_m P}{R^2 T^2}; \\\\ B &= \\frac{b_m P}{R T}. \\end{align}$$"
   ]
  },
  {
   "cell_type": "markdown",
   "id": "e7903c72",
   "metadata": {},
   "source": [
    "Теперь с учетом коэффициента сверхсжимаемости $Z = \\frac{P v}{R T}$ и параметров $A$ и $B$ преобразуем выражение для логарифма коэффициента летучести $i$-го компонента. Сгруппируем первое и последнее слагаемые в этом выражении:"
   ]
  },
  {
   "cell_type": "markdown",
   "id": "10a9b7c0",
   "metadata": {},
   "source": [
    "$$ - \\ln \\frac{V - n b_m}{V} - \\ln Z = - \\ln \\frac{v - b_m}{v} - \\ln Z = - \\ln \\frac{Z - B}{Z} - \\ln Z = -\\ln \\left( Z - B \\right). $$"
   ]
  },
  {
   "cell_type": "markdown",
   "id": "5c0eb6a7",
   "metadata": {},
   "source": [
    "Предпоследнее слагаемое можно преобразовать следующим образом:"
   ]
  },
  {
   "cell_type": "markdown",
   "id": "ef5dcf99",
   "metadata": {},
   "source": [
    "$$ \\begin{align}\n",
    "& \\frac{1}{R T \\left( \\delta_2 - \\delta_1 \\right)} \\left( \\frac{2 \\sum_{j=1}^{N_c} \\alpha_{ij} x_j}{b_m} - \\frac{\\alpha_m b_i}{b_m^2} \\right) \\ln \\left( \\frac{V + n b_m \\delta_1}{V + n b_m \\delta_2} \\right) \\\\\n",
    "&= \\frac{1}{R T \\left( \\delta_2 - \\delta_1 \\right)} \\frac{\\alpha_m}{b_m} \\left( \\frac{2 \\sum_{j=1}^{N_c} \\alpha_{ij} x_j}{\\alpha_m} - \\frac{b_i}{b_m} \\right)  \\ln \\left( \\frac{Z + B \\delta_1}{Z + B \\delta_2} \\right) \\\\\n",
    "&= \\frac{1}{\\left( \\delta_2 - \\delta_1 \\right)} \\frac{A}{B} \\left( \\frac{2 \\sum_{j=1}^{N_c} \\alpha_{ij} x_j}{\\alpha_m} - \\frac{b_i}{b_m} \\right)  \\ln \\left( \\frac{Z + B \\delta_1}{Z + B \\delta_2} \\right).\n",
    "\\end{align} $$"
   ]
  },
  {
   "cell_type": "markdown",
   "id": "53f277a9",
   "metadata": {},
   "source": [
    "Второе слагаемое можно упростить следующим образом:"
   ]
  },
  {
   "cell_type": "markdown",
   "id": "5d088c09",
   "metadata": {},
   "source": [
    "$$ \\begin{align}\n",
    "\\frac{n}{V - n b_m} - \\frac{n \\alpha_m}{R T b_m} \\frac{V}{\\left( V + n b_m \\delta_1 \\right) \\left( V + n b_m \\delta_2 \\right)}\n",
    "&= \\frac{1}{v - b_m} - \\frac{\\alpha_m}{R T b_m} \\frac{v}{v^2 + \\left( c + 1 \\right) b_m v - c b_m} \\\\\n",
    "&= \\frac{1}{v - b_m} - \\frac{v}{R T b_m} \\left( \\frac{R T}{v - b_m} - P \\right) \\\\\n",
    "&= \\frac{1}{b_m} \\left( Z - 1 \\right).\n",
    "\\end{align} $$"
   ]
  },
  {
   "cell_type": "markdown",
   "id": "9254506b",
   "metadata": {},
   "source": [
    "<a id='pvt-eos-srk_pr-fugacity_coeff-pt'></a>\n",
    "С учетом приведенных выше преобразований выражение для логарифма коэффициента летучести компонента смеси:"
   ]
  },
  {
   "cell_type": "markdown",
   "id": "b1065a32",
   "metadata": {},
   "source": [
    "$$ \\ln \\phi_i = -\\ln \\left( Z - B \\right) + \\frac{b_i}{b_m} \\left( Z - 1 \\right) + \\frac{1}{\\left( \\delta_2 - \\delta_1 \\right)} \\frac{A}{B} \\left( \\frac{2 \\sum_{j=1}^{N_c} \\alpha_{ij} x_j}{\\alpha_m} - \\frac{b_i}{b_m} \\right)  \\ln \\left( \\frac{Z + B \\delta_1}{Z + B \\delta_2} \\right). $$"
   ]
  },
  {
   "cell_type": "markdown",
   "id": "916bb12f",
   "metadata": {},
   "source": [
    "Для чистого компонента:"
   ]
  },
  {
   "cell_type": "markdown",
   "id": "8dc30480",
   "metadata": {},
   "source": [
    "$$ \\ln \\phi = -\\ln \\left( Z - B \\right) + \\left( Z - 1 \\right) + \\frac{1}{\\left( \\delta_2 - \\delta_1 \\right)} \\frac{A}{B} \\ln \\left( \\frac{Z + B \\delta_1}{Z + B \\delta_2} \\right). $$"
   ]
  },
  {
   "cell_type": "markdown",
   "id": "62684855",
   "metadata": {},
   "source": [
    "Далее необходимо определить выражения для параметров $a$ и $b$ для чистых компонентов. Для этого рассмотрим критическую точку чистого компонента. [Ранее](../1-TD/TD-14-PhaseEquilibrium.html#pvt-td-phase_equilibrium-critical_point) было показано, что для критической точки характерно равенство нулю первой и второй частной производной давления по объему при постоянной температуре. Исходя из данных условий для уравнения состояния Ван-дер-Ваальса [были найдены](./EOS-1-VanDerWaals.html#pvt-eos-van_der_waals-coefficients) значения параметров $a$ и $b$ для чистых компонентов, выраженные через давление и температуру в критической точке чистого компонента. Однако для уравнений состояния Пенга-Робинсона и Суаве-Редлиха-Квонга данный подход достаточно трудоемок (хотя абсолютно возможен). Вместо этого рассмотрим уравнение состояния, записанные относительно коэффициента сверхсжимаемости:"
   ]
  },
  {
   "cell_type": "markdown",
   "id": "45c301c5",
   "metadata": {},
   "source": [
    "$$ Z^3 - \\left( 1 - c B \\right) Z^2 + \\left( A - \\left( c + 1 \\right) B - \\left( 2 c + 1\\right) B^2 \\right) Z^2 - \\left( A B - c \\left( B^2 + B^3 \\right) \\right) = 0. $$"
   ]
  },
  {
   "cell_type": "markdown",
   "id": "763264cc",
   "metadata": {},
   "source": [
    "Данное уравнение является кубическим, то есть имеет максимум три действительных корня. Более подробно о том, почему в принципе для заданных давления и температуры могут быть получены различные значения объема и коэффициента сверсжимаемости, будет рассматриваться в [главе \"Равновесие. Стабильность. Критичность\"](../4-ESC/ESC-0-Introduction.html#pvt-esc). Также будет показано, что в критической точке данное уравнение имеет три действительных равных друг другу корня. То есть:"
   ]
  },
  {
   "cell_type": "markdown",
   "id": "05695476",
   "metadata": {},
   "source": [
    "$$ \\left( Z - Z_c \\right)^3 = 0. $$"
   ]
  },
  {
   "cell_type": "markdown",
   "id": "845c07c0",
   "metadata": {},
   "source": [
    "Раскрыв скобки в данном выражении, получим:"
   ]
  },
  {
   "cell_type": "markdown",
   "id": "9a13b218",
   "metadata": {},
   "source": [
    "$$ Z^3 - 3 Z_c Z^2 + 3 Z_c^2 Z - Z_c^3 = 0.$$"
   ]
  },
  {
   "cell_type": "markdown",
   "id": "02c0863e",
   "metadata": {},
   "source": [
    "Тогда, поскольку данное уравнение и уравнение состояния характеризуют одно и то же состояние системы, можно записать следующие соотношения:"
   ]
  },
  {
   "cell_type": "markdown",
   "id": "8dd05a6c",
   "metadata": {},
   "source": [
    "$$ \\begin{align} -3 Z_c &= - \\left( 1 - c B \\right); \\\\ 3 Z_c^2 &= \\left( A - \\left( c + 1 \\right) B - \\left( 2 c + 1\\right) B^2 \\right); \\\\ - Z_c^3 &= - \\left( A B - c \\left( B^2 + B^3 \\right) \\right). \\end{align} $$"
   ]
  },
  {
   "cell_type": "markdown",
   "id": "5a0aa5d5",
   "metadata": {},
   "source": [
    "Полученные уравнения можно решить как систему уравнений относительно параметров $Z_c$, $A$ и $B$. Выразим из первого уравнения $Z_c$, а из второго – $A$ и подставим в третье. Тогда полученная система уравнений будет выглядеть следующим образом:"
   ]
  },
  {
   "cell_type": "markdown",
   "id": "5ad6f1b6",
   "metadata": {},
   "source": [
    "$$ \\begin{cases} Z_c = \\frac{1 - c B}{3}; \\\\ A = \\left( c + 1 \\right) B + \\left( 2 c + 1\\right) B^2 + \\frac{\\left(1 - c B\\right)^2}{3}; \\\\ \\left(c^3 + 9 c^2 + 27 c + 27 \\right) B^3 + \\left( -3 c^2 - 18 c + 27 \\right) B^2 + \\left( 3 c + 9 \\right) B -1 = 0. \\end{cases}$$"
   ]
  },
  {
   "cell_type": "markdown",
   "id": "2a5ed867",
   "metadata": {},
   "source": [
    "Данное кубическое уравнение относительно $B$ может быть решено с использованием [формулы Кардано](https://en.wikipedia.org/wiki/Cubic_equation#General_cubic_formula). Для уравнения состояния Суаве-Редлиха-Квонга, определяемого $c = 0$:"
   ]
  },
  {
   "cell_type": "code",
   "execution_count": 1,
   "id": "a4c4ebc7",
   "metadata": {},
   "outputs": [],
   "source": [
    "import numpy as np\n",
    "import sys\n",
    "sys.path.append('../../SupportCode/')\n",
    "from PVT import core"
   ]
  },
  {
   "cell_type": "code",
   "execution_count": 2,
   "id": "fad495ea",
   "metadata": {},
   "outputs": [
    {
     "data": {
      "text/plain": [
       "0.08664034996495773"
      ]
     },
     "execution_count": 2,
     "metadata": {},
     "output_type": "execute_result"
    }
   ],
   "source": [
    "c = 0\n",
    "k1 = (-3 * c**2 - 18 * c + 27) / (c**3 + 9 * c**2 + 27 * c + 27)\n",
    "k2 = (3 * c + 9) / (c**3 + 9 * c**2 + 27 * c + 27)\n",
    "k3 = -1 / (c**3 + 9 * c**2 + 27 * c + 27)\n",
    "B_srk = core.calc_cardano(k1, k2, k3)[0]\n",
    "B_srk"
   ]
  },
  {
   "cell_type": "markdown",
   "id": "0fa9fa77",
   "metadata": {},
   "source": [
    "Для уравнения состояния Пенга-Робинсона, определяемого $c = 1$:"
   ]
  },
  {
   "cell_type": "code",
   "execution_count": 3,
   "id": "8eb62848",
   "metadata": {},
   "outputs": [
    {
     "data": {
      "text/plain": [
       "0.07779607390388851"
      ]
     },
     "execution_count": 3,
     "metadata": {},
     "output_type": "execute_result"
    }
   ],
   "source": [
    "c = 1\n",
    "k1 = (-3 * c**2 - 18 * c + 27) / (c**3 + 9 * c**2 + 27 * c + 27)\n",
    "k2 = (3 * c + 9) / (c**3 + 9 * c**2 + 27 * c + 27)\n",
    "k3 = -1 / (c**3 + 9 * c**2 + 27 * c + 27)\n",
    "B_pr = core.calc_cardano(k1, k2, k3)[0]\n",
    "B_pr"
   ]
  },
  {
   "cell_type": "markdown",
   "id": "c5475146",
   "metadata": {},
   "source": [
    "В критической точке параметр $B$ определяется следующим выражением:"
   ]
  },
  {
   "cell_type": "markdown",
   "id": "6ef3af90",
   "metadata": {},
   "source": [
    "$$ B = \\frac{b P_c}{R T_c}.$$"
   ]
  },
  {
   "cell_type": "markdown",
   "id": "d9c97924",
   "metadata": {},
   "source": [
    "Тогда для чистого компонента значение параметра $b$ можно выразить:"
   ]
  },
  {
   "cell_type": "markdown",
   "id": "3b653710",
   "metadata": {},
   "source": [
    "$$ b = \\Omega_b \\frac{R T_c}{P_c}. $$"
   ]
  },
  {
   "cell_type": "markdown",
   "id": "8d045e5b",
   "metadata": {},
   "source": [
    "Здесь коэффициент $\\Omega_b = 0.08664$ для уравнения состояния Суаве-Редлиха-Квонга и $\\Omega_b = 0.07780$ для уравнения состояния Пенга-Робинсона. Получим значения для параметра $A$. Для уравнения состояния Суаве-Редлиха-Квонга:"
   ]
  },
  {
   "cell_type": "code",
   "execution_count": 4,
   "id": "bfae99b5",
   "metadata": {},
   "outputs": [
    {
     "data": {
      "text/plain": [
       "0.42748023354034137"
      ]
     },
     "execution_count": 4,
     "metadata": {},
     "output_type": "execute_result"
    }
   ],
   "source": [
    "c = 0\n",
    "A_srk = (c + 1) * B_srk + (2 * c + 1) * B_srk**2 + (1 - c * B_srk)**2 / 3\n",
    "A_srk"
   ]
  },
  {
   "cell_type": "markdown",
   "id": "fe4fa417",
   "metadata": {},
   "source": [
    "Для уравнения состояния Пенга-Робинсона:"
   ]
  },
  {
   "cell_type": "code",
   "execution_count": 5,
   "id": "ae305d1f",
   "metadata": {},
   "outputs": [
    {
     "data": {
      "text/plain": [
       "0.4572355289213823"
      ]
     },
     "execution_count": 5,
     "metadata": {},
     "output_type": "execute_result"
    }
   ],
   "source": [
    "c = 1\n",
    "A_pr = (c + 1) * B_pr + (2 * c + 1) * B_pr**2 + (1 - c * B_pr)**2 / 3\n",
    "A_pr"
   ]
  },
  {
   "cell_type": "markdown",
   "id": "688313c3",
   "metadata": {},
   "source": [
    "В критической точке параметр $A$ определяется следующим выражением:"
   ]
  },
  {
   "cell_type": "markdown",
   "id": "21df2a41",
   "metadata": {},
   "source": [
    "$$A = \\frac{\\alpha P_c}{R^2 T_c^2}.$$"
   ]
  },
  {
   "cell_type": "markdown",
   "id": "7131be72",
   "metadata": {},
   "source": [
    "Параметр $\\alpha$ в критической точке при $ T = T_c$:"
   ]
  },
  {
   "cell_type": "markdown",
   "id": "9691b167",
   "metadata": {},
   "source": [
    "$$\\alpha = a \\left( 1 + \\kappa \\left( 1 - \\sqrt{\\frac{T}{T_c}} \\right) \\right)^2 = a.$$"
   ]
  },
  {
   "cell_type": "markdown",
   "id": "a84cc998",
   "metadata": {},
   "source": [
    "С учетом этого, выражение для параметра $a$:"
   ]
  },
  {
   "cell_type": "markdown",
   "id": "f954f615",
   "metadata": {},
   "source": [
    "$$a = \\Omega_a \\frac{R^2 T_c^2}{P_c}. $$"
   ]
  },
  {
   "cell_type": "markdown",
   "id": "6ff37cf6",
   "metadata": {},
   "source": [
    "Здесь коэффициент для уравнения состояния Суаве-Редлиха-Квонга $\\Omega_a = 0.42748$, для уравнения состояния Пенга-Робинсона $\\Omega_a = 0.45724.$"
   ]
  },
  {
   "cell_type": "markdown",
   "id": "dfe24895",
   "metadata": {},
   "source": [
    "<a id='pvt-eos-srk_pr-kappa'></a>\n",
    "Как было отмечено ранее, коэффициент $\\kappa$ рассчитывается по корреляции от ацентрического фактора. В своей [работе](https://doi.org/10.1021/i160057a011) Пенг и Робинсон в 1976 году предложили использовать следующую корреляцию:"
   ]
  },
  {
   "cell_type": "markdown",
   "id": "b1af5197",
   "metadata": {},
   "source": [
    "$$\\kappa = 0.37464 + 1.54226 \\omega - 0.26992 \\omega^2.$$"
   ]
  },
  {
   "cell_type": "markdown",
   "id": "7e5b5565",
   "metadata": {},
   "source": [
    "Данная корреляция с удовлетворительной точностью воспроизводит значения $\\kappa$ для компонентов из углеводородного ряда до декана, а также для диоксида углерода, азота и сероводорода. Позднее, в 1978 году, Пенг и Робинсон для более тяжедых компонентов предложили следующую корреляцию:"
   ]
  },
  {
   "cell_type": "markdown",
   "id": "707a083e",
   "metadata": {},
   "source": [
    "$$ \\kappa = 0.379642 + 1.48503 \\omega - 0.164423 \\omega^2 + 0.016666 \\omega^3.$$"
   ]
  },
  {
   "cell_type": "markdown",
   "id": "b5e86882",
   "metadata": {},
   "source": [
    "Для уравнения состояния Суаве-Редлиха-Квонга в соответствии со [статьей](https://doi.org/10.1016/0009-2509(72)80096-4) Суаве рекомендуется использование следующей корреляции:"
   ]
  },
  {
   "cell_type": "markdown",
   "id": "72289cc4",
   "metadata": {},
   "source": [
    "$$\\kappa = 0.480 + 1.574 \\omega - 0.176 \\omega^2.$$"
   ]
  },
  {
   "cell_type": "markdown",
   "id": "96f9e17f",
   "metadata": {},
   "source": [
    "В 1978 году для уравнения состояния Суаве-Редлиха-Квонга [было предложено](https://doi.org/10.1021/i260068a010) использовать следующую зависимость:"
   ]
  },
  {
   "cell_type": "markdown",
   "id": "231d939c",
   "metadata": {},
   "source": [
    "$$ \\kappa = 0.48508 + 1.55171 \\omega - 0.15613 \\omega^2.$$"
   ]
  },
  {
   "cell_type": "markdown",
   "id": "38b6bc39",
   "metadata": {},
   "source": [
    "Решение кубического уравнения состояния относительно коэффициента сверхсжимаемости может привести к возникновению нескольких действительных корней. Как было показано [ранее](./EOS-1-VanDerWaals.html#pvt-eos-van_der_waals-root_selection), выбор нужного корня осуществляется на основе сравнения величин энергий Гиббса для каждого корня. Пусть $Z_1$ и $Z_2$ – корни кубического уравнения состояния относительно коэффициента сверсхжимаемости. Тогда:"
   ]
  },
  {
   "cell_type": "markdown",
   "id": "a9372bb0",
   "metadata": {},
   "source": [
    "$$ G_1 - G_2 = n R T \\left( \\sum_{i=1}^{N_c} x_i \\ln {f_1}_i - \\sum_{i=1}^{N_c} x_i \\ln {f_2}_i \\right).$$"
   ]
  },
  {
   "cell_type": "markdown",
   "id": "54c089fc",
   "metadata": {},
   "source": [
    "Логарифм летучести компонента может быть выражен через логарифм коэффициента летучести компонента:"
   ]
  },
  {
   "cell_type": "markdown",
   "id": "c9cf592b",
   "metadata": {},
   "source": [
    "$$ \\ln f_i = \\ln \\phi_i + \\ln x_i P. $$"
   ]
  },
  {
   "cell_type": "markdown",
   "id": "2cb92ba3",
   "metadata": {},
   "source": [
    "С учетом выражения для логарифма коэффициента летучести $i$-го компонента, полученного при использовании уравнений состояния Пенга-Робинсона или Суаве-Редлиха-Квонга, получим для $ \\sum_{i=1}^{N_c} x_i \\ln \\phi_i$:"
   ]
  },
  {
   "cell_type": "markdown",
   "id": "3957d724",
   "metadata": {},
   "source": [
    "$$ \\begin{alignat}{1}\n",
    "\\sum_{i=1}^{N_c} x_i \\ln \\phi_i\n",
    "&= & \\; - \\sum_{i=1}^{N_c} x_i \\ln \\left( Z - B \\right) + \\sum_{i=1}^{N_c} x_i \\frac{b_i}{b_m} \\left( Z - 1 \\right) \\\\\n",
    "&& \\; + \\sum_{i=1}^{N_c} x_i \\frac{1}{\\left( \\delta_2 - \\delta_1 \\right)} \\frac{A}{B} \\left( \\frac{2 \\sum_{j=1}^{N_c} \\alpha_{ij} x_j}{\\alpha_m} - \\frac{b_i}{b_m} \\right)  \\ln \\left( \\frac{Z + B \\delta_1}{Z + B \\delta_2} \\right) \\\\\n",
    "&= & \\; - \\ln \\left( Z - B \\right) + \\left( Z - 1 \\right) + \\frac{1}{\\left( \\delta_2 - \\delta_1 \\right)} \\frac{A}{B} \\ln \\left( \\frac{Z + B \\delta_1}{Z + B \\delta_2} \\right).\n",
    "\\end{alignat} $$"
   ]
  },
  {
   "cell_type": "markdown",
   "id": "00b25302",
   "metadata": {},
   "source": [
    "Тогда:"
   ]
  },
  {
   "cell_type": "markdown",
   "id": "15a352ee",
   "metadata": {},
   "source": [
    "$$ G_1 - G_2 = - \\ln \\left( \\frac{Z_1 - B}{Z_2 - B} \\right) + \\left( Z_1 - Z_2 \\right) + \\frac{1}{\\left( \\delta_2 - \\delta_1 \\right)} \\frac{A}{B} \\ln \\left( \\frac{Z_1 + B \\delta_1}{Z_1 + B \\delta_2} \\frac{Z_2 + B \\delta_2}{Z_2 + B \\delta_1} \\right).$$"
   ]
  },
  {
   "cell_type": "markdown",
   "id": "1b40008c",
   "metadata": {},
   "source": [
    "Следовательно, если $G_1 - G_2 > 0$, то коэффициент сверхсжимаемости равен $Z_2$."
   ]
  },
  {
   "cell_type": "markdown",
   "id": "3d160bb6",
   "metadata": {},
   "source": [
    "Теперь рассмотрим применение уравнений состояния Суаве-Редлиха-Квонга и Пенга-Робинсона. Для этого определим летучести компонентов рассмотренной [ранее](./EOS-1-VanDerWaals.html#pvt-eos-van_der_waals-exercise) системы."
   ]
  },
  {
   "cell_type": "code",
   "execution_count": 6,
   "id": "ce0eb91b",
   "metadata": {},
   "outputs": [],
   "source": [
    "Pc = np.array([7.37646, 4.600155]) * 10**6\n",
    "Tc = np.array([304.2, 190.6])\n",
    "w = np.array([0.225, 0.008])\n",
    "z = np.array([0.15, 0.85])\n",
    "dij = np.array([[0, 0.025], [0.025, 0]])\n",
    "R = 8.314"
   ]
  },
  {
   "cell_type": "code",
   "execution_count": 7,
   "id": "ddf08854",
   "metadata": {},
   "outputs": [],
   "source": [
    "P = 20 * 10**5\n",
    "T = 40 + 273.15"
   ]
  },
  {
   "cell_type": "code",
   "execution_count": 8,
   "id": "3518467c",
   "metadata": {
    "tags": [
     "hide-input"
    ]
   },
   "outputs": [],
   "source": [
    "class mix_rules_pr_srk(core):\n",
    "    def __init__(self, Pc, Tc, w, n=1, dij=None, eos='PR'):\n",
    "        self.select_eos(eos, w)\n",
    "        self.Pc = Pc\n",
    "        self.Tc = Tc\n",
    "        self.n = n\n",
    "        self.dij = dij\n",
    "        self.ai = self.omegaa * (R * Tc)**2 / Pc\n",
    "        self.bi = self.omegab * R * Tc / Pc\n",
    "        pass\n",
    "\n",
    "    def select_eos(self, eos, w):\n",
    "        if eos == 'PR':\n",
    "            self.c = 1\n",
    "            self.omegaa = 0.45724\n",
    "            self.omegab = 0.07780\n",
    "            self.delta1 = 1 - 2**0.5\n",
    "            self.delta2 = 1 + 2**0.5\n",
    "            self.kappa = np.where(w <= 0.491, 0.37464 + 1.54226 * w - 0.26992 * w**2, 0.379642 + 1.48503 * w - 0.164423 * w**2 + 0.016666 * w**3)\n",
    "        elif eos == 'SRK':\n",
    "            self.c = 0\n",
    "            self.omegaa = 0.42748\n",
    "            self.omegab = 0.08664\n",
    "            self.delta1 = 0\n",
    "            self.delta2 = 1\n",
    "            self.kappa = 0.48508 + 1.55171 * w - 0.15613 * w**2\n",
    "#             self.kappa = 0.48 + 1.574 * w - 0.176 * w**2\n",
    "        pass\n",
    "\n",
    "    def calc_mix_params(self, T, z, calc_der=False):\n",
    "        self.alphai = self.ai * (1 + self.kappa * (1 - (T / self.Tc)**0.5))**2\n",
    "        self.alphaij = np.outer(self.alphai, self.alphai)**0.5\n",
    "        if self.dij is not None:\n",
    "            self.alphaij = self.alphaij * (1 - self.dij)\n",
    "        self.alpham = np.sum(np.outer(z, z) * self.alphaij)\n",
    "        self.bm = np.sum(z * self.bi)\n",
    "        if calc_der:\n",
    "            self.dalphamdn = 2 * (np.sum(self.alphaij * self.repeat(self.z, 0), 1) - self.alpham) / self.n\n",
    "            self.damdn = (self.bi - self.bm) / self.n\n",
    "        return self"
   ]
  },
  {
   "cell_type": "code",
   "execution_count": 9,
   "id": "817e2b23",
   "metadata": {
    "tags": [
     "hide-input"
    ]
   },
   "outputs": [],
   "source": [
    "class eos_pr_srk(core):\n",
    "    def __init__(self, mr, z, T, P=None, v=None):\n",
    "        self.mr = mr.calc_mix_params(T, z)\n",
    "        self.z = z\n",
    "        self.T = T\n",
    "        if v is not None:\n",
    "            self.v = v\n",
    "            self.Z = self.calc_Z_V()\n",
    "            self.P = self.Z * R * T / v\n",
    "            self.lnphi = self.calc_fug_coef_V()\n",
    "        elif P is not None:\n",
    "            self.P = P\n",
    "            self.A = mr.alpham * P / (R**2 * T**2)\n",
    "            self.B = mr.bm * P / (R * T)\n",
    "            self.Z = self.calc_Z_P()\n",
    "            self.v = self.Z * R * T / P\n",
    "            self.lnphi = self.calc_fug_coef_P()\n",
    "        self.lnf = self.lnphi + np.log(z * self.P)\n",
    "        pass\n",
    "\n",
    "    def calc_Z_V(self):\n",
    "        return self.v / (self.v - self.mr.bm) - self.mr.alpham * self.v / (R * self.T * \\\n",
    "               (self.v**2 + (self.mr.c + 1) * self.mr.bm * self.v - self.mr.c * self.mr.bm**2))\n",
    "\n",
    "    def calc_Z_P(self):\n",
    "        Zs = self.calc_cardano(-(1 - self.mr.c * self.B), self.A - (self.mr.c + 1) * self.B - (2 * self.mr.c + 1) * self.B**2,\n",
    "                               -(self.A * self.B - self.mr.c * (self.B**2 + self.B**3)))\n",
    "        Z = Zs[0]\n",
    "        if len(Zs) > 1:\n",
    "            for i in range(1, 3):\n",
    "                if self.calc_dG(Z, Zs[i]) > 0:\n",
    "                    Z = Zs[i]\n",
    "        return Z\n",
    "\n",
    "    def calc_fug_coef_V(self):\n",
    "        return -np.log((self.v - self.mr.bm) / self.v) + self.mr.bi * (1 / (self.v - self.mr.bm) - \\\n",
    "               self.mr.alpham * self.v / (R * self.T * self.mr.bm * (self.v + self.mr.bm * self.mr.delta1) * \\\n",
    "               (self.v + self.mr.bm * self.mr.delta2))) + (2 * np.sum(self.mr.alphaij * self.repeat(self.z, 0), 1) / \\\n",
    "               self.mr.bm - self.mr.alpham * self.mr.bi / self.mr.bm**2) * np.log((self.v + self.mr.bm * self.mr.delta1) / \\\n",
    "               (self.v + self.mr.bm * self.mr.delta2)) / (R * self.T * (self.mr.delta2 - self.mr.delta1)) - np.log(self.Z)\n",
    "\n",
    "    def calc_fug_coef_P(self):\n",
    "        return -np.log(self.Z - self.B) + self.mr.bi * (self.Z - 1) / self.mr.bm + \\\n",
    "               self.A * (2 * np.sum(self.mr.alphaij * self.repeat(self.z, 0), 1) / self.mr.alpham - self.mr.bi / self.mr.bm) * \\\n",
    "               np.log((self.Z + self.B * self.mr.delta1) / (self.Z + self.B * self.mr.delta2)) / \\\n",
    "               (self.B * (self.mr.delta2 - self.mr.delta1))\n",
    "\n",
    "    def calc_dG(self, Z1, Z2):\n",
    "        return - np.log((Z1 - self.B) / (Z2 - self.B)) + (Z1 - Z2) + \\\n",
    "               self.A * np.log(((Z1 + self.B * self.mr.delta1) * (Z2 + self.B * self.mr.delta2)) / \\\n",
    "                               ((Z1 + self.B * self.mr.delta2) * (Z2 + self.B * self.mr.delta1))) / \\\n",
    "               (self.B * (self.mr.delta2 - self.mr.delta1))"
   ]
  },
  {
   "cell_type": "markdown",
   "id": "6298da9f",
   "metadata": {},
   "source": [
    "Коэффициент сверхсжимаемости с использованием уравнения состояния Пенга-Робинсона:"
   ]
  },
  {
   "cell_type": "code",
   "execution_count": 10,
   "id": "bbd150eb",
   "metadata": {},
   "outputs": [],
   "source": [
    "mr = mix_rules_pr_srk(Pc, Tc, w, dij=dij)"
   ]
  },
  {
   "cell_type": "code",
   "execution_count": 11,
   "id": "0df43a1d",
   "metadata": {},
   "outputs": [
    {
     "data": {
      "text/plain": [
       "0.95664092481843"
      ]
     },
     "execution_count": 11,
     "metadata": {},
     "output_type": "execute_result"
    }
   ],
   "source": [
    "eos = eos_pr_srk(mr, z, T=T, P=P)\n",
    "eos.Z"
   ]
  },
  {
   "cell_type": "code",
   "execution_count": 12,
   "id": "aee36011",
   "metadata": {},
   "outputs": [
    {
     "data": {
      "text/plain": [
       "0.95664092481843"
      ]
     },
     "execution_count": 12,
     "metadata": {},
     "output_type": "execute_result"
    }
   ],
   "source": [
    "eosv = eos_pr_srk(mr, z, T=T, v=eos.v)\n",
    "eosv.Z"
   ]
  },
  {
   "cell_type": "markdown",
   "id": "2371b9b4",
   "metadata": {},
   "source": [
    "Логарифм летучести компонентов с использованием уравнения состояния Пенга-Робинсона:"
   ]
  },
  {
   "cell_type": "code",
   "execution_count": 13,
   "id": "85e4ae05",
   "metadata": {},
   "outputs": [
    {
     "data": {
      "text/plain": [
       "array([-0.08472805, -0.03680646])"
      ]
     },
     "execution_count": 13,
     "metadata": {},
     "output_type": "execute_result"
    }
   ],
   "source": [
    "eos.lnphi"
   ]
  },
  {
   "cell_type": "code",
   "execution_count": 14,
   "id": "2a4cda54",
   "metadata": {},
   "outputs": [
    {
     "data": {
      "text/plain": [
       "array([12.5268097 , 14.30933234])"
      ]
     },
     "execution_count": 14,
     "metadata": {},
     "output_type": "execute_result"
    }
   ],
   "source": [
    "eosv.lnf"
   ]
  },
  {
   "cell_type": "markdown",
   "id": "8ea4eabc",
   "metadata": {},
   "source": [
    "Коэффициент сверхсжимаемости с использованием уравнения состояния Суаве-Редлиха-Квонга:"
   ]
  },
  {
   "cell_type": "code",
   "execution_count": 15,
   "id": "177a5240",
   "metadata": {},
   "outputs": [],
   "source": [
    "mr = mix_rules_pr_srk(Pc, Tc, w, dij=dij, eos='SRK')"
   ]
  },
  {
   "cell_type": "code",
   "execution_count": 16,
   "id": "e43839b5",
   "metadata": {},
   "outputs": [
    {
     "data": {
      "text/plain": [
       "0.9661486475587837"
      ]
     },
     "execution_count": 16,
     "metadata": {},
     "output_type": "execute_result"
    }
   ],
   "source": [
    "eos = eos_pr_srk(mr, z, T=T, P=P)\n",
    "eos.Z"
   ]
  },
  {
   "cell_type": "code",
   "execution_count": 17,
   "id": "781ee9e5",
   "metadata": {},
   "outputs": [
    {
     "data": {
      "text/plain": [
       "0.9661486475587837"
      ]
     },
     "execution_count": 17,
     "metadata": {},
     "output_type": "execute_result"
    }
   ],
   "source": [
    "eosv = eos_pr_srk(mr, z, T=T, v=eos.v)\n",
    "eosv.Z"
   ]
  },
  {
   "cell_type": "markdown",
   "id": "710fcb88",
   "metadata": {},
   "source": [
    "Логарифм летучести компонентов с использованием уравнения состояния Суаве-Редлиха-Квонга:"
   ]
  },
  {
   "cell_type": "code",
   "execution_count": 18,
   "id": "8546c4e1",
   "metadata": {},
   "outputs": [
    {
     "data": {
      "text/plain": [
       "array([12.537104  , 14.31899252])"
      ]
     },
     "execution_count": 18,
     "metadata": {},
     "output_type": "execute_result"
    }
   ],
   "source": [
    "eos.lnf"
   ]
  },
  {
   "cell_type": "code",
   "execution_count": 19,
   "id": "fa5b6105",
   "metadata": {},
   "outputs": [
    {
     "data": {
      "text/plain": [
       "array([12.537104  , 14.31899252])"
      ]
     },
     "execution_count": 19,
     "metadata": {},
     "output_type": "execute_result"
    }
   ],
   "source": [
    "eosv.lnf"
   ]
  }
 ],
 "metadata": {
  "jupytext": {
   "text_representation": {
    "extension": ".md",
    "format_name": "myst",
    "format_version": 0.13,
    "jupytext_version": "1.10.3"
   }
  },
  "kernelspec": {
   "display_name": "Python 3 (ipykernel)",
   "language": "python",
   "name": "python3"
  },
  "language_info": {
   "codemirror_mode": {
    "name": "ipython",
    "version": 3
   },
   "file_extension": ".py",
   "mimetype": "text/x-python",
   "name": "python",
   "nbconvert_exporter": "python",
   "pygments_lexer": "ipython3",
   "version": "3.7.13"
  },
  "source_map": [
   12,
   18,
   22,
   26,
   33,
   37,
   41,
   45,
   49,
   53,
   57,
   61,
   66,
   70,
   74,
   78,
   82,
   91,
   95,
   108,
   112,
   116,
   120,
   133,
   137,
   141,
   145,
   153,
   162,
   166,
   179,
   183,
   188,
   192,
   196,
   200,
   204,
   208,
   212,
   216,
   220,
   225,
   229,
   233,
   237,
   241,
   245,
   249,
   254,
   258,
   262,
   266,
   270,
   274,
   278,
   286,
   290,
   299,
   304,
   308,
   312,
   316,
   320,
   324,
   328,
   332,
   336,
   340,
   344,
   348,
   352,
   356,
   363,
   372,
   381,
   387,
   396,
   400,
   404,
   408,
   412,
   418,
   424,
   430,
   436,
   440,
   444,
   448,
   452,
   456,
   460,
   464,
   469,
   473,
   477,
   481,
   485,
   489,
   493,
   497,
   501,
   505,
   509,
   513,
   517,
   526,
   530,
   534,
   538,
   544,
   555,
   562,
   609,
   666,
   672,
   678,
   685,
   690,
   696,
   702,
   706,
   712,
   718,
   725,
   730,
   736,
   742
  ]
 },
 "nbformat": 4,
 "nbformat_minor": 5
}