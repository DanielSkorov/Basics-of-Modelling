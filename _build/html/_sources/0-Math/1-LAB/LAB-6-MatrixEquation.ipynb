{
 "cells": [
  {
   "cell_type": "code",
   "execution_count": 1,
   "id": "987668e0",
   "metadata": {
    "tags": [
     "hide-input"
    ]
   },
   "outputs": [],
   "source": [
    "import numpy as np\n",
    "from sympy import Matrix, Symbol"
   ]
  },
  {
   "cell_type": "markdown",
   "id": "f21f06b9",
   "metadata": {},
   "source": [
    "<a id='math-lab-matrix_eq'></a>\n",
    "# Матричные уравнения"
   ]
  },
  {
   "cell_type": "markdown",
   "id": "8571558e",
   "metadata": {},
   "source": [
    "Допустим, имеется следующая система линейных уравнений:"
   ]
  },
  {
   "cell_type": "markdown",
   "id": "2b044cd8",
   "metadata": {},
   "source": [
    "$$ \\left\\{\\begin{array}\\\\3x + 2y + z = 5 \\\\ 2x + 3y + z = -1 \\\\ 2x + y + 3z = 3\\end{array}\\right. $$"
   ]
  },
  {
   "cell_type": "markdown",
   "id": "0302c575",
   "metadata": {},
   "source": [
    "Левую часть уравнений в данной системе можно представить в виде произведения двух матриц:"
   ]
  },
  {
   "cell_type": "markdown",
   "id": "6cacf26e",
   "metadata": {},
   "source": [
    "$$ A \\cdot X, $$"
   ]
  },
  {
   "cell_type": "markdown",
   "id": "1b206f05",
   "metadata": {},
   "source": [
    "где:"
   ]
  },
  {
   "cell_type": "markdown",
   "id": "df0fb6c1",
   "metadata": {},
   "source": [
    "$$ A = \\begin{bmatrix} 3 & 2 & 1 \\\\ 2 & 3 & 1 \\\\ 2 & 1 & 3 \\end{bmatrix}, \\; X = \\begin{bmatrix} x \\\\ y \\\\ z \\end{bmatrix}. $$"
   ]
  },
  {
   "cell_type": "code",
   "execution_count": 2,
   "id": "4d115d8a",
   "metadata": {},
   "outputs": [
    {
     "data": {
      "text/latex": [
       "$\\displaystyle \\left[\\begin{matrix}3 x + 2 y + z\\\\2 x + 3 y + z\\\\2 x + y + 3 z\\end{matrix}\\right]$"
      ],
      "text/plain": [
       "Matrix([\n",
       "[3*x + 2*y + z],\n",
       "[2*x + 3*y + z],\n",
       "[2*x + y + 3*z]])"
      ]
     },
     "execution_count": 2,
     "metadata": {},
     "output_type": "execute_result"
    }
   ],
   "source": [
    "from sympy import Matrix, Symbol\n",
    "A = Matrix([[3, 2, 1], [2, 3, 1], [2, 1, 3]])\n",
    "x = Symbol('x')\n",
    "y = Symbol('y')\n",
    "z = Symbol('z')\n",
    "X = Matrix([[x], [y], [z]])\n",
    "A * X"
   ]
  },
  {
   "cell_type": "markdown",
   "id": "3c217237",
   "metadata": {},
   "source": [
    "Правые части уравнений также можно представить в виде матрицы-столбца $B$:"
   ]
  },
  {
   "cell_type": "markdown",
   "id": "614c8e7f",
   "metadata": {},
   "source": [
    "$$ B = \\begin{bmatrix} 5 \\\\ -1 \\\\ 3 \\end{bmatrix}. $$"
   ]
  },
  {
   "cell_type": "markdown",
   "id": "9e689ea7",
   "metadata": {},
   "source": [
    "Тогда исходную систему линейных уравнений можно представить в виде матричного уравнения:"
   ]
  },
  {
   "cell_type": "markdown",
   "id": "cd4b4afe",
   "metadata": {},
   "source": [
    "$$ A \\cdot X = B. $$"
   ]
  },
  {
   "cell_type": "markdown",
   "id": "95c9d909",
   "metadata": {},
   "source": [
    "Домножим обе части уравнения на $A^{-1}$:"
   ]
  },
  {
   "cell_type": "markdown",
   "id": "44730bd4",
   "metadata": {},
   "source": [
    "$$ A^{-1} \\cdot A \\cdot X = A^{-1} \\cdot B. $$"
   ]
  },
  {
   "cell_type": "markdown",
   "id": "fa4ceac2",
   "metadata": {},
   "source": [
    "Левую часть уравнения можно упростить, применив определение обратной матрицы:"
   ]
  },
  {
   "cell_type": "markdown",
   "id": "b964702f",
   "metadata": {},
   "source": [
    "$$ X = A^{-1} \\cdot B. $$"
   ]
  },
  {
   "cell_type": "code",
   "execution_count": 3,
   "id": "a022f75d",
   "metadata": {},
   "outputs": [
    {
     "data": {
      "text/plain": [
       "array([[ 3.5],\n",
       "       [-2.5],\n",
       "       [-0.5]])"
      ]
     },
     "execution_count": 3,
     "metadata": {},
     "output_type": "execute_result"
    }
   ],
   "source": [
    "A = np.array([[3, 2, 1], [2, 3, 1], [2, 1, 3]])\n",
    "B = np.array([[5], [-1], [3]])\n",
    "X = np.linalg.inv(A).dot(B)\n",
    "X"
   ]
  },
  {
   "cell_type": "markdown",
   "id": "303ed2dd",
   "metadata": {},
   "source": [
    "Проверка:"
   ]
  },
  {
   "cell_type": "code",
   "execution_count": 4,
   "id": "22aec9b8",
   "metadata": {},
   "outputs": [
    {
     "data": {
      "text/plain": [
       "array([[ 5.],\n",
       "       [-1.],\n",
       "       [ 3.]])"
      ]
     },
     "execution_count": 4,
     "metadata": {},
     "output_type": "execute_result"
    }
   ],
   "source": [
    "A.dot(X)"
   ]
  }
 ],
 "metadata": {
  "jupytext": {
   "text_representation": {
    "extension": ".md",
    "format_name": "myst",
    "format_version": 0.13,
    "jupytext_version": "1.10.3"
   }
  },
  "kernelspec": {
   "display_name": "Python 3 (ipykernel)",
   "language": "python",
   "name": "python3"
  },
  "language_info": {
   "codemirror_mode": {
    "name": "ipython",
    "version": 3
   },
   "file_extension": ".py",
   "mimetype": "text/x-python",
   "name": "python",
   "nbconvert_exporter": "python",
   "pygments_lexer": "ipython3",
   "version": "3.7.13"
  },
  "source_map": [
   14,
   21,
   26,
   30,
   34,
   38,
   42,
   46,
   52,
   62,
   66,
   70,
   74,
   78,
   82,
   86,
   90,
   96,
   103,
   109
  ]
 },
 "nbformat": 4,
 "nbformat_minor": 5
}