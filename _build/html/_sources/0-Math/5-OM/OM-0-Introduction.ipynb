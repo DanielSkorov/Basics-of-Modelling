{
 "cells": [
  {
   "cell_type": "markdown",
   "id": "b672ba58",
   "metadata": {},
   "source": [
    "<a id='math-om'></a>\n",
    "# Методы оптимизации функций\n",
    "Данный раздел посвящен изложению некоторых численных методов оптимизации: поиска стационарных точек функции, а также глобальных минимума и максимума функции, которые будут использовать в дальнейшем для решения задач моделирования."
   ]
  },
  {
   "cell_type": "markdown",
   "id": "71aef2cc",
   "metadata": {},
   "source": [
    "**Содержание:**\n",
    "* [Нахождение стационарной точки функции методом Ньютона](./OM-1-Newton.html#math-om-newton)\n",
    "* [Квази-ньютоновские методы поиска стационарной точки функции](./OM-2-QNewton.html#math-om-qnewton)\n",
    "* [Метод доверительной области](./OM-3-TR.html#math-om-tr)\n",
    "* [Туннельный метод оптимизации функции](./OM-4-Tunneling.html#math-om-tunneling)"
   ]
  }
 ],
 "metadata": {
  "jupytext": {
   "text_representation": {
    "extension": ".md",
    "format_name": "myst",
    "format_version": 0.13,
    "jupytext_version": "1.10.3"
   }
  },
  "kernelspec": {
   "display_name": "Python 3 (ipykernel)",
   "language": "python",
   "name": "python3"
  },
  "language_info": {
   "codemirror_mode": {
    "name": "ipython",
    "version": 3
   },
   "file_extension": ".py",
   "mimetype": "text/x-python",
   "name": "python",
   "nbconvert_exporter": "python",
   "pygments_lexer": "ipython3",
   "version": "3.7.13"
  },
  "source_map": [
   12,
   18
  ]
 },
 "nbformat": 4,
 "nbformat_minor": 5
}