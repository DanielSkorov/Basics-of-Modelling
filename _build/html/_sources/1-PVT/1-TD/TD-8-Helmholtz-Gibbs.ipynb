{
 "cells": [
  {
   "cell_type": "markdown",
   "id": "40f6d06c",
   "metadata": {},
   "source": [
    "<a id='pvt-td-helmholtz_gibbs'></a>\n",
    "# Энергия Гельмгольца. Энергия Гиббса\n",
    "К текущему моменту были рассмотрены два параметра (внутренняя энергия и энтальпия), которые характеризуют рассматриваемую систему с энергитической точки зрения. В данном разделе будут рассмотрены еще два параметра: *свободная энергия Гельмгольца* и *свободная энергия Гиббса*. По аналогии с [энтальпией](./TD-5-Enthalpy.html#pvt-td-enthalpy), характеризующей количество переданного тепла системе в изобарном процессе, данные параметры будут описывать некоторые аспекты передачи энергии системе через работу. При этом, если в процессе релаксации системы энтропия стремится к максимуму, то данные параметры будут стремиться к минимуму."
   ]
  },
  {
   "cell_type": "markdown",
   "id": "101bc254",
   "metadata": {},
   "source": [
    "<a id='pvt-td-helmholtz_gibbs-helmholtz'></a>\n",
    "## Энергия Гельмгольца"
   ]
  },
  {
   "cell_type": "markdown",
   "id": "f2d1fe7e",
   "metadata": {},
   "source": [
    "```{prf:определение}\n",
    ":nonumber:\n",
    "Параметр ***энергии Гельмгольца*** определяется следующим выражением:\n",
    "+++\n",
    "$$F = U - T S.$$\n",
    "+++\n",
    "```"
   ]
  },
  {
   "cell_type": "markdown",
   "id": "aa77c222",
   "metadata": {},
   "source": [
    "Смысл данного параметра можно передать по аналогии с энтальпией. Представим, что необходимо создать некоторую систему в некотором макросостоянии с энтропией $S$ и внутренней энергией $U$ в среде, находящейся в равновесии при температуре $T$. Какое количество энергии необходимо для этого? Для этого необходимо количество энергии, равное внутренней энергии создаваемой системы $U$ за вычетом энергии, переданной в виде тепла от окружающей среды $T S$. Оставшееся количество энергии должно быть передано в виде работы – это и есть *энергия Гельмгольца*. То есть энергия Гельмгольца представляет собой количество энергии, которое система может направить на совершение работы при температуре $T$, внутренней энергии $U$ и энтропии $S$. С практической точки зрения определение энергии Гельмгольца можно дать следующим образом. Рассматривая квази-стационарный изотермический процесс, изменение энергии Гельмгольца будет равно работе:"
   ]
  },
  {
   "cell_type": "markdown",
   "id": "8ecd1577",
   "metadata": {},
   "source": [
    "$$ \\Delta F = \\Delta U - T \\Delta S = \\Delta U - Q = W.$$"
   ]
  },
  {
   "cell_type": "markdown",
   "id": "2ecc5228",
   "metadata": {},
   "source": [
    "Стоит отметить, что изменение энергии Гельмгольца равно *всей* работе системы, а не только механической (работе расширения и сжатия). Если рассматриваемый процесс не является квази-стационарным, тогда $T \\Delta S \\geq Q$, то есть:"
   ]
  },
  {
   "cell_type": "markdown",
   "id": "cc4ed5ba",
   "metadata": {},
   "source": [
    "$$\\Delta F \\leq W.$$"
   ]
  },
  {
   "cell_type": "markdown",
   "id": "74ddb3db",
   "metadata": {},
   "source": [
    "<a id='pvt-td-helmholtz_gibbs-helmholtz_partials'></a>\n",
    "Существует ряд важных дифференциальных соотношений, связанных с энергией Гельмгольца. Дифференциал энергии Гельмгольца:"
   ]
  },
  {
   "cell_type": "markdown",
   "id": "8d41c706",
   "metadata": {},
   "source": [
    "$$dF = dU - T dS - S dT.$$"
   ]
  },
  {
   "cell_type": "markdown",
   "id": "a94b55ed",
   "metadata": {},
   "source": [
    "С учетом этого выражение для [thermodynamic identity](TD-7-ChemicalPotential.html#pvt-td-chemical_potential-thermodynamic_identity) можно записать в следующем виде:"
   ]
  },
  {
   "cell_type": "markdown",
   "id": "040c031f",
   "metadata": {},
   "source": [
    "$$ dF = - P dV - S dT + \\mu dN. $$"
   ]
  },
  {
   "cell_type": "markdown",
   "id": "4cbc910d",
   "metadata": {},
   "source": [
    "Отсюда следует, что:"
   ]
  },
  {
   "cell_type": "markdown",
   "id": "4d775b5f",
   "metadata": {},
   "source": [
    "$$ \\begin{align} P &= - \\left( \\frac{\\partial F}{\\partial V} \\right)_{T, N}; \\\\ S &= - \\left( \\frac{\\partial F}{\\partial T} \\right)_{V, N}; \\\\ \\mu &= \\left( \\frac{\\partial F}{\\partial N} \\right)_{T, V}. \\end{align}$$"
   ]
  },
  {
   "cell_type": "markdown",
   "id": "129541f8",
   "metadata": {},
   "source": [
    "<a id='pvt-td-helmholtz_gibbs-gibbs'></a>\n",
    "## Энергия Гиббса"
   ]
  },
  {
   "cell_type": "markdown",
   "id": "77caa94f",
   "metadata": {},
   "source": [
    "```{prf:определение}\n",
    ":nonumber:\n",
    "Параметр ***энергии Гиббса*** определяется выражением:\n",
    "+++\n",
    "$$G = U + PV - TS = H - TS = F + PV.$$\n",
    "+++\n",
    "```"
   ]
  },
  {
   "cell_type": "markdown",
   "id": "0167b828",
   "metadata": {},
   "source": [
    "Представим, что необходимо создать некоторую систему в некотором макросостоянии объемом $V$, энтропией $S$, находящейся в равновесии с окружающей средой при давлении $P$ и температуре $S$. Энергия Гиббса характеризует то дополнительное количество энергии к энергии, полученной от окружающего пространства, которое необходимо для создания такой системы. Следовательно, энерги Гиббса характеризует то количество энергии, которое может быть затрачено на совершение немеханической работы (не работы расширения и сжатия). То есть если энергия Гельмгольца характеризовала количество энергии, которое система может затратить на совершение *всей* работы, то энергия Гиббса – на совершение *немеханической* работы. С практической точки зрения изменение энергии Гиббса в изобарном и изотермическом квази-стационарном процессе характеризует количество энергии, переданное через немеханическую работу:"
   ]
  },
  {
   "cell_type": "markdown",
   "id": "6cc1fc96",
   "metadata": {},
   "source": [
    "$$\\begin{align}\n",
    "\\Delta G\n",
    "&= \\Delta U + P \\Delta V - T \\Delta S \\\\\n",
    "&= \\Delta U - \\left( - P \\Delta V + T \\Delta S \\right) \\\\\n",
    "&= \\Delta U - \\left( Q - P \\Delta V \\right) \\\\\n",
    "&= \\Delta U - \\left( \\Delta U - W' \\right) \\\\\n",
    "&= W'. \\end{align}$$"
   ]
  },
  {
   "cell_type": "markdown",
   "id": "9849e88b",
   "metadata": {},
   "source": [
    "Для не квази-стационарных процессов:"
   ]
  },
  {
   "cell_type": "markdown",
   "id": "8b835805",
   "metadata": {},
   "source": [
    "$$\\Delta G \\leq W'.$$"
   ]
  },
  {
   "cell_type": "markdown",
   "id": "60a53dcb",
   "metadata": {},
   "source": [
    "<a id='pvt-td-helmholtz_gibbs-gibbs_partials'></a>\n",
    "Как и для энергии Гельмгольца, для энергии Гиббса также существует ряд важных дифференциальных соотношений. Дифференциал энергии Гиббса:"
   ]
  },
  {
   "cell_type": "markdown",
   "id": "0c43f400",
   "metadata": {},
   "source": [
    "$$ dG = dU - T dS - S dT + P dV + V dP. $$"
   ]
  },
  {
   "cell_type": "markdown",
   "id": "9516b4c5",
   "metadata": {},
   "source": [
    "С учетом этого выражение для [thermodynamic identity](TD-7-ChemicalPotential.html#pvt-td-chemical_potential-thermodynamic_identity) можно записать следующим образом:"
   ]
  },
  {
   "cell_type": "markdown",
   "id": "70616f99",
   "metadata": {},
   "source": [
    "$$dG = -S dT + V dP + \\mu dN.$$"
   ]
  },
  {
   "cell_type": "markdown",
   "id": "ad19bc76",
   "metadata": {},
   "source": [
    "Следовательно,"
   ]
  },
  {
   "cell_type": "markdown",
   "id": "05c3f398",
   "metadata": {},
   "source": [
    "$$ \\begin{align} V &= \\left( \\frac{\\partial G}{\\partial P} \\right)_{T, N}; \\\\ S &= -\\left( \\frac{\\partial G}{\\partial T} \\right)_{P, N}; \\\\ \\mu &= \\left( \\frac{\\partial G}{\\partial N} \\right)_{T, P}. \\end{align} $$"
   ]
  }
 ],
 "metadata": {
  "jupytext": {
   "text_representation": {
    "extension": ".md",
    "format_name": "myst",
    "format_version": 0.13,
    "jupytext_version": "1.10.3"
   }
  },
  "kernelspec": {
   "display_name": "Python 3 (ipykernel)",
   "language": "python",
   "name": "python3"
  },
  "language_info": {
   "codemirror_mode": {
    "name": "ipython",
    "version": 3
   },
   "file_extension": ".py",
   "mimetype": "text/x-python",
   "name": "python",
   "nbconvert_exporter": "python",
   "pygments_lexer": "ipython3",
   "version": "3.7.13"
  },
  "source_map": [
   12,
   18,
   23,
   33,
   37,
   41,
   45,
   49,
   54,
   58,
   62,
   66,
   70,
   74,
   79,
   89,
   93,
   103,
   107,
   111,
   116,
   120,
   124,
   128,
   132
  ]
 },
 "nbformat": 4,
 "nbformat_minor": 5
}