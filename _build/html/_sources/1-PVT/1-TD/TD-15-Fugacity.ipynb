{
 "cells": [
  {
   "cell_type": "markdown",
   "id": "0d7c8529",
   "metadata": {},
   "source": [
    "<a id='pvt-td-fugacity'></a>\n",
    "# Летучесть"
   ]
  },
  {
   "cell_type": "markdown",
   "id": "268cf920",
   "metadata": {},
   "source": [
    "## Определение летучести\n",
    "Выражение [thermodynamic identity](./TD-8-Helmholtz-Gibbs.html#pvt-td-helmholtz_gibbs-gibbs_partials), записанное через энергию Гиббса, при постоянном количестве частиц в системе записывается следующим образом:"
   ]
  },
  {
   "cell_type": "markdown",
   "id": "8815ae67",
   "metadata": {},
   "source": [
    "$$dG = -S dT + V dP.$$"
   ]
  },
  {
   "cell_type": "markdown",
   "id": "12782681",
   "metadata": {},
   "source": [
    "Если рассматривать изотермический процесс, то данное выражение преобразуется следующим образом:"
   ]
  },
  {
   "cell_type": "markdown",
   "id": "3b48f667",
   "metadata": {},
   "source": [
    "$$dG = V dP.$$"
   ]
  },
  {
   "cell_type": "markdown",
   "id": "b9012f19",
   "metadata": {},
   "source": [
    "Для идеального газа с учетом [уравнения состояния](./TD-1-Basics.html#pvt-td-basics-ideal_gas_eos):"
   ]
  },
  {
   "cell_type": "markdown",
   "id": "2294a353",
   "metadata": {},
   "source": [
    "$$dG = \\frac{N k T}{P} dP = N k T d \\ln P = \\frac{N}{N_A} \\left(k N_A \\right) T d \\ln P = n R T d \\ln P.$$"
   ]
  },
  {
   "cell_type": "markdown",
   "id": "a1c82a07",
   "metadata": {},
   "source": [
    "Здесь $N_A = 6.022 \\cdot 10^{23} \\; \\frac{1}{моль}$ – число Авогадро, $R = k \\cdot N_A = 8.314 \\; \\frac{Дж}{моль K}$ – универсальная газовая постоянная, $n$ – количество вещества (моль). Стоит отметить, что полученные равнее уравнения относительно количества частиц $N$ справедливы и для количества вещества $n$."
   ]
  },
  {
   "cell_type": "markdown",
   "id": "15414260",
   "metadata": {},
   "source": [
    "Полученное выражение дифференциала энергии Гиббса справедливо для идеального газа с постоянным количеством молекул в изотермическом квази-стационарном процессе. Для реального газа вместо давления используют такой параметр, как ***летучесть***:"
   ]
  },
  {
   "cell_type": "markdown",
   "id": "8ef8f581",
   "metadata": {},
   "source": [
    "$$dG = n R T d \\ln f.$$"
   ]
  },
  {
   "cell_type": "markdown",
   "id": "3765fa94",
   "metadata": {},
   "source": [
    "```{prf:определение}\n",
    ":nonumber:\n",
    "***Летучесть*** определяется следующим выражением:\n",
    "+++\n",
    "$$\\lim_{P \\rightarrow 0} \\left( \\frac{f}{P} \\right) = 1. $$\n",
    "+++\n",
    "```"
   ]
  },
  {
   "cell_type": "markdown",
   "id": "ff28357c",
   "metadata": {},
   "source": [
    "При этом,"
   ]
  },
  {
   "cell_type": "markdown",
   "id": "c8635682",
   "metadata": {},
   "source": [
    "```{prf:определение}\n",
    ":nonumber:\n",
    "Отношение летучести к давлению называют ***коэффициентом летучести***:\n",
    "+++\n",
    "$$\\phi = \\frac{f}{P}.$$\n",
    "+++\n",
    "```"
   ]
  },
  {
   "cell_type": "markdown",
   "id": "3b85ad24",
   "metadata": {},
   "source": [
    "Для компонента $i$, находящегося в термодинамическом равновесии (или в квази-стационарном изотермическом процессе), летучесть определяется следующим выражением (единицы измерения химического потенциала – $\\frac{Дж}{моль}$):"
   ]
  },
  {
   "cell_type": "markdown",
   "id": "3d1baead",
   "metadata": {},
   "source": [
    "$$d \\mu_i = R T d \\ln f_i.$$"
   ]
  },
  {
   "cell_type": "markdown",
   "id": "f4b21775",
   "metadata": {},
   "source": [
    "Данное выражение справедливо для процесса с постоянным количеством молекул компонента $i$ в системе. При этом, определение летучести дается на основании следующего выражения:"
   ]
  },
  {
   "cell_type": "markdown",
   "id": "0dffd7a2",
   "metadata": {},
   "source": [
    "$$\\lim_{P \\rightarrow 0} \\left( \\frac{f_i}{x_i P} \\right) = 1. $$"
   ]
  },
  {
   "cell_type": "markdown",
   "id": "b07ff10c",
   "metadata": {},
   "source": [
    "Здесь $x_i$ – мольная доля компонента в фазе."
   ]
  },
  {
   "cell_type": "markdown",
   "id": "61356993",
   "metadata": {},
   "source": [
    "<a id='pvt-td-fugacity-component_fugacity'></a>\n",
    "Преобразуем уравнение, определяющее летучесть $i$-го компонента, к следующему виду:"
   ]
  },
  {
   "cell_type": "markdown",
   "id": "56f0a23e",
   "metadata": {},
   "source": [
    "$$ \\begin{align} d \\mu_i - R T d \\ln \\left( x_i P \\right) &= R T d \\ln f_i - R T d \\ln \\left( x_i P \\right); \\\\ d \\mu_i - R T d \\ln \\left( x_i P \\right) &= R T d \\ln \\phi_i; \\\\ d \\mu_i - R T \\left( d \\ln x_i + d \\ln P \\right) &= R T d \\ln \\phi_i. \\end{align}$$"
   ]
  },
  {
   "cell_type": "markdown",
   "id": "abcb9bdb",
   "metadata": {},
   "source": [
    "Поскольку количество молекул $i$-го компонента в системе зафиксировано, то:"
   ]
  },
  {
   "cell_type": "markdown",
   "id": "999f0802",
   "metadata": {},
   "source": [
    "$$d \\mu_i - R T d \\ln P = R T d \\ln \\phi_i.$$"
   ]
  },
  {
   "cell_type": "markdown",
   "id": "a5a866ce",
   "metadata": {},
   "source": [
    "Пусть"
   ]
  },
  {
   "cell_type": "markdown",
   "id": "f0982ce8",
   "metadata": {},
   "source": [
    "```{prf:определение}\n",
    ":nonumber:\n",
    "***Коэффициент сверхсжимаемости*** – параметр, который определяется следующим выражением:\n",
    "+++\n",
    "$$Z = \\frac{P V}{n R T}.$$\n",
    "+++\n",
    "```"
   ]
  },
  {
   "cell_type": "markdown",
   "id": "964473e2",
   "metadata": {},
   "source": [
    "Получим дифференциал коэффициента сверхсжимаемости, рассматривая изотермический процесс с постоянным количеством молекул в системе:"
   ]
  },
  {
   "cell_type": "markdown",
   "id": "ef8d472a",
   "metadata": {},
   "source": [
    "$$ dZ = \\frac{d \\left( P V \\right)}{n R T} = \\frac{V dP + P dV}{n R T}.$$"
   ]
  },
  {
   "cell_type": "markdown",
   "id": "3dfc951f",
   "metadata": {},
   "source": [
    "Разделим левую и правую части уравнения на $Z$:"
   ]
  },
  {
   "cell_type": "markdown",
   "id": "fe529758",
   "metadata": {},
   "source": [
    "$$\\frac{dZ}{Z} = \\frac{dP}{P} + \\frac{dV}{V}.$$"
   ]
  },
  {
   "cell_type": "markdown",
   "id": "339689b2",
   "metadata": {},
   "source": [
    "С учетом этого, [выражение](#pvt-td-fugacity-component_fugacity) для определения летучести компонента будет иметь следующий вид:"
   ]
  },
  {
   "cell_type": "markdown",
   "id": "33e087a4",
   "metadata": {},
   "source": [
    "$$R T d \\ln \\phi_i = d \\mu_i - R T \\left( \\frac{dZ}{Z} - \\frac{dV}{V} \\right).$$"
   ]
  },
  {
   "cell_type": "markdown",
   "id": "1fc8fc37",
   "metadata": {},
   "source": [
    "<a id='pvt-td-fugacity-chemical_potential_relation'></a>\n",
    "Для многокомпонентной системы [thermodynamic identity](TD-8-Helmholtz-Gibbs.html#pvt-td-helmholtz_gibbs-helmholtz_partials), выраженное через энергию Гельмгольца, будет иметь следующий вид:"
   ]
  },
  {
   "cell_type": "markdown",
   "id": "b2a6c6f0",
   "metadata": {},
   "source": [
    "$$dF = -P dV - S dT + \\sum_i \\mu_i dn_i.$$"
   ]
  },
  {
   "cell_type": "markdown",
   "id": "ca60f5f0",
   "metadata": {},
   "source": [
    "Отсюда следует, что:"
   ]
  },
  {
   "cell_type": "markdown",
   "id": "de3a0409",
   "metadata": {},
   "source": [
    "$$ \\begin{align} \\mu_i &= \\left( \\frac{\\partial F}{\\partial n_i} \\right)_{V, T, n_{j \\neq i}}; \\\\ -P &= \\left( \\frac{\\partial F}{\\partial V} \\right)_{T, n_i}. \\end{align}$$"
   ]
  },
  {
   "cell_type": "markdown",
   "id": "1ab6f04f",
   "metadata": {},
   "source": [
    "Запишем вторую частную производную энергии Гельмгольца $F$ по объему $V$ и количеству вещества $i$-го компонента $n_i$:"
   ]
  },
  {
   "cell_type": "markdown",
   "id": "13727c1f",
   "metadata": {},
   "source": [
    "$$\\frac{\\partial^2 F}{\\partial n_i \\partial V} = \\frac{\\partial}{\\partial n_i} \\left( \\frac{\\partial F}{\\partial V} \\right) = \\frac{\\partial}{\\partial V} \\left( \\frac{\\partial F}{\\partial n_i} \\right). $$"
   ]
  },
  {
   "cell_type": "markdown",
   "id": "6675a840",
   "metadata": {},
   "source": [
    "С учетом полученных частных производных энергиии Гельмгольца по количеству вещества $i$-го компонента и объему:"
   ]
  },
  {
   "cell_type": "markdown",
   "id": "a32c21ff",
   "metadata": {},
   "source": [
    "$$ - \\left( \\frac{\\partial P}{\\partial n_i} \\right)_{V, T, n_{j \\neq i}} = \\left( \\frac{\\partial \\mu_i}{\\partial V} \\right)_{T, n_i}. $$"
   ]
  },
  {
   "cell_type": "markdown",
   "id": "ad0d466c",
   "metadata": {},
   "source": [
    "Следовательно, расссматривая изотермический процесс с постоянным количеством молекул $i$-го компонента в системе можно записать:"
   ]
  },
  {
   "cell_type": "markdown",
   "id": "288ad2b3",
   "metadata": {},
   "source": [
    "$$ d\\mu_i = - \\left( \\frac{\\partial P}{\\partial n_i} \\right)_{V, T, n_{j \\neq i}} dV.$$"
   ]
  },
  {
   "cell_type": "markdown",
   "id": "342da812",
   "metadata": {},
   "source": [
    "С учетом дифференциала химического потенциала $i$ компонента в изотермическом процессе с постоянным количеством вещества $i$-го компонента в системе получим дифференциал логарифма коэффициента летучести $i$-го компонента:"
   ]
  },
  {
   "cell_type": "markdown",
   "id": "744862e3",
   "metadata": {},
   "source": [
    "$$ d \\ln \\phi_i = \\left( \\frac{1}{V} - \\frac{1}{R T} \\left( \\frac{\\partial P}{\\partial n_i} \\right)_{V, T, n_{j \\neq i}} \\right) dV - d \\ln Z. $$"
   ]
  },
  {
   "cell_type": "markdown",
   "id": "ad0e63c1",
   "metadata": {},
   "source": [
    "Следовательно, интегрируя данное выражение, получим:"
   ]
  },
  {
   "cell_type": "markdown",
   "id": "8aae2452",
   "metadata": {},
   "source": [
    "$$ \\int_0^{\\ln \\phi_i} d \\ln \\phi_i = \\int_\\infty^V \\left( \\frac{1}{V} - \\frac{1}{R T} \\left( \\frac{\\partial P}{\\partial n_i} \\right)_{V, T, n_{j \\neq i}} \\right) dV - \\int_0^{\\ln Z} d \\ln Z.$$"
   ]
  },
  {
   "cell_type": "markdown",
   "id": "69e5a145",
   "metadata": {},
   "source": [
    "Или при замене пределов интегрирования:"
   ]
  },
  {
   "cell_type": "markdown",
   "id": "d5aa7a96",
   "metadata": {},
   "source": [
    "$$ \\ln \\phi_i = \\int_\\infty^V \\left( \\frac{1}{V} - \\frac{1}{R T} \\left( \\frac{\\partial P}{\\partial n_i} \\right)_{V, T, n_{j \\neq i}} \\right) dV - \\ln Z = \\int_V^\\infty \\left( \\frac{1}{R T} \\left( \\frac{\\partial P}{\\partial n_i} \\right)_{V, T, n_{j \\neq i}} - \\frac{1}{V} \\right) dV - \\ln Z .$$"
   ]
  },
  {
   "cell_type": "markdown",
   "id": "bed48f28",
   "metadata": {},
   "source": [
    "<a id='pvt-td-fugacity-equilibrium'></a>\n",
    "```{admonition} NB\n",
    "Таким образом, если рассматривать квази-стационарный изотермический процесс с постоянным количеством вещества в системе, состоящей из нескольких фаз, то равновесное состояние каждого компонента вместо равенства химических потенциалов компонентов будет определяться равенством летучестей компонентов в каждой из фаз соответственно:\n",
    "+++\n",
    "$${f_1}_i = {f_2}_i, \\; i=1...N_c.$$\n",
    "+++\n",
    "```"
   ]
  },
  {
   "cell_type": "markdown",
   "id": "d03d1777",
   "metadata": {},
   "source": [
    "При этом, поскольку рассматривается равновесное состояние, то количество вещества каждого компонента постоянно, следовательно, летучесть компонента может быть рассчитана по коэффициенту летучести, определяемому следующим выражением:"
   ]
  },
  {
   "cell_type": "markdown",
   "id": "876561ec",
   "metadata": {},
   "source": [
    "$$ \\ln \\phi_i = \\int_V^\\infty \\left( \\frac{1}{R T} \\left( \\frac{\\partial P}{\\partial n_i} \\right)_{V, T, n_{j \\neq i}} - \\frac{1}{V} \\right) dV - \\ln Z.$$"
   ]
  },
  {
   "cell_type": "markdown",
   "id": "b7bb22e2",
   "metadata": {},
   "source": [
    "Кроме того, полученное выражение также справедливо для систем, состояющих из одного компонента. В таком случае выражение для логарифма коэффициента летучести записывается следующим образом:"
   ]
  },
  {
   "cell_type": "markdown",
   "id": "bbb9ef0f",
   "metadata": {},
   "source": [
    "$$ \\ln \\phi = \\int_V^\\infty \\left( \\frac{1}{R T} \\left( \\frac{\\partial P}{\\partial n} \\right)_{V, T} - \\frac{1}{V} \\right) dV - \\ln Z.$$"
   ]
  },
  {
   "cell_type": "markdown",
   "id": "4d399298",
   "metadata": {},
   "source": [
    "<a id='pvt-td-fugacity-ideal_gas'></a>\n",
    "## Летучесть идеального газа\n",
    "Рассмотрим применение полученного выражения для идеального газа, описываемого уравнением состояния:"
   ]
  },
  {
   "cell_type": "markdown",
   "id": "801a8f2c",
   "metadata": {},
   "source": [
    "$$PV = n R T.$$"
   ]
  },
  {
   "cell_type": "markdown",
   "id": "fdd60766",
   "metadata": {},
   "source": [
    "Для идеального газа частная производная давления по количеству вещества компонента:"
   ]
  },
  {
   "cell_type": "markdown",
   "id": "04872b6e",
   "metadata": {},
   "source": [
    "$$ \\left( \\frac{\\partial P}{\\partial n} \\right)_{V, T} = \\frac{RT}{V}.$$"
   ]
  },
  {
   "cell_type": "markdown",
   "id": "143ac63d",
   "metadata": {},
   "source": [
    "Тогда логарифм коэффициента летучести:"
   ]
  },
  {
   "cell_type": "markdown",
   "id": "f1ac4b6a",
   "metadata": {},
   "source": [
    "$$\\ln \\phi = \\int_V^\\infty \\left( \\frac{1}{R T} \\frac{RT}{V} - \\frac{1}{V} \\right) dV - \\ln Z = - \\ln Z.$$"
   ]
  },
  {
   "cell_type": "markdown",
   "id": "89c798d7",
   "metadata": {},
   "source": [
    "Поскольку для идеального газа коэффициент сверхсжимаемости $Z = 1,$ тогда"
   ]
  },
  {
   "cell_type": "markdown",
   "id": "f985fb7e",
   "metadata": {},
   "source": [
    "$$ \\ln \\phi = 0.$$"
   ]
  },
  {
   "cell_type": "markdown",
   "id": "5aefac93",
   "metadata": {},
   "source": [
    "То есть коэффициент летучести:"
   ]
  },
  {
   "cell_type": "markdown",
   "id": "77971bd1",
   "metadata": {},
   "source": [
    "$$\\phi = 1.$$"
   ]
  },
  {
   "cell_type": "markdown",
   "id": "5acdbd3d",
   "metadata": {},
   "source": [
    "Следовательно, летучесть:"
   ]
  },
  {
   "cell_type": "markdown",
   "id": "00b074ed",
   "metadata": {},
   "source": [
    "$$f = P.$$"
   ]
  },
  {
   "cell_type": "markdown",
   "id": "f54c6dda",
   "metadata": {},
   "source": [
    "<a id='pvt-td-fugacity-ideal_gas_mixture'></a>\n",
    "## Летучесть смеси идеальных газов\n",
    "Для смеси идеальных газов также выполняется уравнение состояния:"
   ]
  },
  {
   "cell_type": "markdown",
   "id": "157e04e8",
   "metadata": {},
   "source": [
    "$$ PV = n R T,$$"
   ]
  },
  {
   "cell_type": "markdown",
   "id": "b70803ef",
   "metadata": {},
   "source": [
    "где $n = \\sum_{i=1}^{N_c} n_i.$ В данном выражении $N_c$ – количество компонентов в системе. Следовательно, частная производная давления по количеству вещества компонента $i$:"
   ]
  },
  {
   "cell_type": "markdown",
   "id": "867b333e",
   "metadata": {},
   "source": [
    "$$ \\left( \\frac{\\partial P}{\\partial n_i} \\right)_{V, T, n_{j \\neq i}} = \\frac{RT}{V} \\sum_{i=1}^{N_c} \\left( \\frac{\\partial n_i}{\\partial n_i} \\right)_{V, T, n_{j \\neq i}} = \\frac{RT}{V} .$$"
   ]
  },
  {
   "cell_type": "markdown",
   "id": "f2d4caa8",
   "metadata": {},
   "source": [
    "Тогда логарифм коэффициента летучести $i$-го компонента:"
   ]
  },
  {
   "cell_type": "markdown",
   "id": "321f7898",
   "metadata": {},
   "source": [
    "$$\\ln \\phi_i = 0.$$"
   ]
  },
  {
   "cell_type": "markdown",
   "id": "75ded5f2",
   "metadata": {},
   "source": [
    "Тогда летучесть $i$-го компонента:"
   ]
  },
  {
   "cell_type": "markdown",
   "id": "26f951bc",
   "metadata": {},
   "source": [
    "$$f_i = x_i P.$$"
   ]
  },
  {
   "cell_type": "markdown",
   "id": "e754c6ab",
   "metadata": {},
   "source": [
    "```{admonition} NB\n",
    "Полученное выражение является частным случаем соотношения, выполняемого для ***идеальных смесей***:\n",
    "+++\n",
    "$$f_i \\left( P, T, x_i \\right) = x_i f \\left( P, T \\right).$$\n",
    "+++\n",
    "```"
   ]
  },
  {
   "cell_type": "markdown",
   "id": "6c853e0a",
   "metadata": {},
   "source": [
    "Докажем данное утверждение. Для начала дадим определение идеальной смеси.\n",
    "\n",
    "```{prf:определение}\n",
    ":nonumber:\n",
    "Смесь является ***идеальной***, если для нее выполняется следующее соотношение:\n",
    "+++\n",
    "$$ V \\left(P, T, n_1, n_2, \\ldots, n_{N_c} \\right) = \\sum_{i=1}^{N_c} n_i v_i \\left( P, T \\right).$$\n",
    "+++\n",
    "Здесь $N_c$ - количество компонентов в системе, $v_i \\left( P, T \\right)$ - молярный (удельный) объем $i$-го компонента.\n",
    "```"
   ]
  },
  {
   "cell_type": "markdown",
   "id": "59594b60",
   "metadata": {},
   "source": [
    "То есть объем для идеальных смесей является экстенсивным параметров.\n",
    "\n",
    "\n",
    "```{prf:proof}\n",
    "[Ранее](TD-10-MixtureGibbsEnergy.html#pvt-td-mixture_gibbs_energy-partial_molar_observables) для всех экстенсивных параметров было показано, что:\n",
    "\n",
    "+++\n",
    "\n",
    "$$ V \\left(P, T, n_1, n_2, \\ldots, n_{N_c} \\right) = \\sum_{i=1}^{N_c} n_i \\bar{V_i}.$$\n",
    "\n",
    "+++\n",
    "\n",
    "Следовательно,\n",
    "\n",
    "+++\n",
    "\n",
    "$$ \\bar{V_i} = v_i \\left( P, T \\right).$$\n",
    "\n",
    "+++\n",
    "\n",
    "Дифференциал логарфима коэффициента летучести $i$-го компонента можно выразить из полученного [ранее](#pvt-td-fugacity-component_fugacity) выражения:\n",
    "\n",
    "+++\n",
    "\n",
    "$$ RT d \\ln \\phi_i = d \\mu_i - \\frac{RT}{P} dP.$$\n",
    "\n",
    "+++\n",
    "\n",
    "С учетом соотношений частных производных химического потенциала и давления по объему и количеству вещества компонентов:\n",
    "\n",
    "+++\n",
    "\n",
    "$$ RT d \\ln \\phi_i = \\left( \\left( \\frac{\\partial V}{\\partial n_i} \\right)_{P, T, n_{j \\neq i}} - \\frac{RT}{P} \\right) dP = \\left( \\bar{V_i} - \\frac{RT}{P} \\right) dP = \\left( v_i \\left( P, T \\right) - \\frac{RT}{P} \\right) dP .$$\n",
    "\n",
    "+++\n",
    "\n",
    "Из данного выражения видно, что для идеальной смеси логарифм летучести не зависит от компонентного состава и определяется только термобарическими условиями и свойствами компонентов. Аналогичный результат получается, если рассматривать систему, состоящую из одного компонента. Следовательно, коэффициент летучести $i$-го компонента в идеальной смеси равен коэффициенту летучести этого же компонента при отсутствии других компонентов. Из определения коэффициента летучести и сформулированного вывода вытекает доказываемое равенство.\n",
    "```"
   ]
  },
  {
   "cell_type": "markdown",
   "id": "5b918be1",
   "metadata": {},
   "source": [
    "<a id='pvt-td-fugacity-ideal_gas_mixture-chemical_potential'></a>\n",
    "Получим еще одно важное свойство смесей идеальных газов."
   ]
  },
  {
   "cell_type": "markdown",
   "id": "bc58b959",
   "metadata": {},
   "source": [
    "```{admonition} NB\n",
    "Пусть имеется идеальный однокомпонентный газ при давлении $P$. Если данный газ изобарно смешать с другими идеальными газами, то давление рассматриваемого газа в смеси в соответствии с полученным ранее выражением будет равняться $x_i P$. Поскольку для данного компонента произошло изменение давления (температура рассматривается постоянной), то дифференциал химического потенциала:\n",
    "\n",
    "+++\n",
    "\n",
    "$$d \\mu^{ig}_i = \\left( \\frac{\\partial \\mu_i}{\\partial P} \\right)_{T, n_i} dP.$$\n",
    "\n",
    "+++\n",
    "\n",
    "Интегрируя данное выражение от однокомпонентного состояния к многокомпонентной смеси, получим:\n",
    "\n",
    "+++\n",
    "\n",
    "$$ \\mu^{ig}_i \\left( P, T, n_i \\right) - \\mu^{ig}_i \\left( P, T, \\right) = \\int_{P}^{x_i P} \\left( \\frac{\\partial \\mu_i}{\\partial P} \\right)_{T, n_i} dP.$$\n",
    "\n",
    "+++\n",
    "\n",
    "Рассмотрим вторую частную производную энергии Гиббса по количеству вещества $i$-го компонента и давлению:\n",
    "\n",
    "+++\n",
    "\n",
    "$$\\frac{\\partial^2 G}{\\partial n_i \\partial P} = \\frac{\\partial}{\\partial n_i} \\left( \\left( \\frac{\\partial G}{\\partial P} \\right)_{T,n_i} \\right)_{P,T} = \\frac{\\partial}{\\partial P} \\left( \\left( \\frac{\\partial G}{\\partial n_i} \\right)_{P,T} \\right)_{T,n_i}.$$\n",
    "\n",
    "+++\n",
    "\n",
    "С учетом [частных производных энергии Гиббса](TD-8-Helmholtz-Gibbs.html#pvt-td-helmholtz_gibbs-gibbs_partials) получим:\n",
    "\n",
    "+++\n",
    "\n",
    "$$\\left( \\frac{\\partial V}{\\partial n_i} \\right)_{P,T} = \\left( \\frac{\\partial \\mu_i}{\\partial P} \\right)_{T,n_i}.$$\n",
    "\n",
    "+++\n",
    "\n",
    "Тогда рассматриваемая разница химических потенциалов может быть преобразована следующим образом, применяя уравнение состояния идеального газа:\n",
    "\n",
    "+++\n",
    "\n",
    "$$ \\begin{align}\n",
    "\\mu^{ig}_i \\left( P, T, n_i \\right) - \\mu^{ig}_i \\left( P, T \\right)\n",
    "&= \\int_{P}^{x_i P} \\left( \\frac{\\partial \\mu_i}{\\partial P} \\right)_{T, n_i} dP \\\\\n",
    "&= \\int_{P}^{x_i P} \\left( \\frac{\\partial V}{\\partial n_i} \\right)_{P,T} dP \\\\\n",
    "&= \\int_{P}^{x_i P} \\frac{\\partial}{\\partial n_i} \\left( \\frac{nRT}{P} \\right)_{P,T} dP \\\\\n",
    "&= RT \\int_{P}^{x_i P} \\frac{dP}{P} \\\\\n",
    "&= RT \\ln x_i .\n",
    "\\end{align} $$\n",
    "\n",
    "+++\n",
    "\n",
    "Следовательно,\n",
    "\n",
    "+++\n",
    "\n",
    "$$\\mu^{ig}_i \\left( P, T, n_i \\right) = \\mu^{ig}_i \\left( P, T \\right) + RT \\ln x_i .$$\n",
    "\n",
    "+++\n",
    "\n",
    "Данное уравнение может быть использоваться для расчета химического потенциала компонента идеального газа в идеальной смеси, зная химический потенциал чистого компонента при тех же термобарических условиях и компонентный состав смеси.\n",
    "```"
   ]
  },
  {
   "cell_type": "markdown",
   "id": "233ea2f6",
   "metadata": {},
   "source": [
    "При давлении $P_1$ и компонентном составе ${x_i}_1$ химический потенциал $i$-го компонента в смеси:"
   ]
  },
  {
   "cell_type": "markdown",
   "id": "1682e08b",
   "metadata": {},
   "source": [
    "$$ \\mu_i \\left(P_1, T, {x_i}_1 \\right) = \\mu_i \\left( P_1, T \\right) + RT \\ln {x_i}_1.$$"
   ]
  },
  {
   "cell_type": "markdown",
   "id": "14858a8c",
   "metadata": {},
   "source": [
    "При давлении $P_2$ и компонентном составе ${x_i}_2$ химический потенциал $i$-го компонента в смеси:"
   ]
  },
  {
   "cell_type": "markdown",
   "id": "f78dc3a9",
   "metadata": {},
   "source": [
    "$$ \\mu_i \\left(P_2, T, {x_i}_2 \\right) = \\mu_i \\left( P_2, T \\right) + RT \\ln {x_i}_2.$$"
   ]
  },
  {
   "cell_type": "markdown",
   "id": "88a4321d",
   "metadata": {},
   "source": [
    "Тогда разница данных выражений:"
   ]
  },
  {
   "cell_type": "markdown",
   "id": "e481a45b",
   "metadata": {},
   "source": [
    "$$\\mu_i \\left(P_2, T, {x_i}_2 \\right) - \\mu_i \\left(P_1, T, {x_i}_1 \\right) = \\mu_i \\left( P_2, T \\right) - \\mu_i \\left( P_1, T \\right) + R T \\ln \\frac{{x_i}_2}{{x_i}_1}.$$"
   ]
  },
  {
   "cell_type": "markdown",
   "id": "351e5150",
   "metadata": {},
   "source": [
    "При этом, разница химических потенциалов чистого компонента, являющегося идеальным газом,:"
   ]
  },
  {
   "cell_type": "markdown",
   "id": "6bdc6090",
   "metadata": {},
   "source": [
    "$$\\mu_i \\left( P_2, T \\right) - \\mu_i \\left( P_1, T \\right) = RT \\ln \\frac{P_2}{P_1}.$$"
   ]
  },
  {
   "cell_type": "markdown",
   "id": "de3d9eb1",
   "metadata": {},
   "source": [
    "Тогда:"
   ]
  },
  {
   "cell_type": "markdown",
   "id": "3da1e785",
   "metadata": {},
   "source": [
    "$$\\mu_i \\left(P_2, T, {x_i}_2 \\right) - \\mu_i \\left(P_1, T, {x_i}_1 \\right) = RT \\ln \\frac{P_2 {x_i}_2}{P_1 {x_i}_1}.$$"
   ]
  },
  {
   "cell_type": "markdown",
   "id": "fb0b94b7",
   "metadata": {},
   "source": [
    "<a id='pvt-td-fugacity-real_gas_mixture'></a>\n",
    "## Летучесть смеси реальных газов\n",
    "По аналогии с идеальным газом, для реальных газов данное соотношение записывается следующим образом:"
   ]
  },
  {
   "cell_type": "markdown",
   "id": "a0c1c096",
   "metadata": {},
   "source": [
    "$$\\mu_i \\left(P_2, T, {x_i}_2 \\right) - \\mu_i \\left(P_1, T, {x_i}_1 \\right) = RT \\ln \\frac{ f_i \\left(P_2, T, {x_i}_2 \\right)}{f_i \\left( P_1, T, {x_i}_1 \\right)}.$$"
   ]
  },
  {
   "cell_type": "markdown",
   "id": "75c36659",
   "metadata": {},
   "source": [
    "Тогда разница химических потенциалов между реальным и идеальным газами:"
   ]
  },
  {
   "cell_type": "markdown",
   "id": "62d9f3e2",
   "metadata": {},
   "source": [
    "$$\\mu_i^{rg} \\left(P_2, T, {x_i}_2 \\right) - \\mu_i^{ig} \\left(P_2, T, {x_i}_2 \\right) = \\mu_i^{rg} \\left(P_1, T, {x_i}_1 \\right) - \\mu_i^{ig} \\left(P_1, T, {x_i}_1 \\right) + RT \\ln \\left( \\frac{ f_i \\left(P_2, T, {x_i}_2 \\right)}{f_i \\left( P_1, T, {x_i}_1 \\right)} \\frac{{x_i}_1 P_1}{{x_i}_2 P_2} \\right).$$"
   ]
  },
  {
   "cell_type": "markdown",
   "id": "fc2c1120",
   "metadata": {},
   "source": [
    "```{admonition} NB\n",
    "При этом, если давление $P_1$ достаточно низкое настолько, что при нем рассматриваемая система ведет себя, как идеальный газ, то:\n",
    "+++\n",
    "$$\\mu_i^{rg} \\left(P_2, T, {x_i}_2 \\right) - \\mu_i^{ig} \\left(P_2, T, {x_i}_2 \\right) = RT \\ln \\frac{ f_i \\left(P_2, T, {x_i}_2 \\right)}{{x_i}_2 P_2} = RT \\ln \\phi_i \\left( P_2, T, {x_i}_2 \\right).$$\n",
    "+++\n",
    "```"
   ]
  },
  {
   "cell_type": "markdown",
   "id": "acde6fb9",
   "metadata": {},
   "source": [
    "Данное соотношение между химическими потенциалами реального и идеального газов достаточно полезно, так как будет использоваться при определении других [термодинамических параметров](../3-Parameters/Parameters-0-Introduction.html#pvt-parameters) реальных систем с использованием [уравнений состояния](../2-EOS/EOS-0-Introduction.html#pvt-eos)."
   ]
  }
 ],
 "metadata": {
  "jupytext": {
   "text_representation": {
    "extension": ".md",
    "format_name": "myst",
    "format_version": 0.13,
    "jupytext_version": "1.10.3"
   }
  },
  "kernelspec": {
   "display_name": "Python 3 (ipykernel)",
   "language": "python",
   "name": "python3"
  },
  "language_info": {
   "codemirror_mode": {
    "name": "ipython",
    "version": 3
   },
   "file_extension": ".py",
   "mimetype": "text/x-python",
   "name": "python",
   "nbconvert_exporter": "python",
   "pygments_lexer": "ipython3",
   "version": "3.7.13"
  },
  "source_map": [
   12,
   17,
   22,
   26,
   30,
   34,
   38,
   42,
   46,
   50,
   54,
   64,
   68,
   78,
   82,
   86,
   90,
   94,
   98,
   103,
   107,
   111,
   115,
   119,
   129,
   133,
   137,
   141,
   145,
   149,
   153,
   158,
   162,
   166,
   170,
   174,
   178,
   182,
   186,
   190,
   194,
   198,
   202,
   206,
   210,
   214,
   218,
   228,
   232,
   236,
   240,
   244,
   250,
   254,
   258,
   262,
   266,
   270,
   274,
   278,
   282,
   286,
   290,
   294,
   300,
   304,
   308,
   312,
   316,
   320,
   324,
   328,
   337,
   350,
   391,
   396,
   457,
   461,
   465,
   469,
   473,
   477,
   481,
   485,
   489,
   493,
   497,
   503,
   507,
   511,
   515,
   524
  ]
 },
 "nbformat": 4,
 "nbformat_minor": 5
}