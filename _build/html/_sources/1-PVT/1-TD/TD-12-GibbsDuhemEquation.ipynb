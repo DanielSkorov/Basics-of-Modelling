{
 "cells": [
  {
   "cell_type": "markdown",
   "id": "7649e12a",
   "metadata": {},
   "source": [
    "<a id='pvt-td-gibbs_duhem_equation'></a>\n",
    "# Уравнение Гиббса-Дюгема\n",
    "Рассматривая изотермический квазистационарный процесс, дифференциал энергии Гиббса может быть записан следующим образом:"
   ]
  },
  {
   "cell_type": "markdown",
   "id": "135ae40e",
   "metadata": {},
   "source": [
    "$$dG = \\sum_i \\mu_i dN_i + \\sum_i N_i d \\mu_i.$$"
   ]
  },
  {
   "cell_type": "markdown",
   "id": "5544e990",
   "metadata": {},
   "source": [
    "С другой стороны, [ранее](TD-8-Helmholtz-Gibbs.html#pvt-td-helmholtz_gibbs-gibbs_partials) было показано, что дифференциал энергии Гиббса:"
   ]
  },
  {
   "cell_type": "markdown",
   "id": "dba8ef16",
   "metadata": {},
   "source": [
    "$$ dG = -S dT + V dP + \\sum_i \\mu_i dN_i.$$"
   ]
  },
  {
   "cell_type": "markdown",
   "id": "360ae9ef",
   "metadata": {},
   "source": [
    "Приравнивая правые части записанных выше уравнений, получим:"
   ]
  },
  {
   "cell_type": "markdown",
   "id": "eb79343f",
   "metadata": {},
   "source": [
    "$$ S dT - V dP + \\sum_i N_i d \\mu_i = 0.$$"
   ]
  },
  {
   "cell_type": "markdown",
   "id": "fd880a6d",
   "metadata": {},
   "source": [
    "Данное уравнение является уравнением Гиббса-Дюгема."
   ]
  }
 ],
 "metadata": {
  "jupytext": {
   "text_representation": {
    "extension": ".md",
    "format_name": "myst",
    "format_version": 0.13,
    "jupytext_version": "1.10.3"
   }
  },
  "kernelspec": {
   "display_name": "Python 3 (ipykernel)",
   "language": "python",
   "name": "python3"
  },
  "language_info": {
   "codemirror_mode": {
    "name": "ipython",
    "version": 3
   },
   "file_extension": ".py",
   "mimetype": "text/x-python",
   "name": "python",
   "nbconvert_exporter": "python",
   "pygments_lexer": "ipython3",
   "version": "3.7.13"
  },
  "source_map": [
   12,
   18,
   22,
   26,
   30,
   34,
   38
  ]
 },
 "nbformat": 4,
 "nbformat_minor": 5
}