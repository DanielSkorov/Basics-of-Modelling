{
 "cells": [
  {
   "cell_type": "markdown",
   "id": "d9171b4e",
   "metadata": {},
   "source": [
    "<a id='pvt-eos-van_der_waals'></a>\n",
    "# Уравнение состояния Ван-дер-Ваальса\n",
    "В 1873 году Ван-дер-Ваальс предложил использовать уравнение состояние:"
   ]
  },
  {
   "cell_type": "markdown",
   "id": "8b31ad34",
   "metadata": {},
   "source": [
    "$$ \\left( P + \\frac{a_m}{v^2} \\right) \\left( v - b_m \\right) = R T.$$"
   ]
  },
  {
   "cell_type": "markdown",
   "id": "a8a4af94",
   "metadata": {},
   "source": [
    "В данном уравнении $v = \\frac{V}{n}$ – молярный объем. Параметры $a_m$ и $b_m$ являются коэффициентами, со следующими физическими смыслами. Параметр $b_m$ определяет объем полностью сжатой системы при бесконечно большом давлении. Поэтому условием применения уравнения состояния Ван-дер-Ваальса является $v > b_m$. Параметр $a_m$ характеризует межмолекулярное взаимодействие. При рассмотрении системы, состоящей из нескольких компонентов, (смеси) параметры $a_m$ и $b_m$ будут зависеть от видов молекул системы (свойств компонентов), а также ее компонентного состава."
   ]
  },
  {
   "cell_type": "markdown",
   "id": "c0d3ed2f",
   "metadata": {},
   "source": [
    "Выразим из уравнения состояния Ван-дер-Ваальса давление:"
   ]
  },
  {
   "cell_type": "markdown",
   "id": "059329b0",
   "metadata": {},
   "source": [
    "$$P = \\frac{n R T}{V - n b_m} - \\frac{n^2 a_m}{V^2}.$$"
   ]
  },
  {
   "cell_type": "markdown",
   "id": "fa9791cd",
   "metadata": {},
   "source": [
    "Для того чтобы определить летучесть компонента, необходимо получить частную производную давления по количеству вещества $i$-го компонента при постоянных давлении, температуре и количествах вещества остальных компонентов.  Стоит сразу отметить, что эта производная будет представлять собой вектор из $N_c$ значений, где $N_c$ – количество компонентов в системе. При этом, от количества вещества $i$-го компонента будут зависеть параметры $a_m$ и $b_m$, а также общее количество вещества $n$. С учетом этого, частная производная давления по количеству вещества $i$-го компонента:"
   ]
  },
  {
   "cell_type": "markdown",
   "id": "145a96cd",
   "metadata": {},
   "source": [
    "$$ \\begin{align}\n",
    "\\left( \\frac{\\partial P}{\\partial n_i} \\right)_{V, T, n_{j \\neq i}}\n",
    "&= \\frac{\\partial}{\\partial n_i} \\left( \\frac{n R T}{V - n b_m} - \\frac{n^2 a_m}{V^2} \\right)_{V, T, n_{j \\neq i}} \\\\\n",
    "&= \\frac{\\partial}{\\partial n_i} \\left( \\frac{n R T}{V - n b_m} \\right)_{V, T, n_{j \\neq i}} - \\frac{\\partial}{\\partial n_i} \\left( \\frac{n^2 a_m}{V^2} \\right)_{V, T, n_{j \\neq i}} \\\\\n",
    "&= \\frac{RT}{V - n b_m} \\frac{\\partial n}{\\partial n_i} + n \\frac{\\partial}{\\partial n_i} \\left( \\frac{R T}{V - n b_m} \\right) - \\frac{1}{V^2} \\frac{\\partial \\left( n^2 a_m \\right)}{\\partial n_i}. \\end{align} $$"
   ]
  },
  {
   "cell_type": "markdown",
   "id": "ac10daa7",
   "metadata": {},
   "source": [
    "<a id='pvt-eos-van_der_waals-partials'></a>\n",
    "Распишем подробнее производную количества вещества $n$ по количеству вещества $i$-го компонента:"
   ]
  },
  {
   "cell_type": "markdown",
   "id": "98bd0c22",
   "metadata": {},
   "source": [
    "$$ \\frac{\\partial n}{\\partial n_i} = \\frac{\\partial}{\\partial n_i} \\left( \\sum_{j=1}^{N_c} n_j \\right) = \\sum_{j=1}^{N_c} \\frac{\\partial n_j}{\\partial n_i} .$$"
   ]
  },
  {
   "cell_type": "markdown",
   "id": "cb4f40d4",
   "metadata": {},
   "source": [
    "Частная производная количества вещества $i$-го компонента по количеству вещества $k$-го компонента:"
   ]
  },
  {
   "cell_type": "markdown",
   "id": "2a7012a6",
   "metadata": {},
   "source": [
    "$$ \\frac{\\partial n_j}{\\partial n_i} = \\begin{bmatrix} \\frac{\\partial n_1}{\\partial n_1} & \\frac{\\partial n_2}{\\partial n_1} & \\dots & \\frac{\\partial n_{N_c}}{\\partial n_1} \\\\ \\frac{\\partial n_1}{\\partial n_2} & \\frac{\\partial n_2}{\\partial n_2} & \\dots & \\frac{\\partial n_{N_c}}{\\partial n_2} \\\\ \\vdots & \\vdots & \\ddots & \\vdots \\\\ \\frac{\\partial n_1}{\\partial n_{N_c}} & \\frac{\\partial n_2}{\\partial n_{N_c}} & \\dots & \\frac{\\partial n_{N_c}}{\\partial n_{N_c}} \\end{bmatrix} = \\begin{bmatrix} 1 & 0 & \\dots & 0 \\\\ 0 & 1 & \\dots & 0 \\\\ \\vdots & \\vdots & \\ddots & \\vdots \\\\ 0 & 0 & \\dots & 1 \\end{bmatrix} = I_{ij}. $$"
   ]
  },
  {
   "cell_type": "markdown",
   "id": "102d9067",
   "metadata": {},
   "source": [
    "Следовательно, в результате суммы столбцов (по $j$) матрицы $I_{ij}$ получится вектор размерностью $\\left(N_c \\times 1 \\right)$:"
   ]
  },
  {
   "cell_type": "markdown",
   "id": "771e50ad",
   "metadata": {},
   "source": [
    "$$\\sum_{j=1}^{N_c} I_{ij} = \\begin{bmatrix} 1 \\\\ 1 \\\\ \\vdots \\\\ 1 \\end{bmatrix} = \\vec{e}.$$"
   ]
  },
  {
   "cell_type": "markdown",
   "id": "7179193a",
   "metadata": {},
   "source": [
    "Таким образом, умножение числа на вектор $\\vec{e}$ будет означать, что это число одинаково для всех компонентов. Поэтому умножение на $\\vec{e}$ можно опустить."
   ]
  },
  {
   "cell_type": "markdown",
   "id": "a6909fc5",
   "metadata": {},
   "source": [
    "С учетом этого частная производная давления по количеству вещества $i$-го компонента:"
   ]
  },
  {
   "cell_type": "markdown",
   "id": "1cb8a0c5",
   "metadata": {},
   "source": [
    "$$ \\left( \\frac{\\partial P}{\\partial n_i} \\right)_{V, T, n_{j \\neq i}} = \\frac{RT}{V - n b_m} + \\frac{n R T}{\\left( V - n b_m \\right)^2} \\frac{\\partial \\left( n b_m \\right)}{\\partial n_i} - \\frac{1}{V^2} \\frac{\\partial \\left( n^2 a_m \\right)}{\\partial n_i}.$$"
   ]
  },
  {
   "cell_type": "markdown",
   "id": "9071fb38",
   "metadata": {},
   "source": [
    "Подставим полученное выражение в уравнение для логарифма коэффициента летучести:"
   ]
  },
  {
   "cell_type": "markdown",
   "id": "f26ce469",
   "metadata": {},
   "source": [
    "$$ \\ln \\phi_i = \\int_V^\\infty \\left( \\frac{1}{V - n b_m} + \\frac{n}{\\left( V - n b_m \\right)^2} \\frac{\\partial \\left( n b_m \\right)}{\\partial n_i} - \\frac{1}{R T V^2} \\frac{\\partial \\left( n^2 a_m \\right)}{\\partial n_i} - \\frac{1}{V} \\right) dV - \\ln Z.$$"
   ]
  },
  {
   "cell_type": "markdown",
   "id": "e0061669",
   "metadata": {},
   "source": [
    "Найдем первообразную подынтегральной функции:"
   ]
  },
  {
   "cell_type": "markdown",
   "id": "42df1e37",
   "metadata": {},
   "source": [
    "$$ \\begin{align}\n",
    "F \\left( V \\right)\n",
    "&= \\int f \\left( V \\right) dV \\\\\n",
    "&= \\int \\left( \\frac{1}{V - n b_m} + \\frac{n}{\\left( V - n b_m \\right)^2} \\frac{\\partial \\left( n b_m \\right)}{\\partial n_i} - \\frac{1}{R T V^2} \\frac{\\partial \\left( n^2 a_m \\right)}{\\partial n_i} - \\frac{1}{V} \\right) dV \\\\\n",
    "&= \\int \\frac{dV}{V - n b_m} + n \\frac{\\partial \\left( n b_m \\right)}{\\partial n_i} \\int \\frac{dV}{\\left( V - n b_m \\right)^2} - \\frac{\\partial \\left( n^2 a_m \\right)}{\\partial n_i} \\frac{1}{RT} \\int \\frac{dV}{V^2} - \\int \\frac{dV}{V} \\\\\n",
    "&= \\int \\frac{d \\left(V - n b_m \\right)}{V - n b_m} + n \\frac{\\partial \\left( n b_m \\right)}{\\partial n_i} \\int \\frac{d \\left( V - n b_m \\right)}{\\left( V - n b_m \\right)^2} - \\frac{\\partial \\left( n^2 a_m \\right)}{\\partial n_i} \\frac{1}{RT} \\int \\frac{dV}{V^2} - \\int \\frac{dV}{V} \\\\\n",
    "&= \\ln \\lvert V - n b_m \\rvert - n \\frac{\\partial \\left( n b_m \\right)}{\\partial n_i} \\frac{1}{V - n b_m} + \\frac{\\partial \\left( n^2 a_m \\right)}{\\partial n_i} \\frac{1}{R T} \\frac{1}{V} - \\ln \\lvert V \\rvert \\\\\n",
    "&= \\ln \\frac{V - n b_m}{V} - n \\frac{\\partial \\left( n b_m \\right)}{\\partial n_i} \\frac{1}{V - n b_m} + \\frac{\\partial \\left( n^2 a_m \\right)}{\\partial n_i} \\frac{1}{R T V}.\n",
    "\\end{align} $$"
   ]
  },
  {
   "cell_type": "markdown",
   "id": "a70bbe4a",
   "metadata": {},
   "source": [
    "Формула [Ньютона-Лейбница](https://en.wikipedia.org/wiki/Leibniz_integral_rule) для [несобственных интегралов](https://en.wikipedia.org/wiki/Improper_integral):"
   ]
  },
  {
   "cell_type": "markdown",
   "id": "0594c28c",
   "metadata": {},
   "source": [
    "$$ \\int_a^\\infty f \\left( x \\right) dx = \\lim_{b \\rightarrow \\infty} \\int_a^b f \\left( x \\right) dx = \\lim_{b \\rightarrow \\infty} F \\left( x \\right) \\bigg\\rvert_a^b = \\lim_{b \\rightarrow \\infty} \\left( F \\left( b \\right) - F \\left( a \\right)\\right). $$"
   ]
  },
  {
   "cell_type": "markdown",
   "id": "bc0ecbb0",
   "metadata": {},
   "source": [
    "С учетом данного выражения несобственный интеграл в выражении для логарифма коэффициента летучести:"
   ]
  },
  {
   "cell_type": "markdown",
   "id": "00374219",
   "metadata": {},
   "source": [
    "$$ \\begin{alignat}{1}\n",
    "\\int_V^\\infty f \\left( V \\right) dV\n",
    "&= &\\lim_{V \\rightarrow \\infty} \\left( \\ln \\frac{V - n b_m}{V} - n \\frac{\\partial \\left( n b_m \\right)}{\\partial n_i} \\frac{1}{V - n b_m} + \\frac{\\partial \\left( n^2 a_m \\right)}{\\partial n_i} \\frac{1}{R T V} \\right) \\\\\n",
    "&& - \\left( \\ln \\frac{V - n b_m}{V} - n \\frac{\\partial \\left( n b_m \\right)}{\\partial n_i} \\frac{1}{V - n b_m} + \\frac{\\partial \\left( n^2 a_m \\right)}{\\partial n_i} \\frac{1}{R T V} \\right) \\\\\n",
    "&= &\\ln \\frac{V}{V - n b_m} + n \\frac{\\partial \\left( n b_m \\right)}{\\partial n_i} \\frac{1}{V - n b_m} - \\frac{\\partial \\left( n^2 a_m \\right)}{\\partial n_i} \\frac{1}{R T V}.\n",
    "\\end{alignat} $$"
   ]
  },
  {
   "cell_type": "markdown",
   "id": "0d81a789",
   "metadata": {},
   "source": [
    "При преобразовании данного выражения было учтено:"
   ]
  },
  {
   "cell_type": "markdown",
   "id": "d8bf7288",
   "metadata": {},
   "source": [
    "$$ \\begin{align}\n",
    "\\lim_{V \\rightarrow \\infty} \\left( \\ln \\frac{V - n b_m}{V} \\right) &= 0; \\\\\n",
    "\\lim_{V \\rightarrow \\infty} \\left( \\frac{1}{V - n b_m} \\right) &= 0; \\\\\n",
    "\\lim_{V \\rightarrow \\infty} \\left( \\frac{1}{V} \\right) &= 0.\n",
    "\\end{align}$$"
   ]
  },
  {
   "cell_type": "markdown",
   "id": "74776cbb",
   "metadata": {},
   "source": [
    "Тогда логарифм коэффициента летучести $i$-го компонента:"
   ]
  },
  {
   "cell_type": "markdown",
   "id": "5efc10d7",
   "metadata": {},
   "source": [
    "$$ \\ln \\phi_i = \\ln \\frac{V}{V - n b_m} + \\frac{n}{V - n b_m} \\frac{\\partial \\left( n b_m \\right)}{\\partial n_i} - \\frac{1}{R T V} \\frac{\\partial \\left( n^2 a_m \\right)}{\\partial n_i} - \\ln Z. $$"
   ]
  },
  {
   "cell_type": "markdown",
   "id": "b242fa71",
   "metadata": {},
   "source": [
    "<a id='pvt-eos-van_der_waals-mix_rules'></a>\n",
    "```{admonition} NB\n",
    "Для того чтобы преобразовать это выражение, то есть взять частные производные от параметров $a_m$ и $b_m$ по количеству вещества $i$-го компонента, необходимо ввести ***правила смешивания*** – допущения, позволяющие рассчитать параметры $a_m$ и $b_m$ по компонентному составу системы и свойствам компонентов.\n",
    "```"
   ]
  },
  {
   "cell_type": "markdown",
   "id": "9849b646",
   "metadata": {},
   "source": [
    "Одними из наиболее часто использующихся правил смешивания являются следующие соотношения:"
   ]
  },
  {
   "cell_type": "markdown",
   "id": "46a4661c",
   "metadata": {},
   "source": [
    "$$ \\begin{align} a_m &= \\sum_{j=1}^{N_c} \\sum_{k=1}^{N_c} x_j x_k a_{jk}; \\\\ b_m &= \\sum_{j=1}^{N_c} x_j b_j. \\end{align}$$"
   ]
  },
  {
   "cell_type": "markdown",
   "id": "a3fd77d6",
   "metadata": {},
   "source": [
    "Здесь $x$ – мольная доля компонента, $a_{jk}$ – параметр, характеризующий степень взаимодействия молекул $j$-го и $k$-го компонентов. Если $j=k$, то параметр $a_{jk}$ должен соответствовать параметру $a$ по Ван-дер-Ваальсу, если же $j \\neq k$, то параметр $a_{jk}$ в отсутствие экспериментальных данных должен выражаться из известных значений $a_j$ и $a_k$. Это является одной из основных проблем при использовании уравнения состояния и правил смешивания – правильно учесть взаимовлияние компонентов. Зная взаимодействие молекул чистых компонентов, каким образом выразить взаимодействие молекул разных компонентов между собой? Однозначного ответа на данный вопрос нет. Поэтому на практике используются различные правила смешивания в зависимости от поставленной задачи, а также в качестве инструмента адаптации на лабораторные исследования. Наиболее часто для расчета параметра $a_{jk}$ используется следующее выражение:"
   ]
  },
  {
   "cell_type": "markdown",
   "id": "474ab006",
   "metadata": {},
   "source": [
    "$$a_{jk} = \\left( a_j a_k \\right) ^ {0.5}.$$"
   ]
  },
  {
   "cell_type": "markdown",
   "id": "8b1b1c45",
   "metadata": {},
   "source": [
    "Также можно встретить дополнительный множитель в этом выражении:"
   ]
  },
  {
   "cell_type": "markdown",
   "id": "72b3fa91",
   "metadata": {},
   "source": [
    "$$a_{jk} = \\left( a_j a_k \\right) ^ {0.5} \\left(1 - \\delta_{jk} \\right).$$"
   ]
  },
  {
   "cell_type": "markdown",
   "id": "c511ea13",
   "metadata": {},
   "source": [
    "<a id='pvt-eos-van_der_waals-bip'></a>\n",
    "В приведенном выше уравнении $\\delta_{jk}$ – коэффициент попарного взаимодействия. Данный коэффициент был введен авторами работы \\[[Chueh and Prausnitz, 1967](https://doi.org/10.1002/aic.690130612)\\] с целью коррекции правил смешивания, основанных на геометрическом осреднении параметров компонентов при расчете параметра смеси. Одним из распространненных подходов к определению коэффициентов попарного взаимодействия является пренебрежние коэффициентами попарного взаимодействие между углеводородными компонентами, поскольку их можно рассматривать как неполярные компоненты, и использование табличных констант для задания коэффициентов попарного взаимодействия между углеводородными и неуглеводородными компонентами \\[[Pedersen et al, 1984](https://doi.org/10.1021/i200024a027); [Pedersen et al, 2004](https://doi.org/10.2118/88364-PA)\\]. Однако использование данного подхода может быть недостаточно для адаптации PVT-модели к лабораторным данным. Так, авторами работы \\[[Katz and Firoozabadi, 1978](https://doi.org/10.2118/6721-PA)\\] не удалось достичь удовлетворительной адаптации PVT-модели, пока не были изменены коэффициенты попарного взаимодействия между легкими и тяжелыми компонентами, оказывающиими зачастую наибольшее влияние на фазовое поведение системы. Одной из распространенных корреляций коэффициента попарного взаимодействия двух углеводородных компонентов является:"
   ]
  },
  {
   "cell_type": "markdown",
   "id": "2e63162d",
   "metadata": {},
   "source": [
    "$$\\delta_{jk} = 1 - \\left( \\frac{2 {V_c}_j^{\\frac{1}{6}} {V_c}_k^{\\frac{1}{6}}}{{V_c}_j^{\\frac{1}{3}} + {V_c}_k^{\\frac{1}{3}}} \\right)^c.$$"
   ]
  },
  {
   "cell_type": "markdown",
   "id": "bf7e8e67",
   "metadata": {},
   "source": [
    " ${V_c}_j$ – критический объем $j$-го компонента, $c$ – коэффициент, обычно принимающий значение $1.2$ \\[[Oellrich et al, 1981](https://api.semanticscholar.org/CorpusID:94056056)\\], но также выступающий в качестве инструмента адаптации на лабораторные данные. Для неуглеводородных компонентов коэффициент попарного взаимодействия можно найти в научных работах. Выбор корреляции для коэффициентов попарного взаимодействия зависит в том числе от используемых уравнения состояния и правил смешивания, поскольку зачастую коэффиициенты в корреляциях коэффициентов попарного взаимодействия подбираются путем регрессии расчетных значений PVT-свойств флюида к фактическим данным. Поэтому на практике на нулевой итерации начальные коэффициенты попарного взаимодействия определяются по корреляциям, которые будут представлены для уравнений состояния [Суаве-Редлиха-Квонга и Пенга-Робинсона](./EOS-2-SRK-PR.html#pvt-eos-srk_pr) в [приложении B](./EOS-Appendix-B-BIP.html#pvt-eos-appendix-bip), а затем варьируются в процессе адаптации модели к экспериментальным данным. Значения коэффициентов попарного взаимодействия могут быть как положительными, так и отрицательными. Однако в ряде случаев использование положительных и отрицательных коэффициентов попарного взаимодействия компонентов, близких по молекулярной массе, подобранных в результате адаптации модели к лабораторным данным, может приводить к появлению нефизичности в PVT-модели \\[[Whitson et al, 2019](http://dx.doi.org/10.15530/urtec-2019-551)\\]. Стоит отметить, что коэффициенты попарного взаимодействия здесь и далее рассматриваются симметричными, то есть $\\delta_{jk} \\approx \\delta_{kj}$, поскольку использование несимметричных коэффициентов попарного взаимодействия может приводить к нереалистному моделированию вблизи критической области \\[[Fateen et al, 2013](https://doi.org/10.1016/j.jare.2012.03.004)\\]."
   ]
  },
  {
   "cell_type": "markdown",
   "id": "de79b29b",
   "metadata": {},
   "source": [
    "<a id='pvt-eos-van_der_waals-am_bm_derivative'></a>\n",
    "Принимая данные правила смешивания, получим конечное выражение для логарифма коэффициента летучести $i$-го компонента. Для этого необходимо получить производные от параметров $a_m$ и $b_m$."
   ]
  },
  {
   "cell_type": "markdown",
   "id": "9d5acbec",
   "metadata": {},
   "source": [
    "$$\\frac{\\partial n b_m}{\\partial n_i} = b_m \\frac{\\partial n}{\\partial n_i} + n \\frac{\\partial b_m}{\\partial n_i}.$$"
   ]
  },
  {
   "cell_type": "markdown",
   "id": "6678e942",
   "metadata": {},
   "source": [
    "В свою очередь, частная производная параметра $b_m$ по количеству вещества $i$-го компонента:"
   ]
  },
  {
   "cell_type": "markdown",
   "id": "d2801f5b",
   "metadata": {},
   "source": [
    "$$ \\begin{align}\n",
    "\\frac{\\partial b_m}{\\partial n_i}\n",
    "&= \\frac{\\partial}{\\partial n_i} \\left( \\sum_{j=1}^{N_c} x_j b_j \\right) \\\\\n",
    "&= \\sum_{j=1}^{N_c} b_j \\frac{\\partial}{\\partial n_i} \\left( \\frac{n_j}{n} \\right) \\\\\n",
    "&= \\sum_{j=1}^{N_c} b_j \\frac{n \\frac{\\partial n_j}{\\partial n_i} - n_j \\frac{\\partial n}{\\partial n_i}}{n^2} \\\\\n",
    "&= \\frac{1}{n} \\sum_{j=1}^{N_c} b_j I_{ij} - \\frac{1}{n} \\sum_{j=1}^{N_c} b_j x_j \\\\\n",
    "&= \\frac{b_i - b_m}{n}.\n",
    "\\end{align} $$"
   ]
  },
  {
   "cell_type": "markdown",
   "id": "4c850865",
   "metadata": {},
   "source": [
    "При получении данного выражения было использовано следующее преобразование:"
   ]
  },
  {
   "cell_type": "markdown",
   "id": "366f1e7f",
   "metadata": {},
   "source": [
    "$$ \\sum_{j=1}^{N_c} b_j I_{ij} = \\sum_{j=1}^{N_c} \\begin{bmatrix} b_1 & 0 & \\dots & 0 \\\\ 0 & b_2 & \\dots & 0 \\\\ \\vdots & \\vdots & \\ddots & \\vdots \\\\ 0 & 0 & \\dots & b_{N_c} \\end{bmatrix} = \\begin{bmatrix} b_1 \\\\ b_2 \\\\ \\vdots \\\\ b_{N_c} \\end{bmatrix} = b_i. $$"
   ]
  },
  {
   "cell_type": "markdown",
   "id": "2539234e",
   "metadata": {},
   "source": [
    "Получим производную для параметра $a_m$."
   ]
  },
  {
   "cell_type": "markdown",
   "id": "4f96714d",
   "metadata": {},
   "source": [
    "$$ \\frac{\\partial \\left( n^2 a_m \\right)}{\\partial n_i} = 2 n a_m + n^2 \\frac{\\partial a_m}{\\partial n_i}.$$"
   ]
  },
  {
   "cell_type": "markdown",
   "id": "7166b6cc",
   "metadata": {},
   "source": [
    "В свою очередь, частная производная параметра $a_m$ по количеству вещества $i$-го компонента:"
   ]
  },
  {
   "cell_type": "markdown",
   "id": "9cb78794",
   "metadata": {},
   "source": [
    "$$ \\begin{align}\n",
    "\\frac{\\partial a_m}{\\partial n_i}\n",
    "&= \\frac{\\partial}{\\partial n_i} \\left( \\sum_{j=1}^{N_c} \\sum_{k=1}^{N_c} x_j x_k a_{jk} \\right) \\\\\n",
    "&= \\sum_{j=1}^{N_c} \\sum_{k=1}^{N_c} a_{jk} \\frac{\\partial}{\\partial n_i} \\left( \\frac{n_j n_k}{n^2} \\right) \\\\\n",
    "&= \\sum_{j=1}^{N_c} \\sum_{k=1}^{N_c} a_{jk} \\frac{n^2 \\frac{\\partial}{\\partial n_i} \\left( n_j n_k \\right) - n_j n_k \\frac{\\partial n^2}{\\partial n_i}}{n^4} \\\\\n",
    "&= \\frac{1}{n^2} \\sum_{j=1}^{N_c} \\sum_{k=1}^{N_c} a_{jk} \\left( n_k I_{ij} + n_j I_{ik} \\right) - \\frac{2}{n} \\sum_{j=1}^{N_c} \\sum_{k=1}^{N_c} a_{jk} x_j x_k \\\\\n",
    "&= \\frac{1}{n^2} \\sum_{j=1}^{N_c} \\sum_{k=1}^{N_c} a_{jk} n_k I_{ij} + \\frac{1}{n^2} \\sum_{j=1}^{N_c} \\sum_{k=1}^{N_c} a_{jk} n_j I_{ik} - \\frac{2}{n} a_m.\n",
    "\\end{align} $$"
   ]
  },
  {
   "cell_type": "markdown",
   "id": "b733c5cc",
   "metadata": {},
   "source": [
    "Для преобразования данного выражения рассмотрим следующий пример. Параметр $a_{jk}$ представляет собой симметричную матрицу относительно главной диагонали."
   ]
  },
  {
   "cell_type": "code",
   "execution_count": 1,
   "id": "bf9a5c93",
   "metadata": {},
   "outputs": [],
   "source": [
    "import numpy as np\n",
    "import sys\n",
    "sys.path.append('../../SupportCode/')\n",
    "from PVT import core"
   ]
  },
  {
   "cell_type": "code",
   "execution_count": 2,
   "id": "28d66632",
   "metadata": {},
   "outputs": [
    {
     "data": {
      "text/plain": [
       "array([[0.01, 0.02, 0.03],\n",
       "       [0.02, 0.04, 0.06],\n",
       "       [0.03, 0.06, 0.09]])"
      ]
     },
     "execution_count": 2,
     "metadata": {},
     "output_type": "execute_result"
    }
   ],
   "source": [
    "ajk = np.outer([0.1, 0.2, 0.3], [0.1, 0.2, 0.3])\n",
    "ajk"
   ]
  },
  {
   "cell_type": "markdown",
   "id": "01036bb4",
   "metadata": {},
   "source": [
    "При умножении \"разнонаправленных\" матриц, например, $a_{jk} I_{ij}$ получится трехмерная матрица. Для того чтобы правильно выполнить умножение можно использовать пользовательскую функцию *repeat*, которая предназначена для того, чтобы продублировать вектор или матрицу в заданном направлении."
   ]
  },
  {
   "cell_type": "code",
   "execution_count": 3,
   "id": "d0ed8229",
   "metadata": {},
   "outputs": [],
   "source": [
    "Iij = core.repeat(np.identity(3), 1)\n",
    "Iik = core.repeat(np.identity(3), 0)\n",
    "nk = core.repeat(core.repeat(np.array([1, 2, 3]), 0), 2)\n",
    "nj = core.repeat(core.repeat(np.array([1, 2, 3]), 1), 2)\n",
    "ajk = core.repeat(ajk, 2)"
   ]
  },
  {
   "cell_type": "code",
   "execution_count": 4,
   "id": "1aba3d3c",
   "metadata": {},
   "outputs": [
    {
     "data": {
      "text/plain": [
       "array([0.14, 0.28, 0.42])"
      ]
     },
     "execution_count": 4,
     "metadata": {},
     "output_type": "execute_result"
    }
   ],
   "source": [
    "np.sum(np.sum(ajk * nk * Iij, 1), 0)"
   ]
  },
  {
   "cell_type": "code",
   "execution_count": 5,
   "id": "8634dc1a",
   "metadata": {},
   "outputs": [
    {
     "data": {
      "text/plain": [
       "array([0.14, 0.28, 0.42])"
      ]
     },
     "execution_count": 5,
     "metadata": {},
     "output_type": "execute_result"
    }
   ],
   "source": [
    "np.sum(np.sum(ajk * nj * Iik, 1), 0)"
   ]
  },
  {
   "cell_type": "markdown",
   "id": "f8d0dd86",
   "metadata": {},
   "source": [
    "В результате в обоих случаях получился один и тот же вектор (в направлении $i$, поскольку суммирование проиходило по направлениям $j$ и $k$). Следовательно, можно записать следующее равенство:"
   ]
  },
  {
   "cell_type": "markdown",
   "id": "6fe809cd",
   "metadata": {},
   "source": [
    "$$ \\sum_{j=1}^{N_c} \\sum_{k=1}^{N_c} a_{jk} n_k I_{ij} = \\sum_{j=1}^{N_c} \\sum_{k=1}^{N_c} a_{jk} n_j I_{ik}. $$"
   ]
  },
  {
   "cell_type": "markdown",
   "id": "2c681e7e",
   "metadata": {},
   "source": [
    "Аналогичный результат получится, если взять $n_j$ умножить на $a_{ij}$ и просуммировать по $j$."
   ]
  },
  {
   "cell_type": "code",
   "execution_count": 6,
   "id": "d97898de",
   "metadata": {},
   "outputs": [
    {
     "data": {
      "text/plain": [
       "array([[1., 2., 3.],\n",
       "       [1., 2., 3.],\n",
       "       [1., 2., 3.]])"
      ]
     },
     "execution_count": 6,
     "metadata": {},
     "output_type": "execute_result"
    }
   ],
   "source": [
    "aij = np.outer([0.1, 0.2, 0.3], [0.1, 0.2, 0.3])\n",
    "nj = core.repeat(np.array([1, 2, 3]), 0)\n",
    "nj"
   ]
  },
  {
   "cell_type": "code",
   "execution_count": 7,
   "id": "6954ae0c",
   "metadata": {},
   "outputs": [
    {
     "data": {
      "text/plain": [
       "array([0.14, 0.28, 0.42])"
      ]
     },
     "execution_count": 7,
     "metadata": {},
     "output_type": "execute_result"
    }
   ],
   "source": [
    "np.sum(aij * nj, 1)"
   ]
  },
  {
   "cell_type": "markdown",
   "id": "30d6551c",
   "metadata": {},
   "source": [
    "С учетом этого частная производная параметра $a_m$ по количеству вещества $i$-го компонента:"
   ]
  },
  {
   "cell_type": "markdown",
   "id": "b6d0ef32",
   "metadata": {},
   "source": [
    "$$ \\frac{\\partial a_m}{\\partial n_i} = \\frac{2}{n} \\left( \\sum_{j=1}^{N_c} a_{ij} x_j - a_m \\right).$$"
   ]
  },
  {
   "cell_type": "markdown",
   "id": "0d22f4a6",
   "metadata": {},
   "source": [
    "<a id='pvt-eos-van_der_waals-fugacity_coeff-tv'></a>\n",
    "Тогда логарифм коэффициента летучести $i$-го компонента:"
   ]
  },
  {
   "cell_type": "markdown",
   "id": "04d068bc",
   "metadata": {},
   "source": [
    "$$ \\begin{alignat}{1}\n",
    "\\ln \\phi_i &= \\; &\\ln \\frac{V}{V - n b_m} + \\frac{n}{V - n b_m} \\left(b_m + n \\frac{b_i - b_m}{n} \\right) - \\frac{1}{R T V} \\left( 2 n a_m + n^2 \\frac{2}{n} \\left( \\sum_{j=1}^{N_c} a_{ij} x_j - a_m \\right) \\right) \\\\\n",
    "& \\; & - \\ln Z \\\\\n",
    "&= \\; &\\ln \\frac{V}{V - n b_m} + \\frac{n b_i}{V - n b_m} - \\frac{2 n \\sum_{j=1}^{N_c} a_{ij} x_j}{R T V} - \\ln Z \\\\\n",
    "&= \\; &\\ln \\frac{v}{v - b_m} + \\frac{b_i}{v - b_m} - \\frac{2 \\sum_{j=1}^{N_c} a_{ij} x_j}{R T v} - \\ln Z.\n",
    "\\end{alignat}$$"
   ]
  },
  {
   "cell_type": "markdown",
   "id": "56e75df0",
   "metadata": {},
   "source": [
    "<a id='pvt-eos-van_der_waals-coefficients'></a>\n",
    "Каким образом могут быть определены параметры $a$ и $b$ для чистого компонента, по которым рассчитываются с использованием правил смешивания параметры $a_m$ и $b_m$? Это можно сделать через экспериментально определенные критические давление и температуру. [Ранее](../1-TD/TD-14-PhaseEquilibrium.html#pvt-td-phase_equilibrium-critical_point) было показано, что критическая точка характеризуется следующими соотношениями:"
   ]
  },
  {
   "cell_type": "markdown",
   "id": "8efe9bdb",
   "metadata": {},
   "source": [
    "$$ \\left( \\frac{\\partial P}{\\partial v} \\right)_{T_c} = \\left( \\frac{\\partial^2 P}{\\partial v^2} \\right)_{T_c} = 0.$$"
   ]
  },
  {
   "cell_type": "markdown",
   "id": "5f2bc578",
   "metadata": {},
   "source": [
    "Получим значения параметров $a$ и $b$, выраженные через критические свойства компонентов, из уравнения Ван-дер-Ваальса. Частная производная давления по молярному объему при постоянной температуре:"
   ]
  },
  {
   "cell_type": "markdown",
   "id": "bede3eab",
   "metadata": {},
   "source": [
    "$$ \\left(\\frac{\\partial P}{\\partial v} \\right)_T = \\frac{\\partial}{\\partial v}\\left( \\frac{R T}{v - b} - \\frac{a}{v^2} \\right)_T = - \\frac{RT}{\\left( v - b \\right)^2} + \\frac{2 a}{v^3} = 0. $$"
   ]
  },
  {
   "cell_type": "markdown",
   "id": "af123f76",
   "metadata": {},
   "source": [
    "$$ a = \\frac{R T_с v_с^3}{2 \\left( v_с - b \\right)^2}.$$"
   ]
  },
  {
   "cell_type": "markdown",
   "id": "50f3f160",
   "metadata": {},
   "source": [
    "Вторая частная производная давления по молярному объему при постоянной температуре:"
   ]
  },
  {
   "cell_type": "markdown",
   "id": "450972e6",
   "metadata": {},
   "source": [
    "$$ \\left(\\frac{\\partial^2 P}{\\partial v^2} \\right)_T = \\frac{\\partial}{\\partial v} \\left( \\frac{\\partial P}{\\partial v} \\right)_T = \\frac{\\partial}{\\partial v} \\left( - \\frac{RT}{\\left( v - b \\right)^2} + \\frac{2 a}{v^3} \\right)_T = \\frac{2 R T}{\\left( v - b \\right)^3} - \\frac{6 a}{v^4} = 0. $$"
   ]
  },
  {
   "cell_type": "markdown",
   "id": "03e50b8d",
   "metadata": {},
   "source": [
    "$$ b = \\frac{v_c}{3}. $$"
   ]
  },
  {
   "cell_type": "markdown",
   "id": "b11513e9",
   "metadata": {},
   "source": [
    "$$ a = \\frac{9 R T_c v_c}{8}. $$"
   ]
  },
  {
   "cell_type": "markdown",
   "id": "e2fad685",
   "metadata": {},
   "source": [
    "Поскольку наиболее часто критическую точку характеризуют давлением и температурой, то выразим параметры $a$ и $b$ через критические давление и температуру компонента. Для этого запишем уравнение состояния Ван-дер-Ваальса для критической точки:"
   ]
  },
  {
   "cell_type": "markdown",
   "id": "438c7c26",
   "metadata": {},
   "source": [
    "$$ \\left( P_c + \\frac{a}{v_c^2} \\right) \\left( v_c - b \\right) = R T_c.$$"
   ]
  },
  {
   "cell_type": "markdown",
   "id": "2d1331ee",
   "metadata": {},
   "source": [
    "Подставив в данное уравнение полученные ранее значения параметров $a$ и $b$, получим:"
   ]
  },
  {
   "cell_type": "markdown",
   "id": "f0b948b8",
   "metadata": {},
   "source": [
    "$$ v_c = \\frac{3 R T_c}{8 P_c}.$$"
   ]
  },
  {
   "cell_type": "markdown",
   "id": "f4c40b17",
   "metadata": {},
   "source": [
    "С учетом этого, значения параметров $a$ и $b$:"
   ]
  },
  {
   "cell_type": "markdown",
   "id": "afdaf8c3",
   "metadata": {},
   "source": [
    "$$ \\begin{align}\n",
    "a &= \\frac{27}{64} \\frac{R^2 T_c^2}{P_c}; \\\\\n",
    "b &= \\frac{1}{8} \\frac{R T_c}{P_c}.\n",
    "\\end{align} $$"
   ]
  },
  {
   "cell_type": "markdown",
   "id": "8c137252",
   "metadata": {},
   "source": [
    "Еще одной неизвестной для расчета логарифма коэффициента летучести $i$-го компонента является коэффициент сверхсжимаемости $Z$, определяемый выражением:"
   ]
  },
  {
   "cell_type": "markdown",
   "id": "ba108e72",
   "metadata": {},
   "source": [
    "$$Z = \\frac{P V}{n R T} = \\frac{P v}{R T}.$$"
   ]
  },
  {
   "cell_type": "markdown",
   "id": "8a9174e1",
   "metadata": {},
   "source": [
    "Если о системе известны молярный объем $v$ и температура $T$, тогда коэффициент сверхсжимаемости по уравнению Ван-дер-Ваальса:"
   ]
  },
  {
   "cell_type": "markdown",
   "id": "4d347b5c",
   "metadata": {},
   "source": [
    "$$ Z = \\frac{v}{v - b} - \\frac{a}{R T v}.$$"
   ]
  },
  {
   "cell_type": "markdown",
   "id": "b494014a",
   "metadata": {},
   "source": [
    "Если о системе известны давление $P$ и температура $T$, тогда уравнение Ван-дер-Ваальса можно записать в следующем виде:"
   ]
  },
  {
   "cell_type": "markdown",
   "id": "92e8a2de",
   "metadata": {},
   "source": [
    "$$ Z^3 - \\left( 1 + B \\right) Z^2 + A Z - A B = 0. $$"
   ]
  },
  {
   "cell_type": "markdown",
   "id": "d24120b3",
   "metadata": {},
   "source": [
    "$$ A = \\frac{a_m P}{R^2 T^2}. $$"
   ]
  },
  {
   "cell_type": "markdown",
   "id": "4d24503f",
   "metadata": {},
   "source": [
    "$$ B = \\frac{b_m P}{R T}. $$"
   ]
  },
  {
   "cell_type": "markdown",
   "id": "5cedde71",
   "metadata": {},
   "source": [
    "Решая кубическое уравнение относительно $Z$, например, с использованием [формулы Кардано](https://en.wikipedia.org/wiki/Cubic_equation#General_cubic_formula) или численными методами решения нелинейных уравнений, определяется значение коэффициента сверхсжимаемости по уравнению Ван-дер-Ваальса."
   ]
  },
  {
   "cell_type": "markdown",
   "id": "8f87c064",
   "metadata": {},
   "source": [
    "<a id='pvt-eos-van_der_waals-fugacity_coeff-pt'></a>\n",
    "С учетом этого выражение для логарифма коэффициента летучести можно преобразовать следующим образом:"
   ]
  },
  {
   "cell_type": "markdown",
   "id": "33172a81",
   "metadata": {},
   "source": [
    "$$ \\ln \\phi_i = - \\ln \\left( Z - B \\right) + \\frac{b_i}{b_m} \\frac{B}{Z - B} + \\frac{2 A}{Z a_m} \\sum_{j=1}^{N_c} a_{ij} x_j.$$"
   ]
  },
  {
   "cell_type": "markdown",
   "id": "022f984e",
   "metadata": {},
   "source": [
    "<a id='pvt-eos-van_der_waals-root_selection'></a>\n",
    "Решение кубического уравнения может привести к появлению более одного корня. Поскольку система должна характеризоваться одним значением параметра, то из нескольких значений необходимо выбрать тот, который имеет физический смысл. Это можно сделать, сравнивая между собой энергии Гиббса, рассчитываемые для данного коэффициента сверхсжимаемости. Тогда нужный корень будет характеризоваться наименьшим значением энергии Гиббса. [Ранее](../1-TD/TD-10-MixtureGibbsEnergy.html#pvt-td-mixture_gibbs_energy) было показано, что энергия Гиббса многокомпонентной системы может быть рассчитана следующим образом:"
   ]
  },
  {
   "cell_type": "markdown",
   "id": "be31e821",
   "metadata": {},
   "source": [
    "$$ G = \\sum_{i=1}^{N_c} \\mu_i x_i.$$"
   ]
  },
  {
   "cell_type": "markdown",
   "id": "5ab910ef",
   "metadata": {},
   "source": [
    "Данное выражение применимо при постоянных давлении и температуре. [Дифференциал химического потенциала компонента](../1-TD/TD-15-Fugacity.html#pvt-td-fugacity):"
   ]
  },
  {
   "cell_type": "markdown",
   "id": "c98af232",
   "metadata": {},
   "source": [
    "$$ d \\mu_i = R T d \\ln f_i.$$"
   ]
  },
  {
   "cell_type": "markdown",
   "id": "ae25ce4a",
   "metadata": {},
   "source": [
    "Проинтегрируем данное выражение, при этом, $\\mu_0$ будет соответствовать $P \\rightarrow 0$. Тогда:"
   ]
  },
  {
   "cell_type": "markdown",
   "id": "7b3a4fc7",
   "metadata": {},
   "source": [
    "$$ \\mu_i - {\\mu_0}_i = R T \\ln f_i. $$"
   ]
  },
  {
   "cell_type": "markdown",
   "id": "918f6f43",
   "metadata": {},
   "source": [
    "Тогда энергия Гиббса:"
   ]
  },
  {
   "cell_type": "markdown",
   "id": "be3d7fca",
   "metadata": {},
   "source": [
    "$$ G = \\sum_{i=1}^{N_c} x_i {\\mu_0}_i + R T \\sum_{i=1}^{N_c} x_i \\ln f_i. $$"
   ]
  },
  {
   "cell_type": "markdown",
   "id": "ad96967b",
   "metadata": {},
   "source": [
    "Пусть $Z_1$ и $Z_2$ – корни кубического уравнения состояния, которым соответствуют энергии Гиббса $G_1$ и $G_2$. Тогда:"
   ]
  },
  {
   "cell_type": "markdown",
   "id": "13826b34",
   "metadata": {},
   "source": [
    "$$ G_1 - G_2 = R T \\left( \\sum_{i=1}^{N_c} x_i \\ln {f_1}_i - \\sum_{i=1}^{N_c} x_i \\ln {f_2}_i \\right). $$"
   ]
  },
  {
   "cell_type": "markdown",
   "id": "41f49fdb",
   "metadata": {},
   "source": [
    "Логарифм летучести можно получить из логарифма коэффициента летучести:"
   ]
  },
  {
   "cell_type": "markdown",
   "id": "a770d3cd",
   "metadata": {},
   "source": [
    "$$ \\ln f_i = \\ln \\phi_i + \\ln x_i P.$$"
   ]
  },
  {
   "cell_type": "markdown",
   "id": "ad986101",
   "metadata": {},
   "source": [
    "Преобразуем сумму произведений мольной доли компонента и логарифма летучести:"
   ]
  },
  {
   "cell_type": "markdown",
   "id": "cc771f2a",
   "metadata": {},
   "source": [
    "$$ \\begin{align}\n",
    "\\sum_{i=1}^{N_c} x_i \\ln f_i\n",
    "&= \\sum_{i=1}^{N_c} x_i \\ln \\phi_i + \\sum_{i=1}^{N_c} x_i \\ln x_i P \\\\\n",
    "&= - \\sum_{i=1}^{N_c} x_i \\ln \\left( Z - B \\right) + \\sum_{i=1}^{N_c} x_i \\frac{b_i}{b_m} \\frac{B}{Z - B} + \\sum_{i=1}^{N_c} x_i \\frac{2 A}{Z a_m} \\sum_{j=1}^{N_c} a_{ij} x_j + \\sum_{i=1}^{N_c} x_i \\ln x_i P \\\\\n",
    "&= - \\ln \\left( Z - B \\right) \\sum_{i=1}^{N_c} x_i + \\frac{1}{b_m} \\frac{B}{Z - B} \\sum_{i=1}^{N_c} x_i b_i + \\frac{2 A}{Z a_m} \\sum_{i=1}^{N_c} \\sum_{j=1}^{N_c} a_{ij} x_i x_j + \\sum_{i=1}^{N_c} x_i \\ln x_i P \\\\\n",
    "&= - \\ln \\left( Z - B \\right) + \\frac{B}{Z - B} + \\frac{2 A}{Z} + \\sum_{i=1}^{N_c} x_i \\ln x_i P.\n",
    "\\end{align} $$"
   ]
  },
  {
   "cell_type": "markdown",
   "id": "ee710f4b",
   "metadata": {},
   "source": [
    "С учетом этого разность энергий Гиббса:"
   ]
  },
  {
   "cell_type": "markdown",
   "id": "0a468bee",
   "metadata": {},
   "source": [
    "$$ \\begin{align} G_1 - G_2 &= R T \\left( - \\ln \\left( Z_1 - B \\right) + \\frac{B}{Z_1 - B} + \\frac{2 A}{Z_1} + \\ln \\left( Z_2 - B \\right) - \\frac{B}{Z_2 - B} - \\frac{2 A}{Z_2} \\right) \\\\\n",
    "&= R T \\left(\\ln \\frac{Z_2 - B}{Z_1 - B} + B \\frac{Z_2 - Z_1}{\\left( Z_1 - B \\right) \\left( Z_2 - B \\right)} + 2 A \\frac{Z_2 - Z_1}{Z_1 Z_2} \\right). \\end{align}$$"
   ]
  },
  {
   "cell_type": "markdown",
   "id": "a487a411",
   "metadata": {},
   "source": [
    "Следовательно, если $G_1 - G_2 > 0,$ то коэффициент сверхсжимаемости системы равен $Z_2$."
   ]
  },
  {
   "cell_type": "markdown",
   "id": "ed4f58bb",
   "metadata": {},
   "source": [
    "<a id='pvt-eos-van_der_waals-exercise'></a>\n",
    "Теперь можно рассмотреть применение уравнения состояния Ван-дер-Ваальса, например, для нахождения летучестей компонентов в смеси метана и диоксида углерода с мольными долями $0.85$ и $0.15$ для давления $20 \\; бар$ и температуры $40 \\; \\unicode{xB0} C$."
   ]
  },
  {
   "cell_type": "code",
   "execution_count": 8,
   "id": "70f5839d",
   "metadata": {},
   "outputs": [],
   "source": [
    "Pc = np.array([7.37646, 4.600155]) * 10**6\n",
    "Tc = np.array([304.2, 190.6])\n",
    "z = np.array([0.15, 0.85])\n",
    "dij = np.array([[0, 0.025], [0.025, 0]])\n",
    "R = 8.314"
   ]
  },
  {
   "cell_type": "code",
   "execution_count": 9,
   "id": "9e568906",
   "metadata": {
    "tags": [
     "hide-input"
    ]
   },
   "outputs": [],
   "source": [
    "class mix_rules_vdw(core):\n",
    "    def __init__(self, z, Pc, Tc, n=1, dij=None, calc_der=False):\n",
    "        self.z = z\n",
    "        self.n = n\n",
    "        self.ai = 27 * R**2 * Tc**2 / (64 * Pc)\n",
    "        self.bi = R * Tc / (8 * Pc)\n",
    "        self.aij = np.outer(self.ai, self.ai)**0.5\n",
    "        self.dij = dij\n",
    "        if dij is not None:\n",
    "            self.aij = self.aij * (1 - self.dij)\n",
    "        self.am = np.sum(np.outer(self.z, self.z) * self.aij)\n",
    "        self.bm = np.sum(self.z * self.bi)\n",
    "        if calc_der:\n",
    "            self.damdn = 2 * (np.sum(self.aij * self.repeat(self.z, 0), 1) - self.am) / self.n\n",
    "            self.damdn = (self.bi - self.bm) / self.n\n",
    "        pass"
   ]
  },
  {
   "cell_type": "code",
   "execution_count": 10,
   "id": "b7cfaabf",
   "metadata": {},
   "outputs": [],
   "source": [
    "mr = mix_rules_vdw(z, Pc, Tc)"
   ]
  },
  {
   "cell_type": "code",
   "execution_count": 11,
   "id": "618ab7ba",
   "metadata": {
    "tags": [
     "hide-input"
    ]
   },
   "outputs": [],
   "source": [
    "class eos_vdw(core):\n",
    "    def __init__(self, mr, T, P=None, v=None):\n",
    "        self.mr = mr\n",
    "        self.T = T\n",
    "        if v is not None:\n",
    "            self.v = v\n",
    "            self.Z = self.calc_Z_V()\n",
    "            self.P = self.Z * R * T / v\n",
    "            self.lnphi = self.calc_fug_coef_V()\n",
    "        elif P is not None:\n",
    "            self.P = P\n",
    "            self.A = mr.am * P / (R**2 * T**2)\n",
    "            self.B = mr.bm * P / (R * T)\n",
    "            self.Z = self.calc_Z_P()\n",
    "            self.v = self.Z * R * T / P\n",
    "            self.lnphi = self.calc_fug_coef_P()\n",
    "        self.lnf = self.lnphi + np.log(mr.z * self.P)\n",
    "        pass\n",
    "\n",
    "    def calc_Z_V(self):\n",
    "        return self.v / (self.v - self.mr.bm) - self.mr.am / (R * self.T * self.v)\n",
    "\n",
    "    def calc_Z_P(self):\n",
    "        Zs = self.calc_cardano(-(1 + self.B), self.A, -self.A * self.B)\n",
    "        Z = Zs[0]\n",
    "        if len(Zs) > 1:\n",
    "            for i in range(1, 3):\n",
    "                if self.calc_dG(Z, Zs[i]) > 0:\n",
    "                    Z = Zs[i]\n",
    "        return Z\n",
    "\n",
    "    def calc_fug_coef_V(self):\n",
    "        return np.log(self.v / (self.v - self.mr.bm)) + self.mr.bi / (self.v - self.mr.bm) - \\\n",
    "               2 * np.sum(self.mr.aij * self.repeat(self.mr.z, 0), 1) / (R * self.T * self.v) - np.log(self.Z)\n",
    "\n",
    "    def calc_fug_coef_P(self):\n",
    "        return -np.log(self.Z - self.B) + self.mr.bi * self.B / (self.mr.bm * (self.Z - self.B)) - \\\n",
    "               2 * self.A * np.sum(self.mr.aij * self.repeat(self.mr.z, 0), 1) / (self.Z * self.mr.am)\n",
    "\n",
    "    def calc_dG(self, Z1, Z2):\n",
    "        return np.log((Z2 - self.B) / (Z1 - self.B)) + self.B * (Z2 - Z1) / ((Z1 - self.B) * (Z2 - self.B)) + \\\n",
    "               2 * self.A * (Z2 - Z1) / (Z1 * Z2)"
   ]
  },
  {
   "cell_type": "markdown",
   "id": "f4fa414a",
   "metadata": {},
   "source": [
    "Результаты расчета коэффициента сверхсжимаемости газа с использованием уравнения состояния Ван-дер-Ваальса:"
   ]
  },
  {
   "cell_type": "code",
   "execution_count": 12,
   "id": "e2a21064",
   "metadata": {},
   "outputs": [
    {
     "data": {
      "text/plain": [
       "0.9592105017186376"
      ]
     },
     "execution_count": 12,
     "metadata": {},
     "output_type": "execute_result"
    }
   ],
   "source": [
    "eos = eos_vdw(mr, T=40+273.15, P=20*10**5)\n",
    "eos.Z"
   ]
  },
  {
   "cell_type": "markdown",
   "id": "134968e6",
   "metadata": {},
   "source": [
    "Аналогичный результат может быть получен при расчете коэффициента сверхсжимаемости газа относительно известных температуры и молярного объема:"
   ]
  },
  {
   "cell_type": "code",
   "execution_count": 13,
   "id": "5243f67e",
   "metadata": {},
   "outputs": [
    {
     "data": {
      "text/plain": [
       "0.9592105017186375"
      ]
     },
     "execution_count": 13,
     "metadata": {},
     "output_type": "execute_result"
    }
   ],
   "source": [
    "eosv = eos_vdw(mr, T=40+273.15, v=eos.v)\n",
    "eosv.Z"
   ]
  },
  {
   "cell_type": "markdown",
   "id": "e6c19ed5",
   "metadata": {},
   "source": [
    "Значения логарифма летучести компонентов, рассчитанные относительно известных давления и температуры:"
   ]
  },
  {
   "cell_type": "code",
   "execution_count": 14,
   "id": "11f7ce3e",
   "metadata": {},
   "outputs": [
    {
     "data": {
      "text/plain": [
       "array([12.53825926, 14.31135689])"
      ]
     },
     "execution_count": 14,
     "metadata": {},
     "output_type": "execute_result"
    }
   ],
   "source": [
    "eos.lnf"
   ]
  },
  {
   "cell_type": "markdown",
   "id": "4b7a861d",
   "metadata": {},
   "source": [
    "Значения логарифма летучести компонентов, рассчитанные относительно известных молярного объема и температуры:"
   ]
  },
  {
   "cell_type": "code",
   "execution_count": 15,
   "id": "bb849dfa",
   "metadata": {},
   "outputs": [
    {
     "data": {
      "text/plain": [
       "array([12.53825926, 14.31135689])"
      ]
     },
     "execution_count": 15,
     "metadata": {},
     "output_type": "execute_result"
    }
   ],
   "source": [
    "eosv.lnf"
   ]
  },
  {
   "cell_type": "markdown",
   "id": "eaac96c9",
   "metadata": {},
   "source": [
    "Однако использование уравнения состояния Ван-дер-Ваальса может приводить к существенному расхождению с фактическими данными. Например, с учетом ранее полученных соотношений, согласно уравнению состояния Ван-дер-Ваальса коэффиицент сверхсжимаемости глюбого газа в сверхкритическом состоянии составляет $\\frac{3}{8} = 0.375 .$ При этом, для большинства реальных газов коэффициент сверхсжимаемости в критическом состоянии [составляет](https://phys.libretexts.org/Bookshelves/Thermodynamics_and_Statistical_Mechanics/Book%3A_Heat_and_Thermodynamics_(Tatum)/06%3A_Properties_of_Gases/6.03%3A_Van_der_Waals_and_Other_Gases) около $0.28$. Таким образом, несмотря на свою простоту, уравнение состояния Ван-дер-Ваальса практически не используется, поэтому далее уравнение состояния Ван-дер-Ваальса не будет рассматриваться. Для повышения точности расчета параметров систем на практике используются уравнения состояния Пенга-Робинсона и Суаве-Редлиха-Квонга, которые также являются двухпараметрическими уравнениями состояния."
   ]
  }
 ],
 "metadata": {
  "jupytext": {
   "text_representation": {
    "extension": ".md",
    "format_name": "myst",
    "format_version": 0.13,
    "jupytext_version": "1.10.3"
   }
  },
  "kernelspec": {
   "display_name": "Python 3 (ipykernel)",
   "language": "python",
   "name": "python3"
  },
  "language_info": {
   "codemirror_mode": {
    "name": "ipython",
    "version": 3
   },
   "file_extension": ".py",
   "mimetype": "text/x-python",
   "name": "python",
   "nbconvert_exporter": "python",
   "pygments_lexer": "ipython3",
   "version": "3.7.13"
  },
  "source_map": [
   12,
   18,
   23,
   27,
   31,
   35,
   39,
   47,
   52,
   56,
   60,
   64,
   68,
   72,
   76,
   80,
   84,
   88,
   92,
   96,
   108,
   112,
   116,
   120,
   129,
   133,
   141,
   145,
   149,
   156,
   160,
   164,
   168,
   172,
   176,
   180,
   185,
   189,
   193,
   198,
   202,
   206,
   217,
   221,
   225,
   229,
   233,
   237,
   248,
   254,
   263,
   268,
   274,
   284,
   290,
   294,
   298,
   302,
   308,
   316,
   320,
   324,
   328,
   333,
   342,
   347,
   351,
   355,
   359,
   363,
   367,
   371,
   375,
   379,
   383,
   387,
   391,
   395,
   399,
   406,
   410,
   414,
   418,
   422,
   426,
   430,
   434,
   438,
   442,
   447,
   451,
   456,
   460,
   464,
   468,
   472,
   476,
   480,
   484,
   488,
   492,
   496,
   500,
   504,
   514,
   518,
   523,
   527,
   534,
   544,
   567,
   573,
   620,
   626,
   631,
   637,
   642,
   648,
   652,
   658,
   662
  ]
 },
 "nbformat": 4,
 "nbformat_minor": 5
}