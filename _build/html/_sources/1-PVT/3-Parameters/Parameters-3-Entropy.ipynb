{
 "cells": [
  {
   "cell_type": "markdown",
   "id": "831a53b1",
   "metadata": {},
   "source": [
    "<a id='pvt-parameters-entropy'></a>\n",
    "# Энтропия"
   ]
  },
  {
   "cell_type": "code",
   "execution_count": null,
   "id": "364bcbc2",
   "metadata": {},
   "outputs": [],
   "source": []
  },
  {
   "cell_type": "markdown",
   "id": "8f505605",
   "metadata": {},
   "source": [
    "<a id='pvt-parameters-entropy-pr_srk'></a>\n",
    "## Вывод выражения энтропии с использованием уравнений состояния Суаве-Редлиха-Квонга и Пенга-Робинсона"
   ]
  },
  {
   "cell_type": "code",
   "execution_count": null,
   "id": "5117a3d6",
   "metadata": {},
   "outputs": [],
   "source": []
  },
  {
   "cell_type": "markdown",
   "id": "63fc8968",
   "metadata": {},
   "source": [
    "<a id='pvt-parameters-entropy-sw'></a>\n",
    "## Вывод выражения энтропии с использованием уравнения состояния Сорейде-Уитсона"
   ]
  },
  {
   "cell_type": "code",
   "execution_count": null,
   "id": "ce04c37b",
   "metadata": {},
   "outputs": [],
   "source": []
  },
  {
   "cell_type": "markdown",
   "id": "98b3a1f7",
   "metadata": {},
   "source": [
    "<a id='pvt-parameters-entropy-cpa'></a>\n",
    "## Вывод выражения энтропии с использованием уравнения состояния CPA"
   ]
  },
  {
   "cell_type": "code",
   "execution_count": null,
   "id": "0c93f8de",
   "metadata": {},
   "outputs": [],
   "source": []
  }
 ],
 "metadata": {
  "jupytext": {
   "text_representation": {
    "extension": ".md",
    "format_name": "myst",
    "format_version": 0.13,
    "jupytext_version": "1.10.3"
   }
  },
  "kernelspec": {
   "display_name": "Python 3 (ipykernel)",
   "language": "python",
   "name": "python3"
  },
  "language_info": {
   "codemirror_mode": {
    "name": "ipython",
    "version": 3
   },
   "file_extension": ".py",
   "mimetype": "text/x-python",
   "name": "python",
   "nbconvert_exporter": "python",
   "pygments_lexer": "ipython3",
   "version": "3.7.13"
  },
  "source_map": [
   12,
   17,
   19,
   24,
   26,
   31,
   33,
   38
  ]
 },
 "nbformat": 4,
 "nbformat_minor": 5
}