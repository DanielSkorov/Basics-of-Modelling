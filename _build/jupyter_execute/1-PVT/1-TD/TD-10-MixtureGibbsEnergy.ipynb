{
 "cells": [
  {
   "cell_type": "markdown",
   "id": "b6026e25",
   "metadata": {},
   "source": [
    "<a id='pvt-td-mixture_gibbs_energy'></a>\n",
    "# Энергия Гиббса многокомпонентной системы\n",
    "Данные в предыдущем разделе определения [экстенсивным](./TD-9-Observables.html#pvt-td-observables-extensive) и [интенсивным](./TD-9-Observables.html#pvt-td-observables-intensive) параметрам Могут быть использованы для получения выражений для расчета термодинамических параметров многокомпонентных систем. Покаже это на примере энергии Гиббса."
   ]
  },
  {
   "cell_type": "markdown",
   "id": "b13c9644",
   "metadata": {},
   "source": [
    "## Энергия Гиббса при постоянных давлении и температуре"
   ]
  },
  {
   "cell_type": "markdown",
   "id": "5d739d9c",
   "metadata": {},
   "source": [
    "Ранее, при введении параметра [энергии Гиббса](TD-8-Helmholtz-Gibbs.html#pvt-td-helmholtz_gibbs-gibbs), было показано, что:"
   ]
  },
  {
   "cell_type": "markdown",
   "id": "fb1e2680",
   "metadata": {},
   "source": [
    "$$\\mu = \\left( \\frac{\\partial G}{\\partial N} \\right)_{T, P}.$$"
   ]
  },
  {
   "cell_type": "markdown",
   "id": "a9faeec8",
   "metadata": {},
   "source": [
    "Данное выражение означает, что приращение энергии Гиббса при добавлении молекул к системе есть химический потенциал при фиксированных давлении и температуре. При этом, энергия Гиббса является экстенсивным параметром, то есть она зависит от количества частиц: $G = G \\left( N, T, P \\right)$. Кроме того, единственным экстенсивным параметром, используемым для расчета энергии Гиббса, является количество молекул, следовательно, энергия Гиббса должна быть пропорциональна количеству молекул. Из этого следует, что если в рассматриваемой системе при постоянных давлении и температуре имеется только один вид молекул (один компонент), то энергия Гиббса может быть определена следующим образом:"
   ]
  },
  {
   "cell_type": "markdown",
   "id": "c2b5f424",
   "metadata": {},
   "source": [
    "$$G = \\mu N.$$"
   ]
  },
  {
   "cell_type": "markdown",
   "id": "535fc00a",
   "metadata": {},
   "source": [
    "То есть химический потенциал можно интерпретировать как энергия Гиббса, приходящаяся на одну молекулу. При этом, химический потенциал является функцией от давления и температуры:"
   ]
  },
  {
   "cell_type": "markdown",
   "id": "4d8cc0b2",
   "metadata": {},
   "source": [
    "$$ \\mu = \\mu \\left( P, T \\right).$$"
   ]
  },
  {
   "cell_type": "markdown",
   "id": "ea5f7704",
   "metadata": {},
   "source": [
    "В общем виде, если в системе несколько компонентов, то:"
   ]
  },
  {
   "cell_type": "markdown",
   "id": "f87ffb9c",
   "metadata": {},
   "source": [
    "$$G = \\sum_{i} \\mu_i N_i.$$"
   ]
  },
  {
   "cell_type": "markdown",
   "id": "148571df",
   "metadata": {},
   "source": [
    "<a id='pvt-td-mixture_gibbs_energy-partial_molar_observables'></a>\n",
    "## Парциальные молярные экстенсивные параметры\n",
    "Пусть переменная $E$ обозначает любой [экстенсивный параметр](./TD-9-Observables.html#pvt-td-observables-extensive) системы. Обозначим частную производную по количеству молекул $i$-го компонета (или по количеству вещества $i$-го компонента) данного параметра при постоянных давлении, температуре и количествах молекул остальных компонентов как $\\bar{E_i}$, то есть:"
   ]
  },
  {
   "cell_type": "markdown",
   "id": "7ca74910",
   "metadata": {},
   "source": [
    "$$\\bar{E_i} = \\left( \\frac{\\partial E_i}{\\partial N_i} \\right)_{P,T,n_j}.$$"
   ]
  },
  {
   "cell_type": "markdown",
   "id": "a0bd710a",
   "metadata": {},
   "source": [
    "При этом, любой экстенсивный параметр $E$, как функция относительно $\\lambda N_i$ количеств молекул компонентов, выражается следующим образом:"
   ]
  },
  {
   "cell_type": "markdown",
   "id": "8ff61d31",
   "metadata": {},
   "source": [
    "$$ E \\left( P, T, \\lambda N_1, \\lambda N_2, \\ldots, \\lambda N_c \\right) = \\lambda E \\left( P, T, N_1, N_2, \\ldots, N_C \\right),$$"
   ]
  },
  {
   "cell_type": "markdown",
   "id": "03d48be5",
   "metadata": {},
   "source": [
    "где $C$ – количество компонентов. Получим частную производную от левой и правой части данного выражения по $\\lambda$. Поскольку параметр $E$ является функцией от величины $\\lambda N_i$, каждая из которых является функцией от $\\lambda$, то, применяя [правило дифференциирования сложной функции](https://en.wikipedia.org/wiki/Chain_rule#Multivariable_case), получим:"
   ]
  },
  {
   "cell_type": "markdown",
   "id": "45ec944f",
   "metadata": {},
   "source": [
    "$$\\sum_{i=1}^C \\left( \\frac{\\partial E}{\\partial \\lambda n_i} \\right)_{P,T,n_j} \\frac{d \\lambda n_i}{d \\lambda} = E \\left( P, T, N_1, N_2, \\ldots, N_c \\right).$$"
   ]
  },
  {
   "cell_type": "markdown",
   "id": "6bcadcf9",
   "metadata": {},
   "source": [
    "Для $\\lambda=1$:"
   ]
  },
  {
   "cell_type": "markdown",
   "id": "17e6169e",
   "metadata": {},
   "source": [
    "$$\\sum_{i=1}^C \\left( \\frac{\\partial E}{\\partial  N_i} \\right)_{P,T,N_j} N_i = \\sum_{i=1}^C \\bar{E_i} N_i = E \\left( P, T, N_1, N_2, \\ldots, N_c \\right).$$"
   ]
  },
  {
   "cell_type": "markdown",
   "id": "354a7f09",
   "metadata": {},
   "source": [
    "Таким образом, любой экстенсивный параметр может быть рассчитан из его частных производных по количеству молекул (вещества) компонентов. Необходимо также отметить, что фиксация давления и температуры необходимы для того, чтобы выполнялось полученное соотношение. [Ранее](TD-8-Helmholtz-Gibbs.html#pvt-td-helmholtz_gibbs-helmholtz_partials) было показано, что химический потенциал является частной производной энергии Гельмгольца по количеству молекул компонента при постоянных температуре и объеме:"
   ]
  },
  {
   "cell_type": "markdown",
   "id": "b3a27940",
   "metadata": {},
   "source": [
    "$$\\mu_i = \\left( \\frac{\\partial F}{\\partial N_i} \\right)_{T,V}.$$"
   ]
  },
  {
   "cell_type": "markdown",
   "id": "3c51c43a",
   "metadata": {},
   "source": [
    "При этом, парциальная молярная энергия Гельмгольца, определяемая выражением:"
   ]
  },
  {
   "cell_type": "markdown",
   "id": "03955f15",
   "metadata": {},
   "source": [
    "$$\\bar{F_i} = \\left( \\frac{\\partial F}{\\partial N_i} \\right)_{P,T},$$"
   ]
  },
  {
   "cell_type": "markdown",
   "id": "7075337c",
   "metadata": {},
   "source": [
    "не равная химическому потенциалу, то есть:"
   ]
  },
  {
   "cell_type": "markdown",
   "id": "f34ceb1f",
   "metadata": {},
   "source": [
    "$$\\bar{F_i} \\neq \\mu_i.$$"
   ]
  },
  {
   "cell_type": "markdown",
   "id": "1564eb45",
   "metadata": {},
   "source": [
    "<a id='pvt-td-mixture_gibbs_energy-partial_molar_observables-ideal_gas'></a>\n",
    "Также стоит отметить, что из-за межмолекулярных взаимодействий различных компонентов парциальный молярный параметр не равен приведенному на единицу количества молекул параметру, то есть:"
   ]
  },
  {
   "cell_type": "markdown",
   "id": "7ef500e8",
   "metadata": {},
   "source": [
    "$$ e_i \\left( P,T \\right) = \\frac{E_i \\left( P,T,N_i \\right)}{n_i} \\neq \\bar{E_i}.$$"
   ]
  },
  {
   "cell_type": "markdown",
   "id": "5a75e09a",
   "metadata": {},
   "source": [
    "Данное правило справедливо для всех систем, за исключением особых случаев, например, идеального газа. Рассмотрим парциальный молярный объем иделаьного газа. Применяя [уравнение состояния идеального газа](TD-1-Basics.html#pvt-td-basics-ideal_gas_eos), получим:"
   ]
  },
  {
   "cell_type": "markdown",
   "id": "1572bd28",
   "metadata": {},
   "source": [
    "$$\\bar{V} = \\left( \\frac{\\partial V}{\\partial N} \\right)_{P,T} = \\frac{\\partial}{\\partial N} \\left( \\frac{N k T}{P} \\right)_{P,T} = \\frac{kT}{P} = \\frac{V}{N} = v.$$"
   ]
  }
 ],
 "metadata": {
  "jupytext": {
   "text_representation": {
    "extension": ".md",
    "format_name": "myst",
    "format_version": 0.13,
    "jupytext_version": "1.10.3"
   }
  },
  "kernelspec": {
   "display_name": "Python 3 (ipykernel)",
   "language": "python",
   "name": "python3"
  },
  "language_info": {
   "codemirror_mode": {
    "name": "ipython",
    "version": 3
   },
   "file_extension": ".py",
   "mimetype": "text/x-python",
   "name": "python",
   "nbconvert_exporter": "python",
   "pygments_lexer": "ipython3",
   "version": "3.7.13"
  },
  "source_map": [
   12,
   17,
   21,
   25,
   29,
   33,
   37,
   41,
   45,
   49,
   53,
   59,
   63,
   67,
   71,
   75,
   79,
   83,
   87,
   91,
   95,
   99,
   103,
   107,
   111,
   116,
   120,
   124
  ]
 },
 "nbformat": 4,
 "nbformat_minor": 5
}