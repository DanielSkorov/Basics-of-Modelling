{
 "cells": [
  {
   "cell_type": "markdown",
   "id": "94140bec",
   "metadata": {},
   "source": [
    "<a id='pvt-td-maxwell_relations'></a>\n",
    "# Соотношения Максвелла\n",
    "Существует множество соотношений между частными производными термодинамических параметров систем, называемые ***соотношения Максвелла***. Все они основаны на следующих свойствах дифференциала и частных производных. Пусть имеется некоторая функция $\\phi \\left( x, y \\right)$, при этом ее дифференциал записывается следующим образом:"
   ]
  },
  {
   "cell_type": "markdown",
   "id": "f7ebb199",
   "metadata": {},
   "source": [
    "$$d \\phi \\left( x, y \\right) = M \\left( x, y \\right) dx + N \\left( x, y \\right) dy.$$"
   ]
  },
  {
   "cell_type": "markdown",
   "id": "91b9d980",
   "metadata": {},
   "source": [
    "Следовательно, можно записать, что:"
   ]
  },
  {
   "cell_type": "markdown",
   "id": "0064d50e",
   "metadata": {},
   "source": [
    "$$M \\left( x, y \\right) = \\left( \\frac{\\partial \\phi \\left( x, y \\right)}{\\partial x} \\right)_y; \\\\ N \\left( x, y \\right) = \\left( \\frac{\\partial \\phi \\left( x, y \\right)}{\\partial y} \\right)_x.$$"
   ]
  },
  {
   "cell_type": "markdown",
   "id": "4bdbf213",
   "metadata": {},
   "source": [
    "Запишем выражение для второй частной производной функции $\\phi \\left( x, y \\right)$:"
   ]
  },
  {
   "cell_type": "markdown",
   "id": "bb0b1526",
   "metadata": {},
   "source": [
    "$$\\frac{\\partial^2 \\phi \\left( x, y \\right)}{\\partial x \\partial y} = \\left( \\frac{\\partial}{\\partial x} \\left( \\frac{\\partial \\phi \\left( x, y \\right)}{\\partial y} \\right)_x \\right)_y = \\left( \\frac{\\partial}{\\partial y} \\left( \\frac{\\partial \\phi \\left( x, y \\right) }{\\partial x} \\right)_y \\right)_x.$$"
   ]
  },
  {
   "cell_type": "markdown",
   "id": "efcdd18c",
   "metadata": {},
   "source": [
    "Преобразуя, получим:"
   ]
  },
  {
   "cell_type": "markdown",
   "id": "c8b342b3",
   "metadata": {},
   "source": [
    "$$ \\left( \\frac{\\partial N \\left( x, y \\right)}{\\partial x} \\right)_y = \\left( \\frac{\\partial M \\left( x, y \\right)}{\\partial y} \\right)_x.$$"
   ]
  },
  {
   "cell_type": "markdown",
   "id": "7f6de8f1",
   "metadata": {},
   "source": [
    "Используя данное свойство, рассмотрим вывод соотношений Максвелла."
   ]
  },
  {
   "cell_type": "markdown",
   "id": "71cd85b4",
   "metadata": {},
   "source": [
    "<a id='pvt-td-maxwell_relations-first'></a>\n",
    "Допустим, что вторая частная производная внутренней энергии $U$ по энтропии $S$ и объему $V$ непрерывна и определена. [Тогда](https://en.wikipedia.org/wiki/Symmetry_of_second_derivatives#Theorem_of_Schwarz) можно записать следующее соотношение:"
   ]
  },
  {
   "cell_type": "markdown",
   "id": "beaaa444",
   "metadata": {},
   "source": [
    "$$ \\frac{\\partial^2 U}{\\partial S \\partial V} = \\frac{\\partial}{\\partial S} \\left( \\frac{\\partial U}{\\partial V} \\right) = \\frac{\\partial}{\\partial V} \\left( \\frac{\\partial U}{\\partial S} \\right).$$"
   ]
  },
  {
   "cell_type": "markdown",
   "id": "d46b3d5e",
   "metadata": {},
   "source": [
    "При выводе [thermodynamic identity](TD-6-Entropy.html#pvt-td-entropy-thermodynamic_identity) было показано, что:"
   ]
  },
  {
   "cell_type": "markdown",
   "id": "a86444f0",
   "metadata": {},
   "source": [
    "$$ \\begin{align} \\left( \\frac{\\partial U}{\\partial S} \\right)_{V, N} &= T; \\\\ \\left( \\frac{\\partial U}{\\partial V} \\right)_{S, N} &= -P. \\end{align} $$"
   ]
  },
  {
   "cell_type": "markdown",
   "id": "11612b46",
   "metadata": {},
   "source": [
    "С учетом этого можно заключить, что:"
   ]
  },
  {
   "cell_type": "markdown",
   "id": "544af7c9",
   "metadata": {},
   "source": [
    "$$ \\left( \\frac{\\partial T}{\\partial V} \\right)_{S, N} = - \\left( \\frac{\\partial P}{\\partial S} \\right)_{V, N}.$$"
   ]
  },
  {
   "cell_type": "markdown",
   "id": "fd3e31ac",
   "metadata": {},
   "source": [
    "С учетом [производной обратной функции](https://en.wikipedia.org/wiki/Inverse_functions_and_differentiation) данное выражение преобразуется к следующему:"
   ]
  },
  {
   "cell_type": "markdown",
   "id": "c8e84cf4",
   "metadata": {},
   "source": [
    "$$ \\left( \\frac{\\partial V}{\\partial T} \\right)_{S, N} = - \\left( \\frac{\\partial S}{\\partial P} \\right)_{V, N}. $$"
   ]
  },
  {
   "cell_type": "markdown",
   "id": "a40f67f0",
   "metadata": {},
   "source": [
    "Данное выражение называется ***первым соотношением Максвелла***."
   ]
  },
  {
   "cell_type": "markdown",
   "id": "3450c960",
   "metadata": {},
   "source": [
    "<a id='pvt-td-maxwell_relations-second'></a>\n",
    "Получим второе соотношение Максвелла. Для этого применим правило симметрии для второй частной производной энергии Гельмгольца $F$ по температуре $T$ и объему $V$:"
   ]
  },
  {
   "cell_type": "markdown",
   "id": "19d3fe97",
   "metadata": {},
   "source": [
    "$$ \\frac{\\partial^2 F}{\\partial T \\partial V} = \\frac{\\partial}{\\partial T} \\left( \\frac{\\partial F}{\\partial V} \\right) = \\frac{\\partial}{\\partial V} \\left( \\frac{\\partial F}{\\partial T} \\right).$$"
   ]
  },
  {
   "cell_type": "markdown",
   "id": "bc5b7e93",
   "metadata": {},
   "source": [
    "При выводе [дифференциала энергии Гельмгольца](TD-8-Helmholtz-Gibbs.html#pvt-td-helmholtz_gibbs-helmholtz_partials) было показано, что"
   ]
  },
  {
   "cell_type": "markdown",
   "id": "a8709efa",
   "metadata": {},
   "source": [
    "$$ \\left( \\frac{\\partial F}{\\partial T} \\right)_{V, N} = -S; \\\\ \\left( \\frac{\\partial F}{\\partial V} \\right)_{T, N} = -P.$$"
   ]
  },
  {
   "cell_type": "markdown",
   "id": "7cbc4f56",
   "metadata": {},
   "source": [
    "Отсюда следует, что"
   ]
  },
  {
   "cell_type": "markdown",
   "id": "d9346fe7",
   "metadata": {},
   "source": [
    "$$ \\left( \\frac{\\partial S}{\\partial V} \\right)_{T, N} = \\left( \\frac{\\partial P}{\\partial T} \\right)_{V, N}.$$"
   ]
  },
  {
   "cell_type": "markdown",
   "id": "dfbdd0d4",
   "metadata": {},
   "source": [
    "Данное выражение является ***вторым соотношением Максвелла***."
   ]
  },
  {
   "cell_type": "markdown",
   "id": "012fa325",
   "metadata": {},
   "source": [
    "<a id='pvt-td-maxwell_relations-third'></a>\n",
    "Для получения третьего соотношения Максвелла запишем дифференциал [энтальпии](TD-5-Enthalpy.html#pvt-td-enthalpy):"
   ]
  },
  {
   "cell_type": "markdown",
   "id": "cfe1e334",
   "metadata": {},
   "source": [
    "$$dH = dU + P dV + V dP.$$"
   ]
  },
  {
   "cell_type": "markdown",
   "id": "87a285a5",
   "metadata": {},
   "source": [
    "С учетом выражения [thermodynamic identity](TD-6-Entropy.html#pvt-td-entropy-thermodynamic_identity) его можно преобразовать к следующему виду:"
   ]
  },
  {
   "cell_type": "markdown",
   "id": "d7619b91",
   "metadata": {},
   "source": [
    "$$dH = T dS + V dP.$$"
   ]
  },
  {
   "cell_type": "markdown",
   "id": "ebd41147",
   "metadata": {},
   "source": [
    "Следовательно,"
   ]
  },
  {
   "cell_type": "markdown",
   "id": "3222adfc",
   "metadata": {},
   "source": [
    "$$ \\left( \\frac{\\partial H}{\\partial S} \\right)_{P, N} = T; \\\\ \\left( \\frac{\\partial H}{\\partial P} \\right)_{S, N} = V.$$"
   ]
  },
  {
   "cell_type": "markdown",
   "id": "aab6c3fe",
   "metadata": {},
   "source": [
    "Применим правило симметрии для второй частной производной энтальпии по энтропии и давлению:"
   ]
  },
  {
   "cell_type": "markdown",
   "id": "15e9224c",
   "metadata": {},
   "source": [
    "$$ \\frac{\\partial^2 H}{\\partial S \\partial P} = \\frac{\\partial}{\\partial S} \\left( \\frac{\\partial H}{\\partial P} \\right) = \\frac{\\partial}{\\partial P} \\left( \\frac{\\partial H}{\\partial S} \\right).$$"
   ]
  },
  {
   "cell_type": "markdown",
   "id": "ea55cff9",
   "metadata": {},
   "source": [
    "Следовательно,"
   ]
  },
  {
   "cell_type": "markdown",
   "id": "ae9e5fea",
   "metadata": {},
   "source": [
    "$$ \\left( \\frac{\\partial T}{\\partial P} \\right)_{S, N} = \\left( \\frac{\\partial V}{\\partial S} \\right)_{P, N}.$$"
   ]
  },
  {
   "cell_type": "markdown",
   "id": "e41a15e6",
   "metadata": {},
   "source": [
    "Или с учетом производной обратной функции:"
   ]
  },
  {
   "cell_type": "markdown",
   "id": "7cef5bc6",
   "metadata": {},
   "source": [
    "$$ \\left( \\frac{\\partial P}{\\partial T} \\right)_{S, N} = \\left( \\frac{\\partial S}{\\partial V} \\right)_{P, N}.$$"
   ]
  },
  {
   "cell_type": "markdown",
   "id": "c9c7c015",
   "metadata": {},
   "source": [
    "Данное выражение является ***третьим соотношением Максвелла***."
   ]
  },
  {
   "cell_type": "markdown",
   "id": "cde68fc2",
   "metadata": {},
   "source": [
    "<a id='pvt-td-maxwell_relations-fourth'></a>\n",
    "Наконец, для получения четвертого соотношения Максвелла запишем правило симметрии для второй частной производной энергии Гиббса $G$ по температуре $T$ и объему $V$:"
   ]
  },
  {
   "cell_type": "markdown",
   "id": "6e94ad83",
   "metadata": {},
   "source": [
    "$$ \\frac{\\partial^2 G}{\\partial T \\partial V} = \\frac{\\partial}{\\partial T} \\left( \\frac{\\partial G}{\\partial V} \\right) = \\frac{\\partial}{\\partial V} \\left( \\frac{\\partial G}{\\partial T} \\right).$$"
   ]
  },
  {
   "cell_type": "markdown",
   "id": "47e9a1b0",
   "metadata": {},
   "source": [
    "При выводе [дифференциала энергии Гиббса](TD-8-Helmholtz-Gibbs.html#pvt-td-helmholtz_gibbs-gibbs_partials) было показано, что"
   ]
  },
  {
   "cell_type": "markdown",
   "id": "7018caf4",
   "metadata": {},
   "source": [
    "$$ \\begin{align*} \\left( \\frac{\\partial G}{\\partial T} \\right)_{P, N} &= -S; \\\\ \\left( \\frac{\\partial G}{\\partial P} \\right)_{T, N} &= V. \\end{align*} $$"
   ]
  },
  {
   "cell_type": "markdown",
   "id": "a32b6ac8",
   "metadata": {},
   "source": [
    "С учетом этого получим:"
   ]
  },
  {
   "cell_type": "markdown",
   "id": "634581c3",
   "metadata": {},
   "source": [
    "$$ \\left( \\frac{\\partial S}{\\partial P} \\right)_{T, N} = - \\left( \\frac{\\partial V}{\\partial T} \\right)_{P, N}.$$"
   ]
  },
  {
   "cell_type": "markdown",
   "id": "47c8bf95",
   "metadata": {},
   "source": [
    "Данное выражение является ***четвертым соотношением Максвелла***."
   ]
  }
 ],
 "metadata": {
  "jupytext": {
   "text_representation": {
    "extension": ".md",
    "format_name": "myst",
    "format_version": 0.13,
    "jupytext_version": "1.10.3"
   }
  },
  "kernelspec": {
   "display_name": "Python 3 (ipykernel)",
   "language": "python",
   "name": "python3"
  },
  "language_info": {
   "codemirror_mode": {
    "name": "ipython",
    "version": 3
   },
   "file_extension": ".py",
   "mimetype": "text/x-python",
   "name": "python",
   "nbconvert_exporter": "python",
   "pygments_lexer": "ipython3",
   "version": "3.7.13"
  },
  "source_map": [
   12,
   18,
   22,
   26,
   30,
   34,
   38,
   42,
   46,
   50,
   55,
   59,
   63,
   67,
   71,
   75,
   79,
   83,
   87,
   92,
   96,
   100,
   104,
   108,
   112,
   116,
   121,
   125,
   129,
   133,
   137,
   141,
   145,
   149,
   153,
   157,
   161,
   165,
   169,
   174,
   178,
   182,
   186,
   190,
   194
  ]
 },
 "nbformat": 4,
 "nbformat_minor": 5
}