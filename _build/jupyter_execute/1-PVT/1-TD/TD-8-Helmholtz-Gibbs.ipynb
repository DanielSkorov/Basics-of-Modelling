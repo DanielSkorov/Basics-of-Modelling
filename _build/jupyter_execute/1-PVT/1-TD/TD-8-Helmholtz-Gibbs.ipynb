{
 "cells": [
  {
   "cell_type": "markdown",
   "id": "f3def212",
   "metadata": {},
   "source": [
    "<a id='pvt-td-helmholtz_gibbs'></a>\n",
    "# Энергия Гельмгольца. Энергия Гиббса\n",
    "К текущему моменту были рассмотрены два параметра (внутренняя энергия и энтальпия), которые характеризуют рассматриваемую систему с энергитической точки зрения. В данном разделе будут рассмотрены еще два параметра: *свободная энергия Гельмгольца* и *свободная энергия Гиббса*. По аналогии с [энтальпией](./TD-5-Enthalpy.html#pvt-td-enthalpy), характеризующей количество переданного тепла системе в изобарном процессе, данные параметры будут описывать некоторые аспекты передачи энергии системе через работу. При этом, если в процессе релаксации системы энтропия стремится к максимуму, то данные параметры будут стремиться к минимуму."
   ]
  },
  {
   "cell_type": "markdown",
   "id": "1f4537ff",
   "metadata": {},
   "source": [
    "<a id='pvt-td-helmholtz_gibbs-helmholtz'></a>\n",
    "## Энергия Гельмгольца"
   ]
  },
  {
   "cell_type": "markdown",
   "id": "ceb72a38",
   "metadata": {},
   "source": [
    "```{prf:определение}\n",
    ":nonumber:\n",
    "Параметр ***энергии Гельмгольца*** определяется следующим выражением:\n",
    "+++\n",
    "$$F = U - T S.$$\n",
    "+++\n",
    "```"
   ]
  },
  {
   "cell_type": "markdown",
   "id": "63537657",
   "metadata": {},
   "source": [
    "Смысл данного параметра можно передать по аналогии с энтальпией. Представим, что необходимо создать некоторую систему в некотором макросостоянии с энтропией $S$ и внутренней энергией $U$ в среде, находящейся в равновесии при температуре $T$. Какое количество энергии необходимо для этого? Для этого необходимо количество энергии, равное внутренней энергии создаваемой системы $U$ за вычетом энергии, переданной в виде тепла от окружающей среды $T S$. Оставшееся количество энергии должно быть передано в виде работы – это и есть *энергия Гельмгольца*. То есть энергия Гельмгольца представляет собой количество энергии, которое система может направить на совершение работы при температуре $T$, внутренней энергии $U$ и энтропии $S$. С практической точки зрения определение энергии Гельмгольца можно дать следующим образом. Рассматривая квази-стационарный изотермический процесс, изменение энергии Гельмгольца будет равно работе:"
   ]
  },
  {
   "cell_type": "markdown",
   "id": "558b815d",
   "metadata": {},
   "source": [
    "$$ \\Delta F = \\Delta U - T \\Delta S = \\Delta U - Q = W.$$"
   ]
  },
  {
   "cell_type": "markdown",
   "id": "80e2d539",
   "metadata": {},
   "source": [
    "Стоит отметить, что изменение энергии Гельмгольца равно *всей* работе системы, а не только механической (работе расширения и сжатия). Если рассматриваемый процесс не является квази-стационарным, тогда $T \\Delta S \\geq Q$, то есть:"
   ]
  },
  {
   "cell_type": "markdown",
   "id": "4bff3c32",
   "metadata": {},
   "source": [
    "$$\\Delta F \\leq W.$$"
   ]
  },
  {
   "cell_type": "markdown",
   "id": "2336238c",
   "metadata": {},
   "source": [
    "<a id='pvt-td-helmholtz_gibbs-helmholtz_partials'></a>\n",
    "Существует ряд важных дифференциальных соотношений, связанных с энергией Гельмгольца. Дифференциал энергии Гельмгольца:"
   ]
  },
  {
   "cell_type": "markdown",
   "id": "3cb8c565",
   "metadata": {},
   "source": [
    "$$dF = dU - T dS - S dT.$$"
   ]
  },
  {
   "cell_type": "markdown",
   "id": "3dfbe0bc",
   "metadata": {},
   "source": [
    "С учетом этого выражение для [thermodynamic identity](TD-7-ChemicalPotential.html#pvt-td-chemical_potential-thermodynamic_identity) можно записать в следующем виде:"
   ]
  },
  {
   "cell_type": "markdown",
   "id": "6fd12c73",
   "metadata": {},
   "source": [
    "$$ dF = - P dV - S dT + \\mu dN. $$"
   ]
  },
  {
   "cell_type": "markdown",
   "id": "a6f34c12",
   "metadata": {},
   "source": [
    "Отсюда следует, что:"
   ]
  },
  {
   "cell_type": "markdown",
   "id": "e159d137",
   "metadata": {},
   "source": [
    "$$ \\begin{align} P &= - \\left( \\frac{\\partial F}{\\partial V} \\right)_{T, N}; \\\\ S &= - \\left( \\frac{\\partial F}{\\partial T} \\right)_{V, N}; \\\\ \\mu &= \\left( \\frac{\\partial F}{\\partial N} \\right)_{T, V}. \\end{align}$$"
   ]
  },
  {
   "cell_type": "markdown",
   "id": "af5a2a11",
   "metadata": {},
   "source": [
    "<a id='pvt-td-helmholtz_gibbs-gibbs'></a>\n",
    "## Энергия Гиббса"
   ]
  },
  {
   "cell_type": "markdown",
   "id": "efea67f5",
   "metadata": {},
   "source": [
    "```{prf:определение}\n",
    ":nonumber:\n",
    "Параметр ***энергии Гиббса*** определяется выражением:\n",
    "+++\n",
    "$$G = U + PV - TS = H - TS = F + PV.$$\n",
    "+++\n",
    "```"
   ]
  },
  {
   "cell_type": "markdown",
   "id": "dded6412",
   "metadata": {},
   "source": [
    "Представим, что необходимо создать некоторую систему в некотором макросостоянии объемом $V$, энтропией $S$, находящейся в равновесии с окружающей средой при давлении $P$ и температуре $S$. Энергия Гиббса характеризует то дополнительное количество энергии к энергии, полученной от окружающего пространства, которое необходимо для создания такой системы. Следовательно, энерги Гиббса характеризует то количество энергии, которое может быть затрачено на совершение немеханической работы (не работы расширения и сжатия). То есть если энергия Гельмгольца характеризовала количество энергии, которое система может затратить на совершение *всей* работы, то энергия Гиббса – на совершение *немеханической* работы. С практической точки зрения изменение энергии Гиббса в изобарном и изотермическом квази-стационарном процессе характеризует количество энергии, переданное через немеханическую работу:"
   ]
  },
  {
   "cell_type": "markdown",
   "id": "2f6394ce",
   "metadata": {},
   "source": [
    "$$\\begin{align}\n",
    "\\Delta G\n",
    "&= \\Delta U + P \\Delta V - T \\Delta S \\\\\n",
    "&= \\Delta U - \\left( - P \\Delta V + T \\Delta S \\right) \\\\\n",
    "&= \\Delta U - \\left( Q - P \\Delta V \\right) \\\\\n",
    "&= \\Delta U - \\left( \\Delta U - W' \\right) \\\\\n",
    "&= W'. \\end{align}$$"
   ]
  },
  {
   "cell_type": "markdown",
   "id": "51a481f4",
   "metadata": {},
   "source": [
    "Для не квази-стационарных процессов:"
   ]
  },
  {
   "cell_type": "markdown",
   "id": "665e7b2f",
   "metadata": {},
   "source": [
    "$$\\Delta G \\leq W'.$$"
   ]
  },
  {
   "cell_type": "markdown",
   "id": "ae21294b",
   "metadata": {},
   "source": [
    "<a id='pvt-td-helmholtz_gibbs-gibbs_partials'></a>\n",
    "Как и для энергии Гельмгольца, для энергии Гиббса также существует ряд важных дифференциальных соотношений. Дифференциал энергии Гиббса:"
   ]
  },
  {
   "cell_type": "markdown",
   "id": "8906cb46",
   "metadata": {},
   "source": [
    "$$ dG = dU - T dS - S dT + P dV + V dP. $$"
   ]
  },
  {
   "cell_type": "markdown",
   "id": "892afe2e",
   "metadata": {},
   "source": [
    "С учетом этого выражение для [thermodynamic identity](TD-7-ChemicalPotential.html#pvt-td-chemical_potential-thermodynamic_identity) можно записать следующим образом:"
   ]
  },
  {
   "cell_type": "markdown",
   "id": "a1994e07",
   "metadata": {},
   "source": [
    "$$dG = -S dT + V dP + \\mu dN.$$"
   ]
  },
  {
   "cell_type": "markdown",
   "id": "aa5e09b6",
   "metadata": {},
   "source": [
    "Следовательно,"
   ]
  },
  {
   "cell_type": "markdown",
   "id": "3483c725",
   "metadata": {},
   "source": [
    "$$ \\begin{align} V &= \\left( \\frac{\\partial G}{\\partial P} \\right)_{T, N}; \\\\ S &= -\\left( \\frac{\\partial G}{\\partial T} \\right)_{P, N}; \\\\ \\mu &= \\left( \\frac{\\partial G}{\\partial N} \\right)_{T, P}. \\end{align} $$"
   ]
  }
 ],
 "metadata": {
  "jupytext": {
   "text_representation": {
    "extension": ".md",
    "format_name": "myst",
    "format_version": 0.13,
    "jupytext_version": "1.10.3"
   }
  },
  "kernelspec": {
   "display_name": "Python 3 (ipykernel)",
   "language": "python",
   "name": "python3"
  },
  "language_info": {
   "codemirror_mode": {
    "name": "ipython",
    "version": 3
   },
   "file_extension": ".py",
   "mimetype": "text/x-python",
   "name": "python",
   "nbconvert_exporter": "python",
   "pygments_lexer": "ipython3",
   "version": "3.7.13"
  },
  "source_map": [
   12,
   18,
   23,
   33,
   37,
   41,
   45,
   49,
   54,
   58,
   62,
   66,
   70,
   74,
   79,
   89,
   93,
   103,
   107,
   111,
   116,
   120,
   124,
   128,
   132
  ]
 },
 "nbformat": 4,
 "nbformat_minor": 5
}