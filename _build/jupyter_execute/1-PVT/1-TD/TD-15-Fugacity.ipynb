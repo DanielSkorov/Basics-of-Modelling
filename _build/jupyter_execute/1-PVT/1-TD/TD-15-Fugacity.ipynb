{
 "cells": [
  {
   "cell_type": "markdown",
   "id": "b31807f2",
   "metadata": {},
   "source": [
    "<a id='pvt-td-fugacity'></a>\n",
    "# Летучесть"
   ]
  },
  {
   "cell_type": "markdown",
   "id": "bc3283c0",
   "metadata": {},
   "source": [
    "## Определение летучести\n",
    "Выражение [thermodynamic identity](./TD-8-Helmholtz-Gibbs.html#pvt-td-helmholtz_gibbs-gibbs_partials), записанное через энергию Гиббса, при постоянном количестве частиц в системе записывается следующим образом:"
   ]
  },
  {
   "cell_type": "markdown",
   "id": "fbe4b162",
   "metadata": {},
   "source": [
    "$$dG = -S dT + V dP.$$"
   ]
  },
  {
   "cell_type": "markdown",
   "id": "766f3e1d",
   "metadata": {},
   "source": [
    "Если рассматривать изотермический процесс, то данное выражение преобразуется следующим образом:"
   ]
  },
  {
   "cell_type": "markdown",
   "id": "dd789dc1",
   "metadata": {},
   "source": [
    "$$dG = V dP.$$"
   ]
  },
  {
   "cell_type": "markdown",
   "id": "90c0b6fb",
   "metadata": {},
   "source": [
    "```{admonition} NB\n",
    "Важно отметить, что, принимая температуру постоянной, мы предполагаем, что в системе температура всех фаз одинакова.\n",
    "```"
   ]
  },
  {
   "cell_type": "markdown",
   "id": "0bce34cc",
   "metadata": {},
   "source": [
    "Для идеального газа с учетом [уравнения состояния](./TD-1-Basics.html#pvt-td-basics-ideal_gas_eos):"
   ]
  },
  {
   "cell_type": "markdown",
   "id": "c3b4e048",
   "metadata": {},
   "source": [
    "$$dG = \\frac{N k T}{P} dP = N k T d \\ln P = \\frac{N}{N_A} \\left(k N_A \\right) T d \\ln P = n R T d \\ln P.$$"
   ]
  },
  {
   "cell_type": "markdown",
   "id": "003e07fe",
   "metadata": {},
   "source": [
    "Здесь $N_A = 6.022 \\cdot 10^{23} \\; \\frac{1}{моль}$ – число Авогадро, $R = k \\cdot N_A = 8.314 \\; \\frac{Дж}{моль K}$ – универсальная газовая постоянная, $n$ – количество вещества (моль). Стоит отметить, что полученные равнее уравнения относительно количества частиц $N$ справедливы и для количества вещества $n$."
   ]
  },
  {
   "cell_type": "markdown",
   "id": "af177938",
   "metadata": {},
   "source": [
    "Полученное выражение дифференциала энергии Гиббса справедливо для идеального газа с постоянным количеством молекул в изотермическом квази-стационарном процессе. Для реального газа вместо давления используют такой параметр, как ***летучесть***:"
   ]
  },
  {
   "cell_type": "markdown",
   "id": "8aaec618",
   "metadata": {},
   "source": [
    "$$dG = n R T d \\ln f.$$"
   ]
  },
  {
   "cell_type": "markdown",
   "id": "03254660",
   "metadata": {},
   "source": [
    "```{prf:определение}\n",
    ":nonumber:\n",
    "***Летучесть*** определяется следующим выражением:\n",
    "+++\n",
    "$$\\lim_{P \\rightarrow 0} \\left( \\frac{f}{P} \\right) = 1. $$\n",
    "+++\n",
    "```"
   ]
  },
  {
   "cell_type": "markdown",
   "id": "f843a3b5",
   "metadata": {},
   "source": [
    "При этом,"
   ]
  },
  {
   "cell_type": "markdown",
   "id": "c6d3f315",
   "metadata": {},
   "source": [
    "```{prf:определение}\n",
    ":nonumber:\n",
    "Отношение летучести к давлению называют ***коэффициентом летучести***:\n",
    "+++\n",
    "$$\\phi = \\frac{f}{P}.$$\n",
    "+++\n",
    "```"
   ]
  },
  {
   "cell_type": "markdown",
   "id": "2fce85d1",
   "metadata": {},
   "source": [
    "Для компонента $i$, находящегося в термодинамическом равновесии (или в квази-стационарном изотермическом процессе), летучесть определяется следующим выражением (единицы измерения химического потенциала – $\\frac{Дж}{моль}$):"
   ]
  },
  {
   "cell_type": "markdown",
   "id": "61f3449f",
   "metadata": {},
   "source": [
    "$$d \\mu_i = R T d \\ln f_i.$$"
   ]
  },
  {
   "cell_type": "markdown",
   "id": "6de2a6fb",
   "metadata": {},
   "source": [
    "Данное выражение справедливо для процесса с постоянным количеством молекул компонента $i$ в системе. При этом, определение летучести дается на основании следующего выражения:"
   ]
  },
  {
   "cell_type": "markdown",
   "id": "87bc144b",
   "metadata": {},
   "source": [
    "$$\\lim_{P \\rightarrow 0} \\left( \\frac{f_i}{x_i P} \\right) = 1. $$"
   ]
  },
  {
   "cell_type": "markdown",
   "id": "77d7f2cf",
   "metadata": {},
   "source": [
    "Здесь $x_i$ – мольная доля компонента в фазе."
   ]
  },
  {
   "cell_type": "markdown",
   "id": "7d4a4850",
   "metadata": {},
   "source": [
    "<a id='pvt-td-fugacity-component_fugacity'></a>\n",
    "Преобразуем уравнение, определяющее летучесть $i$-го компонента, к следующему виду:"
   ]
  },
  {
   "cell_type": "markdown",
   "id": "15fb231a",
   "metadata": {},
   "source": [
    "$$ \\begin{align} d \\mu_i - R T d \\ln \\left( x_i P \\right) &= R T d \\ln f_i - R T d \\ln \\left( x_i P \\right); \\\\ d \\mu_i - R T d \\ln \\left( x_i P \\right) &= R T d \\ln \\phi_i; \\\\ d \\mu_i - R T \\left( d \\ln x_i + d \\ln P \\right) &= R T d \\ln \\phi_i. \\end{align}$$"
   ]
  },
  {
   "cell_type": "markdown",
   "id": "a0df5ae4",
   "metadata": {},
   "source": [
    "Поскольку количество молекул $i$-го компонента в системе зафиксировано, то:"
   ]
  },
  {
   "cell_type": "markdown",
   "id": "893b04f3",
   "metadata": {},
   "source": [
    "$$d \\mu_i - R T d \\ln P = R T d \\ln \\phi_i.$$"
   ]
  },
  {
   "cell_type": "markdown",
   "id": "9653e4df",
   "metadata": {},
   "source": [
    "Пусть"
   ]
  },
  {
   "cell_type": "markdown",
   "id": "2f32128e",
   "metadata": {},
   "source": [
    "```{prf:определение}\n",
    ":nonumber:\n",
    "***Коэффициент сверхсжимаемости*** – параметр, который определяется следующим выражением:\n",
    "+++\n",
    "$$Z = \\frac{P V}{n R T}.$$\n",
    "+++\n",
    "```"
   ]
  },
  {
   "cell_type": "markdown",
   "id": "4eb75dc5",
   "metadata": {},
   "source": [
    "Получим дифференциал коэффициента сверхсжимаемости, рассматривая изотермический процесс с постоянным количеством молекул в системе:"
   ]
  },
  {
   "cell_type": "markdown",
   "id": "ec875b51",
   "metadata": {},
   "source": [
    "$$ dZ = \\frac{d \\left( P V \\right)}{n R T} = \\frac{V dP + P dV}{n R T}.$$"
   ]
  },
  {
   "cell_type": "markdown",
   "id": "74cc8d72",
   "metadata": {},
   "source": [
    "Разделим левую и правую части уравнения на $Z$:"
   ]
  },
  {
   "cell_type": "markdown",
   "id": "ac9eca6c",
   "metadata": {},
   "source": [
    "$$\\frac{dZ}{Z} = \\frac{dP}{P} + \\frac{dV}{V}.$$"
   ]
  },
  {
   "cell_type": "markdown",
   "id": "26ad127b",
   "metadata": {},
   "source": [
    "С учетом этого, [выражение](#pvt-td-fugacity-component_fugacity) для определения летучести компонента будет иметь следующий вид:"
   ]
  },
  {
   "cell_type": "markdown",
   "id": "0089ca02",
   "metadata": {},
   "source": [
    "$$R T d \\ln \\phi_i = d \\mu_i - R T \\left( \\frac{dZ}{Z} - \\frac{dV}{V} \\right).$$"
   ]
  },
  {
   "cell_type": "markdown",
   "id": "9de3be6a",
   "metadata": {},
   "source": [
    "<a id='pvt-td-fugacity-chemical_potential_relation'></a>\n",
    "Для многокомпонентной системы [thermodynamic identity](TD-8-Helmholtz-Gibbs.html#pvt-td-helmholtz_gibbs-helmholtz_partials), выраженное через энергию Гельмгольца, будет иметь следующий вид:"
   ]
  },
  {
   "cell_type": "markdown",
   "id": "47a4e099",
   "metadata": {},
   "source": [
    "$$dF = -P dV - S dT + \\sum_i \\mu_i dn_i.$$"
   ]
  },
  {
   "cell_type": "markdown",
   "id": "41d759fd",
   "metadata": {},
   "source": [
    "Отсюда следует, что:"
   ]
  },
  {
   "cell_type": "markdown",
   "id": "d05429b6",
   "metadata": {},
   "source": [
    "$$ \\begin{align} \\mu_i &= \\left( \\frac{\\partial F}{\\partial n_i} \\right)_{V, T, n_{j \\neq i}}; \\\\ -P &= \\left( \\frac{\\partial F}{\\partial V} \\right)_{T, n_i}. \\end{align}$$"
   ]
  },
  {
   "cell_type": "markdown",
   "id": "74e26509",
   "metadata": {},
   "source": [
    "Запишем вторую частную производную энергии Гельмгольца $F$ по объему $V$ и количеству вещества $i$-го компонента $n_i$:"
   ]
  },
  {
   "cell_type": "markdown",
   "id": "65aa4d59",
   "metadata": {},
   "source": [
    "$$\\frac{\\partial^2 F}{\\partial n_i \\partial V} = \\frac{\\partial}{\\partial n_i} \\left( \\frac{\\partial F}{\\partial V} \\right) = \\frac{\\partial}{\\partial V} \\left( \\frac{\\partial F}{\\partial n_i} \\right). $$"
   ]
  },
  {
   "cell_type": "markdown",
   "id": "a737279c",
   "metadata": {},
   "source": [
    "С учетом полученных частных производных энергиии Гельмгольца по количеству вещества $i$-го компонента и объему:"
   ]
  },
  {
   "cell_type": "markdown",
   "id": "a134fd85",
   "metadata": {},
   "source": [
    "$$ - \\left( \\frac{\\partial P}{\\partial n_i} \\right)_{V, T, n_{j \\neq i}} = \\left( \\frac{\\partial \\mu_i}{\\partial V} \\right)_{T, n_i}. $$"
   ]
  },
  {
   "cell_type": "markdown",
   "id": "8dc97bf2",
   "metadata": {},
   "source": [
    "Следовательно, расссматривая изотермический процесс с постоянным количеством молекул $i$-го компонента в системе можно записать:"
   ]
  },
  {
   "cell_type": "markdown",
   "id": "7ef53624",
   "metadata": {},
   "source": [
    "$$ d\\mu_i = - \\left( \\frac{\\partial P}{\\partial n_i} \\right)_{V, T, n_{j \\neq i}} dV.$$"
   ]
  },
  {
   "cell_type": "markdown",
   "id": "5734cdef",
   "metadata": {},
   "source": [
    "С учетом дифференциала химического потенциала $i$ компонента в изотермическом процессе с постоянным количеством вещества $i$-го компонента в системе получим дифференциал логарифма коэффициента летучести $i$-го компонента:"
   ]
  },
  {
   "cell_type": "markdown",
   "id": "abeb42a6",
   "metadata": {},
   "source": [
    "$$ d \\ln \\phi_i = \\left( \\frac{1}{V} - \\frac{1}{R T} \\left( \\frac{\\partial P}{\\partial n_i} \\right)_{V, T, n_{j \\neq i}} \\right) dV - d \\ln Z. $$"
   ]
  },
  {
   "cell_type": "markdown",
   "id": "cc02812d",
   "metadata": {},
   "source": [
    "Следовательно, интегрируя данное выражение, получим:"
   ]
  },
  {
   "cell_type": "markdown",
   "id": "8fd5b6eb",
   "metadata": {},
   "source": [
    "$$ \\int_0^{\\ln \\phi_i} d \\ln \\phi_i = \\int_\\infty^V \\left( \\frac{1}{V} - \\frac{1}{R T} \\left( \\frac{\\partial P}{\\partial n_i} \\right)_{V, T, n_{j \\neq i}} \\right) dV - \\int_0^{\\ln Z} d \\ln Z.$$"
   ]
  },
  {
   "cell_type": "markdown",
   "id": "61b472d3",
   "metadata": {},
   "source": [
    "Или при замене пределов интегрирования:"
   ]
  },
  {
   "cell_type": "markdown",
   "id": "4c6d4b25",
   "metadata": {},
   "source": [
    "$$ \\ln \\phi_i = \\int_\\infty^V \\left( \\frac{1}{V} - \\frac{1}{R T} \\left( \\frac{\\partial P}{\\partial n_i} \\right)_{V, T, n_{j \\neq i}} \\right) dV - \\ln Z = \\int_V^\\infty \\left( \\frac{1}{R T} \\left( \\frac{\\partial P}{\\partial n_i} \\right)_{V, T, n_{j \\neq i}} - \\frac{1}{V} \\right) dV - \\ln Z .$$"
   ]
  },
  {
   "cell_type": "markdown",
   "id": "15f7d7fa",
   "metadata": {},
   "source": [
    "<a id='pvt-td-fugacity-equilibrium'></a>\n",
    "```{admonition} NB\n",
    "Таким образом, если рассматривать квази-стационарный изотермический процесс с постоянным количеством вещества в системе, состоящей из нескольких фаз, то равновесное состояние каждого компонента вместо равенства химических потенциалов компонентов будет определяться равенством летучестей компонентов в каждой из фаз соответственно:\n",
    "+++\n",
    "$${f_1}_i = {f_2}_i, \\; i=1...N_c.$$\n",
    "+++\n",
    "```"
   ]
  },
  {
   "cell_type": "markdown",
   "id": "af8eff50",
   "metadata": {},
   "source": [
    "При этом, поскольку рассматривается равновесное состояние, то количество вещества каждого компонента постоянно, следовательно, летучесть компонента может быть рассчитана по коэффициенту летучести, определяемому следующим выражением:"
   ]
  },
  {
   "cell_type": "markdown",
   "id": "9a189c79",
   "metadata": {},
   "source": [
    "$$ \\ln \\phi_i = \\int_V^\\infty \\left( \\frac{1}{R T} \\left( \\frac{\\partial P}{\\partial n_i} \\right)_{V, T, n_{j \\neq i}} - \\frac{1}{V} \\right) dV - \\ln Z.$$"
   ]
  },
  {
   "cell_type": "markdown",
   "id": "ba988c10",
   "metadata": {},
   "source": [
    "Кроме того, полученное выражение также справедливо для систем, состояющих из одного компонента. В таком случае выражение для логарифма коэффициента летучести записывается следующим образом:"
   ]
  },
  {
   "cell_type": "markdown",
   "id": "aee75797",
   "metadata": {},
   "source": [
    "$$ \\ln \\phi = \\int_V^\\infty \\left( \\frac{1}{R T} \\left( \\frac{\\partial P}{\\partial n} \\right)_{V, T} - \\frac{1}{V} \\right) dV - \\ln Z.$$"
   ]
  },
  {
   "cell_type": "markdown",
   "id": "eb62e6d0",
   "metadata": {},
   "source": [
    "<a id='pvt-td-fugacity-ideal_gas'></a>\n",
    "## Летучесть идеального газа\n",
    "Рассмотрим применение полученного выражения для идеального газа, описываемого уравнением состояния:"
   ]
  },
  {
   "cell_type": "markdown",
   "id": "bb7fdff3",
   "metadata": {},
   "source": [
    "$$PV = n R T.$$"
   ]
  },
  {
   "cell_type": "markdown",
   "id": "5d29a9a3",
   "metadata": {},
   "source": [
    "Для идеального газа частная производная давления по количеству вещества компонента:"
   ]
  },
  {
   "cell_type": "markdown",
   "id": "30107b42",
   "metadata": {},
   "source": [
    "$$ \\left( \\frac{\\partial P}{\\partial n} \\right)_{V, T} = \\frac{RT}{V}.$$"
   ]
  },
  {
   "cell_type": "markdown",
   "id": "4c7c2e6e",
   "metadata": {},
   "source": [
    "Тогда логарифм коэффициента летучести:"
   ]
  },
  {
   "cell_type": "markdown",
   "id": "e65e9621",
   "metadata": {},
   "source": [
    "$$\\ln \\phi = \\int_V^\\infty \\left( \\frac{1}{R T} \\frac{RT}{V} - \\frac{1}{V} \\right) dV - \\ln Z = - \\ln Z.$$"
   ]
  },
  {
   "cell_type": "markdown",
   "id": "7c3f711a",
   "metadata": {},
   "source": [
    "Поскольку для идеального газа коэффициент сверхсжимаемости $Z = 1,$ тогда"
   ]
  },
  {
   "cell_type": "markdown",
   "id": "7d815933",
   "metadata": {},
   "source": [
    "$$ \\ln \\phi = 0.$$"
   ]
  },
  {
   "cell_type": "markdown",
   "id": "bca958c6",
   "metadata": {},
   "source": [
    "То есть коэффициент летучести:"
   ]
  },
  {
   "cell_type": "markdown",
   "id": "c7555f60",
   "metadata": {},
   "source": [
    "$$\\phi = 1.$$"
   ]
  },
  {
   "cell_type": "markdown",
   "id": "b676d836",
   "metadata": {},
   "source": [
    "Следовательно, летучесть:"
   ]
  },
  {
   "cell_type": "markdown",
   "id": "69e6db4e",
   "metadata": {},
   "source": [
    "$$f = P.$$"
   ]
  },
  {
   "cell_type": "markdown",
   "id": "2a3e2852",
   "metadata": {},
   "source": [
    "<a id='pvt-td-fugacity-ideal_gas_mixture'></a>\n",
    "## Летучесть смеси идеальных газов\n",
    "Для смеси идеальных газов также выполняется уравнение состояния:"
   ]
  },
  {
   "cell_type": "markdown",
   "id": "fbaef8f9",
   "metadata": {},
   "source": [
    "$$ PV = n R T,$$"
   ]
  },
  {
   "cell_type": "markdown",
   "id": "8780ae61",
   "metadata": {},
   "source": [
    "где $n = \\sum_{i=1}^{N_c} n_i.$ В данном выражении $N_c$ – количество компонентов в системе. Следовательно, частная производная давления по количеству вещества компонента $i$:"
   ]
  },
  {
   "cell_type": "markdown",
   "id": "c31b094b",
   "metadata": {},
   "source": [
    "$$ \\left( \\frac{\\partial P}{\\partial n_i} \\right)_{V, T, n_{j \\neq i}} = \\frac{RT}{V} \\sum_{i=1}^{N_c} \\left( \\frac{\\partial n_i}{\\partial n_i} \\right)_{V, T, n_{j \\neq i}} = \\frac{RT}{V} .$$"
   ]
  },
  {
   "cell_type": "markdown",
   "id": "55678f37",
   "metadata": {},
   "source": [
    "Тогда логарифм коэффициента летучести $i$-го компонента:"
   ]
  },
  {
   "cell_type": "markdown",
   "id": "aa7c7f91",
   "metadata": {},
   "source": [
    "$$\\ln \\phi_i = 0.$$"
   ]
  },
  {
   "cell_type": "markdown",
   "id": "3303e9dc",
   "metadata": {},
   "source": [
    "Тогда летучесть $i$-го компонента:"
   ]
  },
  {
   "cell_type": "markdown",
   "id": "7bd1c590",
   "metadata": {},
   "source": [
    "$$f_i = x_i P.$$"
   ]
  },
  {
   "cell_type": "markdown",
   "id": "b19d540e",
   "metadata": {},
   "source": [
    "```{admonition} NB\n",
    "Полученное выражение является частным случаем соотношения, выполняемого для ***идеальных смесей***:\n",
    "+++\n",
    "$$f_i \\left( P, T, x_i \\right) = x_i f \\left( P, T \\right).$$\n",
    "+++\n",
    "```"
   ]
  },
  {
   "cell_type": "markdown",
   "id": "f73b986b",
   "metadata": {},
   "source": [
    "Докажем данное утверждение. Для начала дадим определение идеальной смеси.\n",
    "\n",
    "```{prf:определение}\n",
    ":nonumber:\n",
    "Смесь является ***идеальной***, если для нее выполняется следующее соотношение:\n",
    "+++\n",
    "$$ V \\left(P, T, n_1, n_2, \\ldots, n_{N_c} \\right) = \\sum_{i=1}^{N_c} n_i v_i \\left( P, T \\right).$$\n",
    "+++\n",
    "Здесь $N_c$ - количество компонентов в системе, $v_i \\left( P, T \\right)$ - молярный (удельный) объем $i$-го компонента.\n",
    "```"
   ]
  },
  {
   "cell_type": "markdown",
   "id": "8ccb3b42",
   "metadata": {},
   "source": [
    "То есть объем для идеальных смесей является экстенсивным параметров.\n",
    "\n",
    "\n",
    "```{prf:proof}\n",
    "[Ранее](TD-10-MixtureGibbsEnergy.html#pvt-td-mixture_gibbs_energy-partial_molar_observables) для всех экстенсивных параметров было показано, что:\n",
    "\n",
    "+++\n",
    "\n",
    "$$ V \\left(P, T, n_1, n_2, \\ldots, n_{N_c} \\right) = \\sum_{i=1}^{N_c} n_i \\bar{V_i}.$$\n",
    "\n",
    "+++\n",
    "\n",
    "Следовательно,\n",
    "\n",
    "+++\n",
    "\n",
    "$$ \\bar{V_i} = v_i \\left( P, T \\right).$$\n",
    "\n",
    "+++\n",
    "\n",
    "Дифференциал логарфима коэффициента летучести $i$-го компонента можно выразить из полученного [ранее](#pvt-td-fugacity-component_fugacity) выражения:\n",
    "\n",
    "+++\n",
    "\n",
    "$$ RT d \\ln \\phi_i = d \\mu_i - \\frac{RT}{P} dP.$$\n",
    "\n",
    "+++\n",
    "\n",
    "С учетом соотношений частных производных химического потенциала и давления по объему и количеству вещества компонентов:\n",
    "\n",
    "+++\n",
    "\n",
    "$$ RT d \\ln \\phi_i = \\left( \\left( \\frac{\\partial V}{\\partial n_i} \\right)_{P, T, n_{j \\neq i}} - \\frac{RT}{P} \\right) dP = \\left( \\bar{V_i} - \\frac{RT}{P} \\right) dP = \\left( v_i \\left( P, T \\right) - \\frac{RT}{P} \\right) dP .$$\n",
    "\n",
    "+++\n",
    "\n",
    "Из данного выражения видно, что для идеальной смеси логарифм летучести не зависит от компонентного состава и определяется только термобарическими условиями и свойствами компонентов. Аналогичный результат получается, если рассматривать систему, состоящую из одного компонента. Следовательно, коэффициент летучести $i$-го компонента в идеальной смеси равен коэффициенту летучести этого же компонента при отсутствии других компонентов. Из определения коэффициента летучести и сформулированного вывода вытекает доказываемое равенство.\n",
    "```"
   ]
  },
  {
   "cell_type": "markdown",
   "id": "afd1b4c5",
   "metadata": {},
   "source": [
    "<a id='pvt-td-fugacity-ideal_gas_mixture-chemical_potential'></a>\n",
    "Получим еще одно важное свойство смесей идеальных газов."
   ]
  },
  {
   "cell_type": "markdown",
   "id": "5e09e326",
   "metadata": {},
   "source": [
    "```{admonition} NB\n",
    "Пусть имеется идеальный однокомпонентный газ при давлении $P$. Если данный газ изобарно смешать с другими идеальными газами, то давление рассматриваемого газа в смеси в соответствии с полученным ранее выражением будет равняться $x_i P$. Поскольку для данного компонента произошло изменение давления (температура рассматривается постоянной), то дифференциал химического потенциала:\n",
    "\n",
    "+++\n",
    "\n",
    "$$d \\mu^{ig}_i = \\left( \\frac{\\partial \\mu_i}{\\partial P} \\right)_{T, n_i} dP.$$\n",
    "\n",
    "+++\n",
    "\n",
    "Интегрируя данное выражение от однокомпонентного состояния к многокомпонентной смеси, получим:\n",
    "\n",
    "+++\n",
    "\n",
    "$$ \\mu^{ig}_i \\left( P, T, n_i \\right) - \\mu^{ig}_i \\left( P, T, \\right) = \\int_{P}^{x_i P} \\left( \\frac{\\partial \\mu_i}{\\partial P} \\right)_{T, n_i} dP.$$\n",
    "\n",
    "+++\n",
    "\n",
    "Рассмотрим вторую частную производную энергии Гиббса по количеству вещества $i$-го компонента и давлению:\n",
    "\n",
    "+++\n",
    "\n",
    "$$\\frac{\\partial^2 G}{\\partial n_i \\partial P} = \\frac{\\partial}{\\partial n_i} \\left( \\left( \\frac{\\partial G}{\\partial P} \\right)_{T,n_i} \\right)_{P,T} = \\frac{\\partial}{\\partial P} \\left( \\left( \\frac{\\partial G}{\\partial n_i} \\right)_{P,T} \\right)_{T,n_i}.$$\n",
    "\n",
    "+++\n",
    "\n",
    "С учетом [частных производных энергии Гиббса](TD-8-Helmholtz-Gibbs.html#pvt-td-helmholtz_gibbs-gibbs_partials) получим:\n",
    "\n",
    "+++\n",
    "\n",
    "$$\\left( \\frac{\\partial V}{\\partial n_i} \\right)_{P,T} = \\left( \\frac{\\partial \\mu_i}{\\partial P} \\right)_{T,n_i}.$$\n",
    "\n",
    "+++\n",
    "\n",
    "Тогда рассматриваемая разница химических потенциалов может быть преобразована следующим образом, применяя уравнение состояния идеального газа:\n",
    "\n",
    "+++\n",
    "\n",
    "$$ \\begin{align}\n",
    "\\mu^{ig}_i \\left( P, T, n_i \\right) - \\mu^{ig}_i \\left( P, T \\right)\n",
    "&= \\int_{P}^{x_i P} \\left( \\frac{\\partial \\mu_i}{\\partial P} \\right)_{T, n_i} dP \\\\\n",
    "&= \\int_{P}^{x_i P} \\left( \\frac{\\partial V}{\\partial n_i} \\right)_{P,T} dP \\\\\n",
    "&= \\int_{P}^{x_i P} \\frac{\\partial}{\\partial n_i} \\left( \\frac{nRT}{P} \\right)_{P,T} dP \\\\\n",
    "&= RT \\int_{P}^{x_i P} \\frac{dP}{P} \\\\\n",
    "&= RT \\ln x_i .\n",
    "\\end{align} $$\n",
    "\n",
    "+++\n",
    "\n",
    "Следовательно,\n",
    "\n",
    "+++\n",
    "\n",
    "$$\\mu^{ig}_i \\left( P, T, n_i \\right) = \\mu^{ig}_i \\left( P, T \\right) + RT \\ln x_i .$$\n",
    "\n",
    "+++\n",
    "\n",
    "Данное уравнение может быть использоваться для расчета химического потенциала компонента идеального газа в идеальной смеси, зная химический потенциал чистого компонента при тех же термобарических условиях и компонентный состав смеси.\n",
    "```"
   ]
  },
  {
   "cell_type": "markdown",
   "id": "019fac23",
   "metadata": {},
   "source": [
    "При давлении $P_1$ и компонентном составе ${x_i}_1$ химический потенциал $i$-го компонента в смеси:"
   ]
  },
  {
   "cell_type": "markdown",
   "id": "f9fbec3d",
   "metadata": {},
   "source": [
    "$$ \\mu_i \\left(P_1, T, {x_i}_1 \\right) = \\mu_i \\left( P_1, T \\right) + RT \\ln {x_i}_1.$$"
   ]
  },
  {
   "cell_type": "markdown",
   "id": "8ef52cb6",
   "metadata": {},
   "source": [
    "При давлении $P_2$ и компонентном составе ${x_i}_2$ химический потенциал $i$-го компонента в смеси:"
   ]
  },
  {
   "cell_type": "markdown",
   "id": "b3ef9527",
   "metadata": {},
   "source": [
    "$$ \\mu_i \\left(P_2, T, {x_i}_2 \\right) = \\mu_i \\left( P_2, T \\right) + RT \\ln {x_i}_2.$$"
   ]
  },
  {
   "cell_type": "markdown",
   "id": "67b30e6e",
   "metadata": {},
   "source": [
    "Тогда разница данных выражений:"
   ]
  },
  {
   "cell_type": "markdown",
   "id": "5ffe7420",
   "metadata": {},
   "source": [
    "$$\\mu_i \\left(P_2, T, {x_i}_2 \\right) - \\mu_i \\left(P_1, T, {x_i}_1 \\right) = \\mu_i \\left( P_2, T \\right) - \\mu_i \\left( P_1, T \\right) + R T \\ln \\frac{{x_i}_2}{{x_i}_1}.$$"
   ]
  },
  {
   "cell_type": "markdown",
   "id": "a627335e",
   "metadata": {},
   "source": [
    "При этом, разница химических потенциалов чистого компонента, являющегося идеальным газом,:"
   ]
  },
  {
   "cell_type": "markdown",
   "id": "e87fc0fa",
   "metadata": {},
   "source": [
    "$$\\mu_i \\left( P_2, T \\right) - \\mu_i \\left( P_1, T \\right) = RT \\ln \\frac{P_2}{P_1}.$$"
   ]
  },
  {
   "cell_type": "markdown",
   "id": "39e53fba",
   "metadata": {},
   "source": [
    "Тогда:"
   ]
  },
  {
   "cell_type": "markdown",
   "id": "2b404bf6",
   "metadata": {},
   "source": [
    "$$\\mu_i \\left(P_2, T, {x_i}_2 \\right) - \\mu_i \\left(P_1, T, {x_i}_1 \\right) = RT \\ln \\frac{P_2 {x_i}_2}{P_1 {x_i}_1}.$$"
   ]
  },
  {
   "cell_type": "markdown",
   "id": "c9a8c5e9",
   "metadata": {},
   "source": [
    "<a id='pvt-td-fugacity-real_gas_mixture'></a>\n",
    "## Летучесть смеси реальных газов\n",
    "По аналогии с идеальным газом, для реальных газов данное соотношение записывается следующим образом:"
   ]
  },
  {
   "cell_type": "markdown",
   "id": "1a13ca90",
   "metadata": {},
   "source": [
    "$$\\mu_i \\left(P_2, T, {x_i}_2 \\right) - \\mu_i \\left(P_1, T, {x_i}_1 \\right) = RT \\ln \\frac{ f_i \\left(P_2, T, {x_i}_2 \\right)}{f_i \\left( P_1, T, {x_i}_1 \\right)}.$$"
   ]
  },
  {
   "cell_type": "markdown",
   "id": "5ea7518a",
   "metadata": {},
   "source": [
    "Тогда разница химических потенциалов между реальным и идеальным газами:"
   ]
  },
  {
   "cell_type": "markdown",
   "id": "64d2af25",
   "metadata": {},
   "source": [
    "$$\\mu_i^{rg} \\left(P_2, T, {x_i}_2 \\right) - \\mu_i^{ig} \\left(P_2, T, {x_i}_2 \\right) = \\mu_i^{rg} \\left(P_1, T, {x_i}_1 \\right) - \\mu_i^{ig} \\left(P_1, T, {x_i}_1 \\right) + RT \\ln \\left( \\frac{ f_i \\left(P_2, T, {x_i}_2 \\right)}{f_i \\left( P_1, T, {x_i}_1 \\right)} \\frac{{x_i}_1 P_1}{{x_i}_2 P_2} \\right).$$"
   ]
  },
  {
   "cell_type": "markdown",
   "id": "bc5f9c95",
   "metadata": {},
   "source": [
    "```{admonition} NB\n",
    "При этом, если давление $P_1$ достаточно низкое настолько, что при нем рассматриваемая система ведет себя, как идеальный газ, то:\n",
    "+++\n",
    "$$\\mu_i^{rg} \\left(P_2, T, {x_i}_2 \\right) - \\mu_i^{ig} \\left(P_2, T, {x_i}_2 \\right) = RT \\ln \\frac{ f_i \\left(P_2, T, {x_i}_2 \\right)}{{x_i}_2 P_2} = RT \\ln \\phi_i \\left( P_2, T, {x_i}_2 \\right).$$\n",
    "+++\n",
    "```"
   ]
  },
  {
   "cell_type": "markdown",
   "id": "35900942",
   "metadata": {},
   "source": [
    "Данное соотношение между химическими потенциалами реального и идеального газов достаточно полезно, так как будет использоваться при определении других [термодинамических параметров](../3-Parameters/Parameters-0-Introduction.html#pvt-parameters) реальных систем с использованием [уравнений состояния](../2-EOS/EOS-0-Introduction.html#pvt-eos)."
   ]
  }
 ],
 "metadata": {
  "jupytext": {
   "text_representation": {
    "extension": ".md",
    "format_name": "myst",
    "format_version": 0.13,
    "jupytext_version": "1.10.3"
   }
  },
  "kernelspec": {
   "display_name": "Python 3 (ipykernel)",
   "language": "python",
   "name": "python3"
  },
  "language_info": {
   "codemirror_mode": {
    "name": "ipython",
    "version": 3
   },
   "file_extension": ".py",
   "mimetype": "text/x-python",
   "name": "python",
   "nbconvert_exporter": "python",
   "pygments_lexer": "ipython3",
   "version": "3.7.13"
  },
  "source_map": [
   12,
   17,
   22,
   26,
   30,
   34,
   40,
   44,
   48,
   52,
   56,
   60,
   70,
   74,
   84,
   88,
   92,
   96,
   100,
   104,
   109,
   113,
   117,
   121,
   125,
   135,
   139,
   143,
   147,
   151,
   155,
   159,
   164,
   168,
   172,
   176,
   180,
   184,
   188,
   192,
   196,
   200,
   204,
   208,
   212,
   216,
   220,
   224,
   234,
   238,
   242,
   246,
   250,
   256,
   260,
   264,
   268,
   272,
   276,
   280,
   284,
   288,
   292,
   296,
   300,
   306,
   310,
   314,
   318,
   322,
   326,
   330,
   334,
   343,
   356,
   397,
   402,
   463,
   467,
   471,
   475,
   479,
   483,
   487,
   491,
   495,
   499,
   503,
   509,
   513,
   517,
   521,
   530
  ]
 },
 "nbformat": 4,
 "nbformat_minor": 5
}