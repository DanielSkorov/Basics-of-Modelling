{
 "cells": [
  {
   "cell_type": "markdown",
   "id": "55eed5f0",
   "metadata": {},
   "source": [
    "<a id='pvt.parameters.heat_capacity'></a>\n",
    "# Теплоемкость"
   ]
  },
  {
   "cell_type": "markdown",
   "id": "915343d8",
   "metadata": {},
   "source": [
    "<a id='pvt-parameters-heat_capacity-ideal_gas'></a>\n",
    "Для получения значения изменения внутренней энергии и энтальпии в неизотермическом процессе необходимо вычислить интеграл изохорной и изобарной теплоемкостей системы при $P \\rightarrow 0$ по температуре соотвественно. Если рассматриваемая система при низких значениях давления и рассматриваемых температурах может описываться уравнением состояния идеального газа, тогда:"
   ]
  },
  {
   "cell_type": "markdown",
   "id": "97158f95",
   "metadata": {},
   "source": [
    "$$C_V^* = C_P^* - n R.$$"
   ]
  },
  {
   "cell_type": "markdown",
   "id": "72ed8c39",
   "metadata": {},
   "source": [
    "Изобарная теплоемкость при низких давлениях для некоторых веществ может рассматриваться как функция температуры в следующем виде:"
   ]
  },
  {
   "cell_type": "markdown",
   "id": "8acf7917",
   "metadata": {},
   "source": [
    "$$C_P^* = a + b T + c T^2 + d T^3 + e T^4.$$"
   ]
  },
  {
   "cell_type": "markdown",
   "id": "9616b73b",
   "metadata": {},
   "source": [
    "Коэффициенты в данном уравнении для некоторых чистых веществ могут быть найдены в различных публикациях и [базах данных](https://www.cheric.org/research/kdb/hcprop/cmpsrch.php). Кроме того, корреляции для расчета изобарной теплоемкости, энтальпии и энтропии компонентов, находящихся в состоянии идеального газа, могут быть найдены в работе \\[[Passut and Danner, 1972](https://doi.org/10.1021/i260044a016)\\]. При этом, поскольку теплоемкость является экстенсивным параметром, то теплоемкость смеси на практике может быть рассчитана на основе известных теплоемкостей компонентов. При этом, данное правило применимо в том случае, когда на теплоемкость смеси не оказывает влияние межмолекулярное взаимодействие, или им можно пренебречь. Покажем, что приведенное выше выражение, связывающее между собой изохорную и изобарную теплоемкости, справедливо также и для [кубических уравнений состояния](../2-EOS/EOS-2-SRK-PR.html#pvt-eos-srk_pr)."
   ]
  },
  {
   "cell_type": "markdown",
   "id": "e87ef744",
   "metadata": {},
   "source": [
    "В общем виде соотношение между изохорной и изобарной теплоемкостями [записывается](./Parameters-1-InternalEnergy.html#pvt-parameters-internal_energy-isobaric_isochoric_heat_capacities) в следующем виде:"
   ]
  },
  {
   "cell_type": "markdown",
   "id": "a1690032",
   "metadata": {},
   "source": [
    "$$C_V = C_P - T \\left( \\frac{\\partial V}{\\partial T} \\right)_{P, n_i} \\left( \\frac{\\partial P}{\\partial T} \\right)_{V, n_i}.$$"
   ]
  },
  {
   "cell_type": "markdown",
   "id": "37688356",
   "metadata": {},
   "source": [
    "Если для идеального газа уравнение состояния записывается в виде $PV = n R T$, то для реальных систем вводится понятие коэффициента сверхсжимаемости, определяемого выражением:"
   ]
  },
  {
   "cell_type": "markdown",
   "id": "82117715",
   "metadata": {},
   "source": [
    "$$Z = \\frac{PV}{nRT}.$$"
   ]
  },
  {
   "cell_type": "markdown",
   "id": "f13760d9",
   "metadata": {},
   "source": [
    "Запишем частные производные коэффициента сверхсжимаемости по температуре при постоянных давлении и объеме:"
   ]
  },
  {
   "cell_type": "markdown",
   "id": "885047e9",
   "metadata": {},
   "source": [
    "$$ \\left( \\frac{\\partial Z}{\\partial T} \\right)_{P, n_i} = \\frac{P}{nR} \\frac{\\partial}{\\partial T} \\left( \\frac{V}{T} \\right)_{P, n_i} = \\frac{P}{nRT} \\left( \\frac{\\partial V}{\\partial T} \\right)_{P, n_i} - \\frac{PV}{nrT^2} = \\frac{P}{nRT} \\left( \\frac{\\partial V}{\\partial T} \\right)_{P, n_i} - \\frac{Z}{T}; \\\\ \\left( \\frac{\\partial Z}{\\partial T} \\right)_{V, n_i} = \\frac{V}{nR} \\frac{\\partial}{\\partial T} \\left( \\frac{P}{T} \\right)_{V, n_i} = \\frac{V}{nRT} \\left( \\frac{\\partial P}{\\partial T} \\right)_{V, n_i} - \\frac{PV}{nrT^2} = \\frac{V}{nRT} \\left( \\frac{\\partial P}{\\partial T} \\right)_{P, n_i} - \\frac{Z}{T}.$$"
   ]
  },
  {
   "cell_type": "markdown",
   "id": "00db42e9",
   "metadata": {},
   "source": [
    "Тогда частные производные объема и давления по температуре:"
   ]
  },
  {
   "cell_type": "markdown",
   "id": "037b56e3",
   "metadata": {},
   "source": [
    "$$\\left( \\frac{\\partial V}{\\partial T} \\right)_{P, n_i} = \\frac{nR}{P} \\left( Z + T \\left( \\frac{\\partial Z}{\\partial T} \\right)_{P, n_i} \\right); \\\\ \\left( \\frac{\\partial P}{\\partial T} \\right)_{V, n_i} = \\frac{nR}{V} \\left( Z + T \\left( \\frac{\\partial Z}{\\partial T} \\right)_{V, n_i} \\right).$$"
   ]
  },
  {
   "cell_type": "markdown",
   "id": "293b80a1",
   "metadata": {},
   "source": [
    "Тогда соотношение между изохорной и изобарной теплоемкостями можно записать в следующем виде:"
   ]
  },
  {
   "cell_type": "markdown",
   "id": "1d522516",
   "metadata": {},
   "source": [
    "$$C_V = C_P - \\frac{nRT}{Z} \\left( Z + T \\left( \\frac{\\partial Z}{\\partial T} \\right)_{P, n_i} \\right) \\left( Z + T \\left( \\frac{\\partial Z}{\\partial T} \\right)_{V, n_i} \\right).$$"
   ]
  },
  {
   "cell_type": "markdown",
   "id": "30579b6d",
   "metadata": {},
   "source": [
    "[Кубические уравнения состояния](../2-EOS/EOS-2-SRK-PR.html#pvt-eos-srk_pr-Z_PT) относительно коэффициента сверхсжимаемости:"
   ]
  },
  {
   "cell_type": "markdown",
   "id": "8da9781c",
   "metadata": {},
   "source": [
    "$$ Z^3 - \\left( 1 - c B \\right) Z^2 + \\left( A - \\left( c + 1 \\right) B - \\left( 2 c + 1\\right) B^2 \\right) Z^2 - \\left( A B - c \\left( B^2 + B^3 \\right) \\right) = 0. $$"
   ]
  },
  {
   "cell_type": "markdown",
   "id": "45f01ee8",
   "metadata": {},
   "source": [
    "Параметры $A$ и $B$:"
   ]
  },
  {
   "cell_type": "markdown",
   "id": "a85daff9",
   "metadata": {},
   "source": [
    "$$ \\begin{align*} A &= \\frac{\\alpha_m P}{R^2 T^2}; \\\\ B &= \\frac{b_m P}{R T}. \\end{align*}$$"
   ]
  },
  {
   "cell_type": "markdown",
   "id": "8c72d69c",
   "metadata": {},
   "source": [
    "При $P \\rightarrow 0$ параметры $A \\rightarrow 0$ и $B \\rightarrow 0$. Тогда уравнение состояния относительно коэффициента сверхсжимаемости:"
   ]
  },
  {
   "cell_type": "markdown",
   "id": "192bc268",
   "metadata": {},
   "source": [
    "$$Z^3 - Z^2 = 0.$$"
   ]
  },
  {
   "cell_type": "markdown",
   "id": "f3a3a196",
   "metadata": {},
   "source": [
    "То есть коэффициент сверхсжимаемости $Z \\rightarrow 1$ при $P \\rightarrow 0$. Поскольку коэффициент сверсхжимаемости становится равным константе, то его частные производные по температуре становятся равными нулю. Тогда соотношение между изохорной и изобарной теплоемкостью будет записываться аналогично соотношению, полученному при использовании уравнения состояния идеального газа. Таким образом, $C_V^* = C_P^* - n R$ свойственно и для систем, для которых применимы кубические уравнения состояния Суаве-Редлиха-Квонга и Пенга-Робинсона."
   ]
  },
  {
   "cell_type": "markdown",
   "id": "654bf3ae",
   "metadata": {},
   "source": [
    "```{admonition} NB\n",
    "Сделанный вывод также имеет следующее следствие. Если для рассматриваемой системы межмолекулярное взаимодействие достаточно велико, что им нельзя пренебречь, то коэффициент сверхсжимаемости можно записать:\n",
    "+++\n",
    "$$Z = Z_{EOS} + Z_{ImIn}.$$\n",
    "+++\n",
    "$ImIn$ – intermolecular interaction (межмолекулярное взаимодействие). На этом соотношении, например, основано CPA (cubic plus association) EOS, рассмотренное [ранее](../2-EOS/EOS-6-CPA.html#pvt-eos-cpa).\n",
    "```"
   ]
  },
  {
   "cell_type": "markdown",
   "id": "56d16933",
   "metadata": {},
   "source": [
    "<a id='pvt-parameters-heat_capacity-srk_pr-isochoric'></a>\n",
    "## Вывод выражения изохорной теплоемкости с использованием уравнений состояния Суаве-Редлиха-Квонга и Пенга-Робинсона"
   ]
  },
  {
   "cell_type": "markdown",
   "id": "5fd0bdae",
   "metadata": {},
   "source": [
    "Получим выражение для изохорной теплоемкости с использованием [уравнений состояния Пенга-Робинсона и Суаве-Редлиха-Квонга](../2-EOS/EOS-2-SRK-PR.html#pvt-eos-srk_pr). Для этого необходимо получить вторую частную производную давления по температуре при постоянном объеме и количестве вещества компонентов:"
   ]
  },
  {
   "cell_type": "markdown",
   "id": "7e239229",
   "metadata": {},
   "source": [
    "$$ \\left( \\frac{\\partial^2 P}{\\partial T^2} \\right)_{V, n_i} = - \\frac{n^2 \\left( \\frac{\\partial^2 \\alpha_m}{\\partial T^2} \\right)_{V, n_i}}{V^2 + \\left( c + 1 \\right) b_m n V - c b_m^2 n^2}.$$"
   ]
  },
  {
   "cell_type": "markdown",
   "id": "a06a95d4",
   "metadata": {},
   "source": [
    "Тогда интеграл в выражении для изохорной теплоемкости:"
   ]
  },
  {
   "cell_type": "markdown",
   "id": "3e314c7e",
   "metadata": {},
   "source": [
    "$$ \\begin{align}\n",
    "\\int_{\\infty}^{V} \\left( \\frac{\\partial^2 P}{\\partial T^2} \\right)_{V, n_i} dV\n",
    "&= - n^2 \\left( \\frac{\\partial^2 \\alpha_m}{\\partial T^2} \\right)_{V, n_i} \\int_{\\infty}^{V} \\frac{dV}{V^2 + \\left( c + 1 \\right) b_m n V - c b_m^2 n^2} \\\\\n",
    "&= - \\frac{n \\left( \\frac{\\partial^2 \\alpha_m}{\\partial T^2} \\right)_{V, n_i}}{b_m \\left(\\delta_2 - \\delta_1 \\right)} \\ln \\frac{V + b_m n \\delta_1}{V + b_m n \\delta_2} \\\\\n",
    "&= - \\frac{n \\left( \\frac{\\partial^2 \\alpha_m}{\\partial T^2} \\right)_{V, n_i}}{b_m \\left(\\delta_2 - \\delta_1 \\right)} \\ln \\frac{Z + \\delta_1 B}{Z + \\delta_2 B}.\n",
    "\\end{align} $$"
   ]
  },
  {
   "cell_type": "markdown",
   "id": "519b3bf2",
   "metadata": {},
   "source": [
    "С учетом этого изохорная теплоемкость:"
   ]
  },
  {
   "cell_type": "markdown",
   "id": "65b654ae",
   "metadata": {},
   "source": [
    "$$C_V = C_V^* - T \\frac{n \\left( \\frac{\\partial^2 \\alpha_m}{\\partial T^2} \\right)_{V, n_i}}{b_m \\left(\\delta_2 - \\delta_1 \\right)} \\ln \\frac{Z + \\delta_1 B}{Z + \\delta_2 B}.$$"
   ]
  },
  {
   "cell_type": "markdown",
   "id": "3afd650f",
   "metadata": {},
   "source": [
    "Аналогичное выражение может быть получено при рассмотрении производной внутренней энергии в изотермическом процессе по температуре при постоянном объеме."
   ]
  },
  {
   "cell_type": "markdown",
   "id": "e7d859cc",
   "metadata": {},
   "source": [
    "Вторая частная производная $\\alpha_m$ были рассмотрены [ранее](../2-EOS/EOS-Appendix-A-PD.md)."
   ]
  },
  {
   "cell_type": "markdown",
   "id": "eb8c0048",
   "metadata": {},
   "source": [
    "<a id='pvt-parameters-heat_capacity-srk_pr-isobaric'></a>\n",
    "## Вывод выражения изобарной теплоемкости с использованием уравнений состояния Суаве-Редлиха-Квонга и Пенга-Робинсона"
   ]
  },
  {
   "cell_type": "markdown",
   "id": "f821d2bd",
   "metadata": {},
   "source": [
    "Получим выражение для изобарной теплоемкости с использованием [уравнений состояния Пенга-Робинсона и Суаве-Редлиха-Квонга](../2-EOS/EOS-2-SRK-PR.html#pvt-eos-srk_pr). С учетом [определения](../1-TD/TD-5-Enthalpy.html#pvt-td-enthalpy-isobaric_heat_capacity) изобарной теплоемкости:"
   ]
  },
  {
   "cell_type": "markdown",
   "id": "1d6ae98b",
   "metadata": {},
   "source": [
    "$$ \\begin{alignat}{1}\n",
    "C_P\n",
    "&= & \\; C_P^* + n R \\left( Z - 1 \\right) + n R T \\left( \\frac{\\partial Z}{\\partial T} \\right)_{P, n_i} + \\frac{\\partial}{\\partial T} \\left( \\frac{n \\left( \\alpha_m - T \\left( \\frac{\\partial \\alpha_m}{\\partial T} \\right)_{V, n_i} \\right)}{b_m \\left( \\delta_2 - \\delta_1 \\right)} \\ln \\frac{Z + \\delta_1 B}{Z + \\delta_2 B} \\right)_{P, n_i} \\\\\n",
    "&= & \\; C_P^* + n R \\left( Z - 1 \\right) + n R T \\left( \\frac{\\partial Z}{\\partial T} \\right)_{P, n_i} - \\frac{n T \\left( \\frac{\\partial^2 \\alpha_m}{\\partial T^2} \\right)_{V, n_i}}{b_m \\left( \\delta_2 - \\delta_1 \\right)} \\ln \\frac{Z + \\delta_1 B}{Z + \\delta_2 B} + \\frac{n \\left( \\alpha_m - T \\left( \\frac{\\partial \\alpha_m}{\\partial T} \\right)_{V, n_i} \\right)}{b_m \\left( \\delta_2 - \\delta_1 \\right)} \\\\\n",
    "&& \\; + \\frac{\\partial}{\\partial T} \\left( \\ln \\frac{Z + \\delta_1 B}{Z + \\delta_2 B} \\right)_{P, n_i}. \n",
    "\\end{alignat}$$"
   ]
  },
  {
   "cell_type": "markdown",
   "id": "e00a3c87",
   "metadata": {},
   "source": [
    "Выражения для частных производных коэффициента сверхсжимаемости и параметра $B$ по температуре представлены в [приложении A в предыдущем разделе](../2-EOS/EOS-Appendix-A-PD.md)."
   ]
  },
  {
   "cell_type": "code",
   "execution_count": null,
   "id": "783f8268",
   "metadata": {},
   "outputs": [],
   "source": []
  },
  {
   "cell_type": "markdown",
   "id": "adf3d593",
   "metadata": {},
   "source": [
    "<a id='pvt.parameters.heat_capacity.sw.isochoric'></a>\n",
    "## Вывод выражения изохорной теплоемкости с использованием уравнения состояния Сорейде-Уитсона"
   ]
  },
  {
   "cell_type": "code",
   "execution_count": null,
   "id": "9f10fa56",
   "metadata": {},
   "outputs": [],
   "source": []
  },
  {
   "cell_type": "markdown",
   "id": "840bee1d",
   "metadata": {},
   "source": [
    "<a id='pvt.parameters.heat_capacity.sw.isobaric'></a>\n",
    "## Вывод выражения изобарной теплоемкости с использованием уравнения состояния Сорейде-Уитсона"
   ]
  },
  {
   "cell_type": "code",
   "execution_count": null,
   "id": "b01b9898",
   "metadata": {},
   "outputs": [],
   "source": []
  },
  {
   "cell_type": "markdown",
   "id": "366e60c0",
   "metadata": {},
   "source": [
    "<a id='pvt.parameters.heat_capacity.cpa.isochoric'></a>\n",
    "## Вывод выражения изохорной теплоемкости с использованием уравнения состояния CPA"
   ]
  },
  {
   "cell_type": "code",
   "execution_count": null,
   "id": "0b225721",
   "metadata": {},
   "outputs": [],
   "source": []
  },
  {
   "cell_type": "markdown",
   "id": "a5b1f8af",
   "metadata": {},
   "source": [
    "<a id='pvt.parameters.heat_capacity.cpa.isobaric'></a>\n",
    "## Вывод выражения изобарной теплоемкости с использованием уравнения состояния CPA"
   ]
  },
  {
   "cell_type": "code",
   "execution_count": null,
   "id": "254901d2",
   "metadata": {},
   "outputs": [],
   "source": []
  }
 ],
 "metadata": {
  "jupytext": {
   "text_representation": {
    "extension": ".md",
    "format_name": "myst",
    "format_version": 0.13,
    "jupytext_version": "1.10.3"
   }
  },
  "kernelspec": {
   "display_name": "Python 3 (ipykernel)",
   "language": "python",
   "name": "python3"
  },
  "language_info": {
   "codemirror_mode": {
    "name": "ipython",
    "version": 3
   },
   "file_extension": ".py",
   "mimetype": "text/x-python",
   "name": "python",
   "nbconvert_exporter": "python",
   "pygments_lexer": "ipython3",
   "version": "3.7.13"
  },
  "source_map": [
   12,
   17,
   22,
   26,
   30,
   34,
   38,
   42,
   46,
   50,
   54,
   58,
   62,
   66,
   70,
   74,
   78,
   82,
   86,
   90,
   94,
   98,
   102,
   106,
   115,
   120,
   124,
   128,
   132,
   141,
   145,
   149,
   153,
   157,
   162,
   166,
   175,
   181,
   185,
   192,
   196,
   203,
   207,
   214,
   218,
   225
  ]
 },
 "nbformat": 4,
 "nbformat_minor": 5
}