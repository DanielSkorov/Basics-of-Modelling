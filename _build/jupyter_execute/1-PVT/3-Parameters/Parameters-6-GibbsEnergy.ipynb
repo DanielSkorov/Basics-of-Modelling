{
 "cells": [
  {
   "cell_type": "markdown",
   "id": "399d3dbc",
   "metadata": {},
   "source": [
    "<a id='pvt-parameters-gibbs_energy'></a>\n",
    "# Энергия Гиббса"
   ]
  },
  {
   "cell_type": "markdown",
   "id": "db0c38cc",
   "metadata": {},
   "source": [
    "Дифференциал энергии Гиббса для изотермического квазистационарного процесса с постоянным количеством вещества в системе:"
   ]
  },
  {
   "cell_type": "markdown",
   "id": "1e7fa524",
   "metadata": {},
   "source": [
    "$$dG = \\sum_i n_i d \\mu_i = R T \\sum_i n_i d \\ln f_i.$$"
   ]
  },
  {
   "cell_type": "markdown",
   "id": "552fd3a0",
   "metadata": {},
   "source": [
    "С учетом этого, изменение энергии Гиббса в рассматриваемом процессе:"
   ]
  },
  {
   "cell_type": "markdown",
   "id": "28c27b28",
   "metadata": {},
   "source": [
    "$$\\Delta G = G - G^0 = \\sum_i n_i \\Delta \\mu_i = R T \\sum_i n_i \\ln \\frac{f_i}{f_i^0}.$$"
   ]
  },
  {
   "cell_type": "code",
   "execution_count": null,
   "id": "7c7ba8e7",
   "metadata": {},
   "outputs": [],
   "source": []
  }
 ],
 "metadata": {
  "jupytext": {
   "text_representation": {
    "extension": ".md",
    "format_name": "myst",
    "format_version": 0.13,
    "jupytext_version": "1.10.3"
   }
  },
  "kernelspec": {
   "display_name": "Python 3 (ipykernel)",
   "language": "python",
   "name": "python3"
  },
  "language_info": {
   "codemirror_mode": {
    "name": "ipython",
    "version": 3
   },
   "file_extension": ".py",
   "mimetype": "text/x-python",
   "name": "python",
   "nbconvert_exporter": "python",
   "pygments_lexer": "ipython3",
   "version": "3.7.13"
  },
  "source_map": [
   12,
   17,
   21,
   25,
   29,
   35
  ]
 },
 "nbformat": 4,
 "nbformat_minor": 5
}