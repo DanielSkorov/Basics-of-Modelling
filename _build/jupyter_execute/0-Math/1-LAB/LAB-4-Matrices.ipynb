{
 "cells": [
  {
   "cell_type": "code",
   "execution_count": 1,
   "id": "09e9c8cf",
   "metadata": {
    "tags": [
     "hide-input"
    ]
   },
   "outputs": [],
   "source": [
    "import numpy as np"
   ]
  },
  {
   "cell_type": "markdown",
   "id": "7eb4288a",
   "metadata": {},
   "source": [
    "<a id='math-lab-matrix'></a>\n",
    "# Матрицы"
   ]
  },
  {
   "cell_type": "markdown",
   "id": "c7d80d90",
   "metadata": {},
   "source": [
    "```{prf:определение}\n",
    ":nonumber:\n",
    "Под ***матрицей*** в общем смысле понимается совокупность строк и столбцов, на пересечении которых находяется элементы. В качестве элементов в разделе линейной алгебры используются действительные числа.\n",
    "```"
   ]
  },
  {
   "cell_type": "markdown",
   "id": "f64bf71e",
   "metadata": {},
   "source": [
    "Рассмотрим следующую матрицу:"
   ]
  },
  {
   "cell_type": "markdown",
   "id": "3dd592a9",
   "metadata": {},
   "source": [
    "$$M = \\begin{bmatrix} 3 & 5 & -17 \\\\ -1 & 0 & 10 \\end{bmatrix}.$$"
   ]
  },
  {
   "cell_type": "markdown",
   "id": "2c70f063",
   "metadata": {},
   "source": [
    "С использованием *[numpy](https://numpy.org/)* матрица задается следующим образом:"
   ]
  },
  {
   "cell_type": "code",
   "execution_count": 2,
   "id": "8ad4dae1",
   "metadata": {},
   "outputs": [
    {
     "data": {
      "text/plain": [
       "array([[  3,   5, -17],\n",
       "       [ -1,   0,  10]])"
      ]
     },
     "execution_count": 2,
     "metadata": {},
     "output_type": "execute_result"
    }
   ],
   "source": [
    "M = np.array([[3, 5, -17], [-1, 0, 10]])\n",
    "M"
   ]
  },
  {
   "cell_type": "markdown",
   "id": "a17efb44",
   "metadata": {},
   "source": [
    "Данная матрица состоит из двух строк и трех столбцов."
   ]
  },
  {
   "cell_type": "code",
   "execution_count": 3,
   "id": "19a5a713",
   "metadata": {},
   "outputs": [
    {
     "data": {
      "text/plain": [
       "(2, 3)"
      ]
     },
     "execution_count": 3,
     "metadata": {},
     "output_type": "execute_result"
    }
   ],
   "source": [
    "M.shape"
   ]
  },
  {
   "cell_type": "markdown",
   "id": "826df3f3",
   "metadata": {},
   "source": [
    "Если в матрице количество строк и/или столбцов равно 1, то такая матрица называется ***вектором***. Данная тема подробно освещалась в [разделе, посвященном векторам](./LAB-1-Vectors.html#math-lab-vector)."
   ]
  },
  {
   "cell_type": "markdown",
   "id": "26a31020",
   "metadata": {},
   "source": [
    "Чтобы ***умножить матрицу на число***, необходимо умножить каждый ее элемент на данное число:"
   ]
  },
  {
   "cell_type": "markdown",
   "id": "8b5b6d01",
   "metadata": {},
   "source": [
    "$$ \\lambda \\cdot M = \\lambda \\cdot \\begin{bmatrix} m_{11} & \\dots & m_{1k} \\\\ \\vdots & \\ddots & \\vdots \\\\ m_{n1} & \\dots & m_{nk} \\end{bmatrix} = \\begin{bmatrix} \\lambda \\cdot m_{11} & \\dots & \\lambda \\cdot m_{1k} \\\\ \\vdots & \\ddots & \\vdots \\\\ \\lambda \\cdot m_{n1} & \\dots & \\lambda \\cdot m_{nk} \\end{bmatrix}. $$"
   ]
  },
  {
   "cell_type": "code",
   "execution_count": 4,
   "id": "53cccf39",
   "metadata": {},
   "outputs": [
    {
     "data": {
      "text/plain": [
       "array([[  6,  10, -34],\n",
       "       [ -2,   0,  20]])"
      ]
     },
     "execution_count": 4,
     "metadata": {},
     "output_type": "execute_result"
    }
   ],
   "source": [
    "2 * M"
   ]
  },
  {
   "cell_type": "code",
   "execution_count": 5,
   "id": "5ddc0365",
   "metadata": {},
   "outputs": [
    {
     "data": {
      "text/plain": [
       "array([[  6,  10, -34],\n",
       "       [ -2,   0,  20]])"
      ]
     },
     "execution_count": 5,
     "metadata": {},
     "output_type": "execute_result"
    }
   ],
   "source": [
    "M * 2"
   ]
  },
  {
   "cell_type": "markdown",
   "id": "4c35c4c4",
   "metadata": {},
   "source": [
    "Чтобы ***сложить матрицы*** между собой, необходимо сложить их значения поэлементно. Можно складывать матрицы только с одинаковыми размерностями."
   ]
  },
  {
   "cell_type": "markdown",
   "id": "41fcd742",
   "metadata": {},
   "source": [
    "$$ M + P = \\begin{bmatrix} m_{11} & \\dots & m_{1k} \\\\ \\vdots & \\ddots & \\vdots \\\\ m_{n1} & \\dots & m_{nk} \\end{bmatrix} + \\begin{bmatrix} p_{11} & \\dots & p_{1k} \\\\ \\vdots & \\ddots & \\vdots \\\\ p_{n1} & \\dots & p_{nk} \\end{bmatrix} = \\begin{bmatrix} m_{11} + p_{11} & \\dots & m_{1k} + p_{1k} \\\\ \\vdots & \\ddots & \\vdots \\\\ m_{n1} + p_{n1} & \\dots & m_{nk} + p_{nk} \\end{bmatrix}. $$"
   ]
  },
  {
   "cell_type": "code",
   "execution_count": 6,
   "id": "eeb9b93f",
   "metadata": {},
   "outputs": [
    {
     "data": {
      "text/plain": [
       "array([[ 1,  3, 14],\n",
       "       [ 5,  2, -7]])"
      ]
     },
     "execution_count": 6,
     "metadata": {},
     "output_type": "execute_result"
    }
   ],
   "source": [
    "P = np.array([[1, 3, 14], [5, 2, -7]])\n",
    "P"
   ]
  },
  {
   "cell_type": "code",
   "execution_count": 7,
   "id": "fafad9de",
   "metadata": {},
   "outputs": [
    {
     "data": {
      "text/plain": [
       "array([[ 4,  8, -3],\n",
       "       [ 4,  2,  3]])"
      ]
     },
     "execution_count": 7,
     "metadata": {},
     "output_type": "execute_result"
    }
   ],
   "source": [
    "M + P"
   ]
  },
  {
   "cell_type": "code",
   "execution_count": 8,
   "id": "3742941a",
   "metadata": {},
   "outputs": [
    {
     "data": {
      "text/plain": [
       "array([[ 4,  8, -3],\n",
       "       [ 4,  2,  3]])"
      ]
     },
     "execution_count": 8,
     "metadata": {},
     "output_type": "execute_result"
    }
   ],
   "source": [
    "P + M"
   ]
  },
  {
   "cell_type": "markdown",
   "id": "81b1c62f",
   "metadata": {},
   "source": [
    "***Произведением двух матриц*** $M$ и $P$ называется матрица $Q$, элемент которой, находящийся на пересечении $i$-ой строки и $j$-го столбца равен сумме произведений элементов $i$-ой строки матрицы $M$ на соответствующие (по порядку) элементы $j$-го столбца матрицы $P$."
   ]
  },
  {
   "cell_type": "markdown",
   "id": "ca4849fc",
   "metadata": {},
   "source": [
    "$$ q_{ij}=m_{i1} \\cdot p_{1j} + m_{i2} \\cdot p_{2j} + \\ldots + m_{in} \\cdot p_{nj}. $$"
   ]
  },
  {
   "cell_type": "markdown",
   "id": "4603b699",
   "metadata": {},
   "source": [
    "Исходя из данного определения, количество столбцов матрицы $m$ должно быть равно количеству строк матрицы $p$."
   ]
  },
  {
   "cell_type": "code",
   "execution_count": 9,
   "id": "a36a8b18",
   "metadata": {},
   "outputs": [
    {
     "data": {
      "text/plain": [
       "array([[ 1,  2],\n",
       "       [-1,  3]])"
      ]
     },
     "execution_count": 9,
     "metadata": {},
     "output_type": "execute_result"
    }
   ],
   "source": [
    "M = np.array([[1, 2], [-1, 3]])\n",
    "M"
   ]
  },
  {
   "cell_type": "code",
   "execution_count": 10,
   "id": "7e33a4e0",
   "metadata": {},
   "outputs": [
    {
     "data": {
      "text/plain": [
       "array([[ 3,  5, -2],\n",
       "       [-1,  0, 10]])"
      ]
     },
     "execution_count": 10,
     "metadata": {},
     "output_type": "execute_result"
    }
   ],
   "source": [
    "P = np.array([[3, 5, -2], [-1, 0, 10]])\n",
    "P"
   ]
  },
  {
   "cell_type": "code",
   "execution_count": 11,
   "id": "dbd58a75",
   "metadata": {},
   "outputs": [
    {
     "data": {
      "text/plain": [
       "array([[ 1,  5, 18],\n",
       "       [-6, -5, 32]])"
      ]
     },
     "execution_count": 11,
     "metadata": {},
     "output_type": "execute_result"
    }
   ],
   "source": [
    "M.dot(P)"
   ]
  },
  {
   "cell_type": "markdown",
   "id": "b7388c36",
   "metadata": {},
   "source": [
    "Для того чтобы ***транспонировать матрицу***, нужно ее строки записать в столбцы транспонированной матрицы."
   ]
  },
  {
   "cell_type": "code",
   "execution_count": 12,
   "id": "52cf36e6",
   "metadata": {},
   "outputs": [
    {
     "data": {
      "text/plain": [
       "array([[ 1, -1],\n",
       "       [ 2,  3]])"
      ]
     },
     "execution_count": 12,
     "metadata": {},
     "output_type": "execute_result"
    }
   ],
   "source": [
    "np.transpose(M)"
   ]
  },
  {
   "cell_type": "markdown",
   "id": "8a5b8efd",
   "metadata": {},
   "source": [
    "Под ***следом матрицы*** понимается сумма компонентов главной диагонали квадратной матрицы."
   ]
  },
  {
   "cell_type": "code",
   "execution_count": 13,
   "id": "944eb1bd",
   "metadata": {},
   "outputs": [
    {
     "data": {
      "text/plain": [
       "array([[ 1,  3, 14],\n",
       "       [ 5,  2, -7],\n",
       "       [ 4, -2,  7]])"
      ]
     },
     "execution_count": 13,
     "metadata": {},
     "output_type": "execute_result"
    }
   ],
   "source": [
    "A = np.array([[1, 3, 14], [5, 2, -7], [4, -2, 7]])\n",
    "A"
   ]
  },
  {
   "cell_type": "code",
   "execution_count": 14,
   "id": "dfa49182",
   "metadata": {},
   "outputs": [
    {
     "data": {
      "text/plain": [
       "10"
      ]
     },
     "execution_count": 14,
     "metadata": {},
     "output_type": "execute_result"
    }
   ],
   "source": [
    "np.trace(A)"
   ]
  }
 ],
 "metadata": {
  "jupytext": {
   "text_representation": {
    "extension": ".md",
    "format_name": "myst",
    "format_version": 0.13,
    "jupytext_version": "1.10.3"
   }
  },
  "kernelspec": {
   "display_name": "Python 3 (ipykernel)",
   "language": "python",
   "name": "python3"
  },
  "language_info": {
   "codemirror_mode": {
    "name": "ipython",
    "version": 3
   },
   "file_extension": ".py",
   "mimetype": "text/x-python",
   "name": "python",
   "nbconvert_exporter": "python",
   "pygments_lexer": "ipython3",
   "version": "3.7.13"
  },
  "source_map": [
   14,
   20,
   25,
   32,
   36,
   40,
   46,
   51,
   57,
   61,
   65,
   69,
   75,
   81,
   85,
   89,
   95,
   102,
   108,
   112,
   116,
   120,
   126,
   133,
   140,
   144,
   150,
   154,
   158,
   165
  ]
 },
 "nbformat": 4,
 "nbformat_minor": 5
}