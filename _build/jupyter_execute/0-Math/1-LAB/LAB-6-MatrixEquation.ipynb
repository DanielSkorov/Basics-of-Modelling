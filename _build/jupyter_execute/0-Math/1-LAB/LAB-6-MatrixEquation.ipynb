{
 "cells": [
  {
   "cell_type": "code",
   "execution_count": 1,
   "id": "4b1a56f1",
   "metadata": {
    "tags": [
     "hide-input"
    ]
   },
   "outputs": [],
   "source": [
    "import numpy as np\n",
    "from sympy import Matrix, Symbol"
   ]
  },
  {
   "cell_type": "markdown",
   "id": "274402f4",
   "metadata": {},
   "source": [
    "<a id='math-lab-matrix_eq'></a>\n",
    "# Матричные уравнения"
   ]
  },
  {
   "cell_type": "markdown",
   "id": "43b86c35",
   "metadata": {},
   "source": [
    "Допустим, имеется следующая система линейных уравнений:"
   ]
  },
  {
   "cell_type": "markdown",
   "id": "c3283701",
   "metadata": {},
   "source": [
    "$$ \\left\\{\\begin{array}\\\\3x + 2y + z = 5 \\\\ 2x + 3y + z = -1 \\\\ 2x + y + 3z = 3\\end{array}\\right. $$"
   ]
  },
  {
   "cell_type": "markdown",
   "id": "82090bb7",
   "metadata": {},
   "source": [
    "Левую часть уравнений в данной системе можно представить в виде произведения двух матриц:"
   ]
  },
  {
   "cell_type": "markdown",
   "id": "f152bc85",
   "metadata": {},
   "source": [
    "$$ A \\cdot X, $$"
   ]
  },
  {
   "cell_type": "markdown",
   "id": "fb59fdce",
   "metadata": {},
   "source": [
    "где:"
   ]
  },
  {
   "cell_type": "markdown",
   "id": "1db59af8",
   "metadata": {},
   "source": [
    "$$ A = \\begin{bmatrix} 3 & 2 & 1 \\\\ 2 & 3 & 1 \\\\ 2 & 1 & 3 \\end{bmatrix}, \\; X = \\begin{bmatrix} x \\\\ y \\\\ z \\end{bmatrix}. $$"
   ]
  },
  {
   "cell_type": "code",
   "execution_count": 2,
   "id": "0076234e",
   "metadata": {},
   "outputs": [
    {
     "data": {
      "text/latex": [
       "$\\displaystyle \\left[\\begin{matrix}3 x + 2 y + z\\\\2 x + 3 y + z\\\\2 x + y + 3 z\\end{matrix}\\right]$"
      ],
      "text/plain": [
       "Matrix([\n",
       "[3*x + 2*y + z],\n",
       "[2*x + 3*y + z],\n",
       "[2*x + y + 3*z]])"
      ]
     },
     "execution_count": 2,
     "metadata": {},
     "output_type": "execute_result"
    }
   ],
   "source": [
    "from sympy import Matrix, Symbol\n",
    "A = Matrix([[3, 2, 1], [2, 3, 1], [2, 1, 3]])\n",
    "x = Symbol('x')\n",
    "y = Symbol('y')\n",
    "z = Symbol('z')\n",
    "X = Matrix([[x], [y], [z]])\n",
    "A * X"
   ]
  },
  {
   "cell_type": "markdown",
   "id": "bcb61d62",
   "metadata": {},
   "source": [
    "Правые части уравнений также можно представить в виде матрицы-столбца $B$:"
   ]
  },
  {
   "cell_type": "markdown",
   "id": "f53f1201",
   "metadata": {},
   "source": [
    "$$ B = \\begin{bmatrix} 5 \\\\ -1 \\\\ 3 \\end{bmatrix}. $$"
   ]
  },
  {
   "cell_type": "markdown",
   "id": "698112ac",
   "metadata": {},
   "source": [
    "Тогда исходную систему линейных уравнений можно представить в виде матричного уравнения:"
   ]
  },
  {
   "cell_type": "markdown",
   "id": "fb33a5dc",
   "metadata": {},
   "source": [
    "$$ A \\cdot X = B. $$"
   ]
  },
  {
   "cell_type": "markdown",
   "id": "db41114f",
   "metadata": {},
   "source": [
    "Домножим обе части уравнения на $A^{-1}$:"
   ]
  },
  {
   "cell_type": "markdown",
   "id": "cad4c717",
   "metadata": {},
   "source": [
    "$$ A^{-1} \\cdot A \\cdot X = A^{-1} \\cdot B. $$"
   ]
  },
  {
   "cell_type": "markdown",
   "id": "3a4b2981",
   "metadata": {},
   "source": [
    "Левую часть уравнения можно упростить, применив определение обратной матрицы:"
   ]
  },
  {
   "cell_type": "markdown",
   "id": "7ce7e0a3",
   "metadata": {},
   "source": [
    "$$ X = A^{-1} \\cdot B. $$"
   ]
  },
  {
   "cell_type": "code",
   "execution_count": 3,
   "id": "94759b84",
   "metadata": {},
   "outputs": [
    {
     "data": {
      "text/plain": [
       "array([[ 3.5],\n",
       "       [-2.5],\n",
       "       [-0.5]])"
      ]
     },
     "execution_count": 3,
     "metadata": {},
     "output_type": "execute_result"
    }
   ],
   "source": [
    "A = np.array([[3, 2, 1], [2, 3, 1], [2, 1, 3]])\n",
    "B = np.array([[5], [-1], [3]])\n",
    "X = np.linalg.inv(A).dot(B)\n",
    "X"
   ]
  },
  {
   "cell_type": "markdown",
   "id": "76c83e0a",
   "metadata": {},
   "source": [
    "Проверка:"
   ]
  },
  {
   "cell_type": "code",
   "execution_count": 4,
   "id": "833987d4",
   "metadata": {},
   "outputs": [
    {
     "data": {
      "text/plain": [
       "array([[ 5.],\n",
       "       [-1.],\n",
       "       [ 3.]])"
      ]
     },
     "execution_count": 4,
     "metadata": {},
     "output_type": "execute_result"
    }
   ],
   "source": [
    "A.dot(X)"
   ]
  }
 ],
 "metadata": {
  "jupytext": {
   "text_representation": {
    "extension": ".md",
    "format_name": "myst",
    "format_version": 0.13,
    "jupytext_version": "1.10.3"
   }
  },
  "kernelspec": {
   "display_name": "Python 3 (ipykernel)",
   "language": "python",
   "name": "python3"
  },
  "language_info": {
   "codemirror_mode": {
    "name": "ipython",
    "version": 3
   },
   "file_extension": ".py",
   "mimetype": "text/x-python",
   "name": "python",
   "nbconvert_exporter": "python",
   "pygments_lexer": "ipython3",
   "version": "3.7.13"
  },
  "source_map": [
   14,
   21,
   26,
   30,
   34,
   38,
   42,
   46,
   52,
   62,
   66,
   70,
   74,
   78,
   82,
   86,
   90,
   96,
   103,
   109
  ]
 },
 "nbformat": 4,
 "nbformat_minor": 5
}