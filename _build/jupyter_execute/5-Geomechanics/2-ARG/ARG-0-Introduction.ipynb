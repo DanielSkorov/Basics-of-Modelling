{
 "cells": [
  {
   "cell_type": "markdown",
   "id": "35ac48e1",
   "metadata": {},
   "source": [
    "<a id='geomech-arg'></a>\n",
    "# Основные вопросы геомеханического моделирования"
   ]
  },
  {
   "cell_type": "markdown",
   "id": "f2e0f9fa",
   "metadata": {},
   "source": [
    "**Содержание:**"
   ]
  },
  {
   "cell_type": "code",
   "execution_count": null,
   "id": "bbc215b5",
   "metadata": {},
   "outputs": [],
   "source": []
  }
 ],
 "metadata": {
  "jupytext": {
   "text_representation": {
    "extension": ".md",
    "format_name": "myst",
    "format_version": 0.13,
    "jupytext_version": "1.10.3"
   }
  },
  "kernelspec": {
   "display_name": "Python 3 (ipykernel)",
   "language": "python",
   "name": "python3"
  },
  "language_info": {
   "codemirror_mode": {
    "name": "ipython",
    "version": 3
   },
   "file_extension": ".py",
   "mimetype": "text/x-python",
   "name": "python",
   "nbconvert_exporter": "python",
   "pygments_lexer": "ipython3",
   "version": "3.7.13"
  },
  "source_map": [
   12,
   17,
   21
  ]
 },
 "nbformat": 4,
 "nbformat_minor": 5
}